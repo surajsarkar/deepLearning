{
  "nbformat": 4,
  "nbformat_minor": 0,
  "metadata": {
    "colab": {
      "provenance": [],
      "authorship_tag": "ABX9TyMd4T74p3Yek7d6X0ob0/eV",
      "include_colab_link": true
    },
    "kernelspec": {
      "name": "python3",
      "display_name": "Python 3"
    },
    "language_info": {
      "name": "python"
    },
    "accelerator": "GPU",
    "gpuClass": "standard"
  },
  "cells": [
    {
      "cell_type": "markdown",
      "metadata": {
        "id": "view-in-github",
        "colab_type": "text"
      },
      "source": [
        "<a href=\"https://colab.research.google.com/github/surajsarkar/deepLearning/blob/main/notebooks/04_exercise_deep_learning_with_tensor_flow.ipynb\" target=\"_parent\"><img src=\"https://colab.research.google.com/assets/colab-badge.svg\" alt=\"Open In Colab\"/></a>"
      ]
    },
    {
      "cell_type": "markdown",
      "source": [
        "# **Transfer learning with full data**"
      ],
      "metadata": {
        "id": "ZCFd82KA_ZTZ"
      }
    },
    {
      "cell_type": "markdown",
      "source": [
        "## **Download the data**"
      ],
      "metadata": {
        "id": "0PmkdQnj_gjY"
      }
    },
    {
      "cell_type": "code",
      "execution_count": null,
      "metadata": {
        "colab": {
          "base_uri": "https://localhost:8080/"
        },
        "id": "Ukp3_iq-_R5w",
        "outputId": "c0ebed7d-cb53-48ce-8891-098685e1eafe"
      },
      "outputs": [
        {
          "output_type": "stream",
          "name": "stdout",
          "text": [
            "--2022-06-14 09:40:03--  https://storage.googleapis.com/ztm_tf_course/food_vision/10_food_classes_all_data.zip\n",
            "Resolving storage.googleapis.com (storage.googleapis.com)... 172.253.117.128, 142.250.99.128, 173.194.202.128, ...\n",
            "Connecting to storage.googleapis.com (storage.googleapis.com)|172.253.117.128|:443... connected.\n",
            "HTTP request sent, awaiting response... 200 OK\n",
            "Length: 519183241 (495M) [application/zip]\n",
            "Saving to: ‘10_food_classes_all_data.zip’\n",
            "\n",
            "10_food_classes_all 100%[===================>] 495.13M   317MB/s    in 1.6s    \n",
            "\n",
            "2022-06-14 09:40:05 (317 MB/s) - ‘10_food_classes_all_data.zip’ saved [519183241/519183241]\n",
            "\n"
          ]
        }
      ],
      "source": [
        "!wget https://storage.googleapis.com/ztm_tf_course/food_vision/10_food_classes_all_data.zip"
      ]
    },
    {
      "cell_type": "code",
      "source": [
        "# Unzip the file\n",
        "import zipfile\n",
        "\n",
        "with zipfile.ZipFile(\"10_food_classes_all_data.zip\") as zip_ref:\n",
        "  zip_ref.extractall()"
      ],
      "metadata": {
        "id": "vGuSVcKv_syP"
      },
      "execution_count": null,
      "outputs": []
    },
    {
      "cell_type": "code",
      "source": [
        "# Import modules\n",
        "import tensorflow as tf\n",
        "from tensorflow.keras.preprocessing.image import ImageDataGenerator\n",
        "from tensorflow.keras import Sequential\n",
        "from tensorflow.keras.layers import Dense\n",
        "from tensorflow.keras.optimizers import Adam \n"
      ],
      "metadata": {
        "id": "WKEokMQAAFt-"
      },
      "execution_count": null,
      "outputs": []
    },
    {
      "cell_type": "code",
      "source": [
        "# Create Image generators\n",
        "train_dir = \"10_food_classes_all_data/train/\"\n",
        "test_dir = \"10_food_classes_all_data/test/\"\n",
        "\n",
        "\n",
        "train_datagen = ImageDataGenerator(rescale=1/255.)\n",
        "test_datagen = ImageDataGenerator(rescale=1/255.)\n",
        "\n",
        "print(\"Traning Data \\n\")\n",
        "train_data = train_datagen.flow_from_directory(directory=train_dir,\n",
        "                           target_size = (224, 224)\n",
        "                           )\n",
        "\n",
        "print(\"Test Data \\n\")\n",
        "test_data = test_datagen.flow_from_directory(directory=test_dir,\n",
        "                                             target_size=(224, 224))"
      ],
      "metadata": {
        "colab": {
          "base_uri": "https://localhost:8080/"
        },
        "id": "Vn6wwbUEAzlT",
        "outputId": "9b76510a-e457-4102-d45d-7fe151a4cfff"
      },
      "execution_count": null,
      "outputs": [
        {
          "output_type": "stream",
          "name": "stdout",
          "text": [
            "Traning Data \n",
            "\n",
            "Found 7500 images belonging to 10 classes.\n",
            "Test Data \n",
            "\n",
            "Found 2500 images belonging to 10 classes.\n"
          ]
        }
      ]
    },
    {
      "cell_type": "code",
      "source": [
        "import tensorflow_hub as hub "
      ],
      "metadata": {
        "id": "14Vv2ym2CowL"
      },
      "execution_count": null,
      "outputs": []
    },
    {
      "cell_type": "code",
      "source": [
        "resnet_url = \"https://tfhub.dev/google/imagenet/resnet_v2_50/feature_vector/4\"\n",
        "\n",
        "efficientnet_url = \"https://tfhub.dev/tensorflow/efficientnet/b0/feature-vector/1\""
      ],
      "metadata": {
        "id": "YBCBPsMLD1e1"
      },
      "execution_count": null,
      "outputs": []
    },
    {
      "cell_type": "code",
      "source": [
        "from tensorflow.keras import layers"
      ],
      "metadata": {
        "id": "AsigFt9-Fx5r"
      },
      "execution_count": null,
      "outputs": []
    },
    {
      "cell_type": "code",
      "source": [
        "# Create function to make and compile model.\n",
        "\n",
        "# def create_model(hub_url):\n",
        "#   feature_extractor_layer = hub.KerasLayer(hub_url, \n",
        "#                                            trainable=False, \n",
        "#                                            name=\"feature_extractor_layer\", \n",
        "#                                            input_shape=(224, 224, 3))\n",
        "#   model = Sequential([\n",
        "#     feature_extractor_layer,\n",
        "#     layers.Dense(10, activation=\"softmax\", name=\"Output layer\")  \n",
        "#   ])\n",
        "\n",
        "#   return model\n"
      ],
      "metadata": {
        "id": "VcD0G6mqCAmE"
      },
      "execution_count": null,
      "outputs": []
    },
    {
      "cell_type": "code",
      "source": [
        "IMAGE_SIZE = (224, 224)"
      ],
      "metadata": {
        "id": "MP6DLegrIgRK"
      },
      "execution_count": null,
      "outputs": []
    },
    {
      "cell_type": "code",
      "source": [
        "def create_model(model_url, num_classes=10):\n",
        "\n",
        "  # Download the pretrained model and save it as a Keras layer \n",
        "  feature_extractor_layer = hub.KerasLayer(model_url, \n",
        "                                           trainable=False, # freeze the already trained pattern\n",
        "                                           name=\"feature_extraction_layer\",\n",
        "                                           input_shape=IMAGE_SIZE + (3,))\n",
        "  \n",
        "  # Create our own model \n",
        "  model = tf.keras.Sequential([\n",
        "    feature_extractor_layer,\n",
        "    layers.Dense(num_classes, activation=\"softmax\", name=\"output_layer\")\n",
        "  ])\n",
        "  \n",
        "  return model"
      ],
      "metadata": {
        "id": "l8QGTv0mIC3g"
      },
      "execution_count": null,
      "outputs": []
    },
    {
      "cell_type": "code",
      "source": [
        "train_data.num_classes"
      ],
      "metadata": {
        "colab": {
          "base_uri": "https://localhost:8080/"
        },
        "id": "NI41Wqs4ILaZ",
        "outputId": "a37869cc-9b38-4c66-8f08-865920f97bc4"
      },
      "execution_count": null,
      "outputs": [
        {
          "output_type": "execute_result",
          "data": {
            "text/plain": [
              "10"
            ]
          },
          "metadata": {},
          "execution_count": 12
        }
      ]
    },
    {
      "cell_type": "code",
      "source": [
        "resnet_model = create_model(model_url=resnet_url, num_classes=train_data.num_classes)\n",
        "\n",
        "resnet_model.compile(\n",
        "    loss=\"categorical_crossentropy\",\n",
        "    optimizer=tf.keras.optimizers.Adam(),\n",
        "    metrics = [\"accuracy\"]\n",
        ")\n",
        "resnet_model.fit(train_data,\n",
        "                 epochs=5,\n",
        "                 steps_per_epoch=len(train_data),\n",
        "                 validation_data=test_data,\n",
        "                 validation_steps=len(test_data))"
      ],
      "metadata": {
        "colab": {
          "base_uri": "https://localhost:8080/"
        },
        "id": "64_5yvEDD238",
        "outputId": "d2b46f6d-f9eb-4acc-de0c-5060944dc5d0"
      },
      "execution_count": null,
      "outputs": [
        {
          "output_type": "stream",
          "name": "stdout",
          "text": [
            "Epoch 1/5\n",
            "235/235 [==============================] - 70s 237ms/step - loss: 0.9051 - accuracy: 0.7052 - val_loss: 0.5233 - val_accuracy: 0.8280\n",
            "Epoch 2/5\n",
            "235/235 [==============================] - 53s 226ms/step - loss: 0.5353 - accuracy: 0.8252 - val_loss: 0.4693 - val_accuracy: 0.8424\n",
            "Epoch 3/5\n",
            "235/235 [==============================] - 51s 217ms/step - loss: 0.4359 - accuracy: 0.8581 - val_loss: 0.4700 - val_accuracy: 0.8416\n",
            "Epoch 4/5\n",
            "235/235 [==============================] - 48s 205ms/step - loss: 0.3709 - accuracy: 0.8841 - val_loss: 0.4611 - val_accuracy: 0.8456\n",
            "Epoch 5/5\n",
            "235/235 [==============================] - 48s 204ms/step - loss: 0.3175 - accuracy: 0.9048 - val_loss: 0.4615 - val_accuracy: 0.8484\n"
          ]
        },
        {
          "output_type": "execute_result",
          "data": {
            "text/plain": [
              "<keras.callbacks.History at 0x7f81f0ddfb50>"
            ]
          },
          "metadata": {},
          "execution_count": 13
        }
      ]
    },
    {
      "cell_type": "code",
      "source": [
        "efficientnet_model = create_model(efficientnet_url)\n",
        "\n",
        "efficientnet_model.compile(\n",
        "    loss=\"categorical_crossentropy\",\n",
        "    optimizer = Adam(),\n",
        "    metrics = [\"accuracy\"]\n",
        ")\n",
        "\n",
        "\n",
        "efficientnet_model.fit(train_data,\n",
        "                       epochs=5,\n",
        "                       steps_per_epoch=len(train_data),\n",
        "                       validation_data=test_data,\n",
        "                       validation_steps=len(test_data))"
      ],
      "metadata": {
        "colab": {
          "base_uri": "https://localhost:8080/"
        },
        "id": "9ypJQuUdEd_2",
        "outputId": "bcf4c1d7-af44-435a-b844-286282cd6d5d"
      },
      "execution_count": null,
      "outputs": [
        {
          "output_type": "stream",
          "name": "stdout",
          "text": [
            "Epoch 1/5\n",
            "235/235 [==============================] - 56s 204ms/step - loss: 0.8120 - accuracy: 0.7780 - val_loss: 0.4028 - val_accuracy: 0.8860\n",
            "Epoch 2/5\n",
            "235/235 [==============================] - 47s 200ms/step - loss: 0.4473 - accuracy: 0.8653 - val_loss: 0.3292 - val_accuracy: 0.9032\n",
            "Epoch 3/5\n",
            "235/235 [==============================] - 46s 196ms/step - loss: 0.3744 - accuracy: 0.8888 - val_loss: 0.3031 - val_accuracy: 0.9068\n",
            "Epoch 4/5\n",
            "235/235 [==============================] - 46s 197ms/step - loss: 0.3294 - accuracy: 0.9017 - val_loss: 0.2866 - val_accuracy: 0.9124\n",
            "Epoch 5/5\n",
            "235/235 [==============================] - 46s 196ms/step - loss: 0.2984 - accuracy: 0.9099 - val_loss: 0.2761 - val_accuracy: 0.9148\n"
          ]
        },
        {
          "output_type": "execute_result",
          "data": {
            "text/plain": [
              "<keras.callbacks.History at 0x7f7f5e956890>"
            ]
          },
          "metadata": {},
          "execution_count": 14
        }
      ]
    },
    {
      "cell_type": "code",
      "source": [
        "mobilenet_url = \"https://tfhub.dev/google/imagenet/mobilenet_v2_100_224/feature_vector/5\""
      ],
      "metadata": {
        "id": "LrN3aPR-KP1t"
      },
      "execution_count": null,
      "outputs": []
    },
    {
      "cell_type": "code",
      "source": [
        "mobilenet_model = create_model(mobilenet_url, train_data.num_classes)\n",
        "\n",
        "mobilenet_model.compile(\n",
        "    loss=\"categorical_crossentropy\",\n",
        "    optimizer=tf.keras.optimizers.Adam(),\n",
        "    metrics=[\"accuracy\"]  \n",
        ")\n",
        "\n",
        "mobilenet_model.fit(train_data, \n",
        "                     epochs=5, \n",
        "                     steps_per_epoch=len(train_data),\n",
        "                     validation_data=test_data,\n",
        "                     validation_steps=len(test_data))"
      ],
      "metadata": {
        "colab": {
          "base_uri": "https://localhost:8080/"
        },
        "id": "YyOknTyulhEK",
        "outputId": "2104c4dc-d61a-4209-d9f4-28e3e2d22339"
      },
      "execution_count": null,
      "outputs": [
        {
          "output_type": "stream",
          "name": "stdout",
          "text": [
            "Epoch 1/5\n",
            "235/235 [==============================] - 49s 196ms/step - loss: 0.8717 - accuracy: 0.7228 - val_loss: 0.5129 - val_accuracy: 0.8320\n",
            "Epoch 2/5\n",
            "235/235 [==============================] - 45s 193ms/step - loss: 0.5378 - accuracy: 0.8288 - val_loss: 0.4608 - val_accuracy: 0.8508\n",
            "Epoch 3/5\n",
            "235/235 [==============================] - 46s 195ms/step - loss: 0.4580 - accuracy: 0.8528 - val_loss: 0.4322 - val_accuracy: 0.8584\n",
            "Epoch 4/5\n",
            "235/235 [==============================] - 45s 191ms/step - loss: 0.4017 - accuracy: 0.8705 - val_loss: 0.4149 - val_accuracy: 0.8676\n",
            "Epoch 5/5\n",
            "235/235 [==============================] - 45s 193ms/step - loss: 0.3623 - accuracy: 0.8847 - val_loss: 0.4153 - val_accuracy: 0.8648\n"
          ]
        },
        {
          "output_type": "execute_result",
          "data": {
            "text/plain": [
              "<keras.callbacks.History at 0x7f7f58993890>"
            ]
          },
          "metadata": {},
          "execution_count": 16
        }
      ]
    }
  ]
}