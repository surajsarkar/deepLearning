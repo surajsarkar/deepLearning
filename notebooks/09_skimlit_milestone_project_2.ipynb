{
  "nbformat": 4,
  "nbformat_minor": 0,
  "metadata": {
    "colab": {
      "provenance": [],
      "authorship_tag": "ABX9TyPnb/N2ceVyldSMXKliIyIj",
      "include_colab_link": true
    },
    "kernelspec": {
      "name": "python3",
      "display_name": "Python 3"
    },
    "language_info": {
      "name": "python"
    },
    "accelerator": "GPU",
    "gpuClass": "standard"
  },
  "cells": [
    {
      "cell_type": "markdown",
      "metadata": {
        "id": "view-in-github",
        "colab_type": "text"
      },
      "source": [
        "<a href=\"https://colab.research.google.com/github/surajsarkar/deepLearning/blob/main/notebooks/09_skimlit_milestone_project_2.ipynb\" target=\"_parent\"><img src=\"https://colab.research.google.com/assets/colab-badge.svg\" alt=\"Open In Colab\"/></a>"
      ]
    },
    {
      "cell_type": "markdown",
      "source": [
        "# SkimLit 📖🔥 "
      ],
      "metadata": {
        "id": "-wGOHt3SPH7k"
      }
    },
    {
      "cell_type": "markdown",
      "source": [
        "### Check which **GPU** we are using "
      ],
      "metadata": {
        "id": "N-_8vEU_PbgZ"
      }
    },
    {
      "cell_type": "code",
      "source": [
        "!nvidia-smi -L "
      ],
      "metadata": {
        "colab": {
          "base_uri": "https://localhost:8080/"
        },
        "id": "yLtAMiTiPl2s",
        "outputId": "c667ad80-1371-49f3-ca28-ed8d3e6a6244"
      },
      "execution_count": null,
      "outputs": [
        {
          "output_type": "stream",
          "name": "stdout",
          "text": [
            "GPU 0: Tesla T4 (UUID: GPU-f489289c-5867-d056-1bad-3607a1789672)\n"
          ]
        }
      ]
    },
    {
      "cell_type": "markdown",
      "source": [
        "## Get the data"
      ],
      "metadata": {
        "id": "fB-ygLw9Pqd0"
      }
    },
    {
      "cell_type": "code",
      "source": [
        "!git clone https://github.com/Franck-Dernoncourt/pubmed-rct.git\n",
        "!ls pubmed-rct"
      ],
      "metadata": {
        "colab": {
          "base_uri": "https://localhost:8080/"
        },
        "id": "xl23K2TSPu8j",
        "outputId": "73c2bc12-6079-4e72-ad29-f4fbade5c7a0"
      },
      "execution_count": null,
      "outputs": [
        {
          "output_type": "stream",
          "name": "stdout",
          "text": [
            "Cloning into 'pubmed-rct'...\n",
            "remote: Enumerating objects: 33, done.\u001b[K\n",
            "remote: Counting objects: 100% (8/8), done.\u001b[K\n",
            "remote: Compressing objects: 100% (3/3), done.\u001b[K\n",
            "remote: Total 33 (delta 5), reused 5 (delta 5), pack-reused 25\n",
            "Unpacking objects: 100% (33/33), done.\n",
            "PubMed_200k_RCT\n",
            "PubMed_200k_RCT_numbers_replaced_with_at_sign\n",
            "PubMed_20k_RCT\n",
            "PubMed_20k_RCT_numbers_replaced_with_at_sign\n",
            "README.md\n"
          ]
        }
      ]
    },
    {
      "cell_type": "code",
      "source": [
        "# Check what files are in the pubmed_20K folder\n",
        "!ls pubmed-rct/PubMed_20k_RCT_numbers_replaced_with_at_sign/"
      ],
      "metadata": {
        "colab": {
          "base_uri": "https://localhost:8080/"
        },
        "id": "gJkSWF8MRAxY",
        "outputId": "52ceb3f2-e2f0-4115-ed4f-83e54d4c2362"
      },
      "execution_count": null,
      "outputs": [
        {
          "output_type": "stream",
          "name": "stdout",
          "text": [
            "dev.txt  test.txt  train.txt\n"
          ]
        }
      ]
    },
    {
      "cell_type": "markdown",
      "source": [
        "## Becoming one with the data"
      ],
      "metadata": {
        "id": "fo9KP_jqSTow"
      }
    },
    {
      "cell_type": "code",
      "source": [
        "data_dir = \"/content/pubmed-rct/PubMed_20k_RCT_numbers_replaced_with_at_sign/\""
      ],
      "metadata": {
        "id": "EkdweCS7T3Vb"
      },
      "execution_count": null,
      "outputs": []
    },
    {
      "cell_type": "code",
      "source": [
        "import os \n",
        "\n",
        "filepaths = [data_dir + filename for filename in os.listdir(data_dir)]\n",
        "filepaths"
      ],
      "metadata": {
        "colab": {
          "base_uri": "https://localhost:8080/"
        },
        "id": "bhCiwTfpUAxV",
        "outputId": "2f2b0c52-c416-413d-c367-e7e2ba79b295"
      },
      "execution_count": null,
      "outputs": [
        {
          "output_type": "execute_result",
          "data": {
            "text/plain": [
              "['/content/pubmed-rct/PubMed_20k_RCT_numbers_replaced_with_at_sign/train.txt',\n",
              " '/content/pubmed-rct/PubMed_20k_RCT_numbers_replaced_with_at_sign/test.txt',\n",
              " '/content/pubmed-rct/PubMed_20k_RCT_numbers_replaced_with_at_sign/dev.txt']"
            ]
          },
          "metadata": {},
          "execution_count": 9
        }
      ]
    },
    {
      "cell_type": "markdown",
      "source": [
        "## Preprocessing Data"
      ],
      "metadata": {
        "id": "gdufcihyUQsE"
      }
    },
    {
      "cell_type": "code",
      "source": [
        "# Create function to read the the lines of the document \n",
        "def read_file(filepath):\n",
        "  \"\"\"\n",
        "  Reads filename (a text filename) and returns the lines of text as a list\n",
        "  \n",
        "  Args:\n",
        "    filepath: path of the file \n",
        "  \"\"\"\n",
        "  with open(filepath, \"r\") as file:\n",
        "    contents = file.readlines()\n",
        "    return contents "
      ],
      "metadata": {
        "id": "6ljX9O3eWnpF"
      },
      "execution_count": null,
      "outputs": []
    },
    {
      "cell_type": "code",
      "source": [
        "train_lines = read_file(filepaths[1])\n",
        "train_lines[:20]"
      ],
      "metadata": {
        "colab": {
          "base_uri": "https://localhost:8080/"
        },
        "id": "WBGf_W8aaKw_",
        "outputId": "712a0e48-3be9-4159-b28f-5b1093ca0689"
      },
      "execution_count": null,
      "outputs": [
        {
          "output_type": "execute_result",
          "data": {
            "text/plain": [
              "['###24845963\\n',\n",
              " 'BACKGROUND\\tThis study analyzed liver function abnormalities in heart failure patients admitted with severe acute decompensated heart failure ( ADHF ) .\\n',\n",
              " 'RESULTS\\tA post hoc analysis was conducted with the use of data from the Evaluation Study of Congestive Heart Failure and Pulmonary Artery Catheterization Effectiveness ( ESCAPE ) .\\n',\n",
              " 'RESULTS\\tLiver function tests ( LFTs ) were measured at @ time points from baseline , at discharge , and up to @ months follow-up .\\n',\n",
              " 'RESULTS\\tSurvival analyses were used to assess the association between admission Model of End-Stage Liver Disease Excluding International Normalized Ratio ( MELD-XI ) scores and patient outcome.There was a high prevalence of abnormal baseline ( admission ) LFTs ( albumin @ % , aspartate transaminase @ % , alanine transaminase @ % , and total bilirubin @ % ) .\\n',\n",
              " \"RESULTS\\tThe percentage of patients with abnormal LFTs decreased significantly from baseline to @-months ' follow-up .\\n\",\n",
              " 'RESULTS\\tWhen mean hemodynamic profiles were compared in patients with abnormal versus normal LFTs , elevated total bilirubin was associated with a significantly lower cardiac index ( @ vs @ ; P < @ ) and higher central venous pressure ( @ vs @ ; P = @ ) .\\n',\n",
              " 'RESULTS\\tMultivariable analyses revealed that patients with elevated MELD-XI scores ( @ ) had a @-fold ( hazard ratio@ @ , @ % confidence interval @-@ @ ) increased risk of death , rehospitalization , or transplantation after adjusting for baseline LFTs , age , sex , race , body mass index , diabetes , and systolic blood pressure .\\n',\n",
              " 'CONCLUSIONS\\tAbnormal LFTs are common in the ADHF population and are a dynamic marker of an impaired hemodynamic state .\\n',\n",
              " 'CONCLUSIONS\\tElevated MELD-XI scores are associated with poor outcomes among patients admitted with ADHF .\\n',\n",
              " '\\n',\n",
              " '###24469619\\n',\n",
              " 'BACKGROUND\\tMinimally invasive endovascular aneurysm repair ( EVAR ) could be a surgical technique that improves outcome of patients with ruptured abdominal aortic aneurysm ( rAAA ) .\\n',\n",
              " 'BACKGROUND\\tThe aim of this study was to analyse the cost-effectiveness and cost-utility of EVAR compared with standard open repair ( OR ) in the treatment of rAAA , with costs per @-day and @-month survivor as outcome parameters .\\n',\n",
              " 'METHODS\\tResource use was determined from the Amsterdam Acute Aneurysm ( AJAX ) trial , a multicentre randomized trial comparing EVAR with OR in patients with rAAA .\\n',\n",
              " 'METHODS\\tThe analysis was performed from a provider perspective .\\n',\n",
              " 'METHODS\\tAll costs were calculated as if all patients had been treated in the same hospital ( Onze Lieve Vrouwe Gasthuis , teaching hospital ) .\\n',\n",
              " 'RESULTS\\tA total of @ patients were randomized .\\n',\n",
              " 'RESULTS\\tThe @-day mortality rate was @ per cent after EVAR and @ per cent for OR : absolute risk reduction ( ARR ) @ ( @ per cent confidence interval ( c.i. ) -@ to @ ) per cent .\\n',\n",
              " 'RESULTS\\tAt @months , the total mortality rate for EVAR was @ per cent , compared with @ per cent among those assigned to OR : ARR @ ( -@ to @ ) per cent .\\n']"
            ]
          },
          "metadata": {},
          "execution_count": 11
        }
      ]
    },
    {
      "cell_type": "code",
      "source": [
        "train_lines[11]"
      ],
      "metadata": {
        "colab": {
          "base_uri": "https://localhost:8080/",
          "height": 36
        },
        "id": "9DpWs9KKqIVG",
        "outputId": "62e5a5a3-7a81-43f7-bacf-e852ce7de07d"
      },
      "execution_count": null,
      "outputs": [
        {
          "output_type": "execute_result",
          "data": {
            "text/plain": [
              "'###24469619\\n'"
            ],
            "application/vnd.google.colaboratory.intrinsic+json": {
              "type": "string"
            }
          },
          "metadata": {},
          "execution_count": 12
        }
      ]
    },
    {
      "cell_type": "markdown",
      "source": [
        "What will be the data structure of data to process\n",
        "\n",
        "```python \n",
        "[\n",
        "  {\n",
        "    'line_number': 0,\n",
        "    'target': 'BACKGROUND',\n",
        "    'text': 'Emotional eating is associated with overeating and the development of obesity .'\n",
        "    'total_lines': 11\n",
        "  }\n",
        "]\n",
        "```"
      ],
      "metadata": {
        "id": "TAannu8uolsO"
      }
    },
    {
      "cell_type": "code",
      "source": [
        "def preprocess_lines(filepath):\n",
        "\n",
        "  lines = read_file(filepath)\n",
        "\n",
        "  same_section_lines = []\n",
        "  formated_lines = []\n",
        "  for line in lines:\n",
        "    if line.startswith(\"###\"):\n",
        "      same_section_lines = []\n",
        "    \n",
        "    elif line.startswith(\"\\n\"):\n",
        "\n",
        "      for index, sentence in enumerate(same_section_lines):\n",
        "        target, text = sentence.split('\\t')\n",
        "        formated_lines.append({\n",
        "            \"line_number\": index,\n",
        "            \"target\": target,\n",
        "            \"text\": text,\n",
        "            \"total_lines\": len(same_section_lines) - 1\n",
        "        })\n",
        "    else: \n",
        "      same_section_lines.append(line)\n",
        "  \n",
        "\n",
        "  return formated_lines\n",
        "\n"
      ],
      "metadata": {
        "id": "Od69lKFPeTvc"
      },
      "execution_count": null,
      "outputs": []
    },
    {
      "cell_type": "code",
      "source": [
        "%%time \n",
        "formated_train_lines = preprocess_lines(data_dir + \"train.txt\")\n",
        "formated_validation_lines = preprocess_lines(data_dir + \"dev.txt\")\n",
        "formated_test_lines = preprocess_lines(data_dir + \"test.txt\")\n",
        "print(len(formated_train_lines), len(formated_validation_lines), len(formated_test_lines))"
      ],
      "metadata": {
        "colab": {
          "base_uri": "https://localhost:8080/"
        },
        "id": "TuQi1aRetg5y",
        "outputId": "bc8eec50-6505-46f3-f154-390a1e40d467"
      },
      "execution_count": null,
      "outputs": [
        {
          "output_type": "stream",
          "name": "stdout",
          "text": [
            "180040 30212 30135\n",
            "CPU times: user 274 ms, sys: 79.9 ms, total: 354 ms\n",
            "Wall time: 355 ms\n"
          ]
        }
      ]
    },
    {
      "cell_type": "markdown",
      "source": [
        "### Convert our data to dataframe and visualise it "
      ],
      "metadata": {
        "id": "mzNm9IYbuLce"
      }
    },
    {
      "cell_type": "code",
      "source": [
        "import pandas as pd\n",
        "\n",
        "train_df = pd.DataFrame(formated_train_lines)\n",
        "val_df = pd.DataFrame(formated_validation_lines)\n",
        "test_df = pd.DataFrame(formated_test_lines)\n",
        "\n",
        "train_df.head(10)"
      ],
      "metadata": {
        "colab": {
          "base_uri": "https://localhost:8080/"
        },
        "id": "ukrt1APk0LDu",
        "outputId": "4c899ed6-e3dc-4413-ec44-9c39759cca65"
      },
      "execution_count": null,
      "outputs": [
        {
          "output_type": "execute_result",
          "data": {
            "text/plain": [
              "   line_number     target                                               text  \\\n",
              "0            0  OBJECTIVE  To investigate the efficacy of @ weeks of dail...   \n",
              "1            1    METHODS  A total of @ patients with primary knee OA wer...   \n",
              "2            2    METHODS  Outcome measures included pain reduction and i...   \n",
              "3            3    METHODS  Pain was assessed using the visual analog pain...   \n",
              "4            4    METHODS  Secondary outcome measures included the Wester...   \n",
              "5            5    METHODS  Serum levels of interleukin @ ( IL-@ ) , IL-@ ...   \n",
              "6            6    RESULTS  There was a clinically relevant reduction in t...   \n",
              "7            7    RESULTS  The mean difference between treatment arms ( @...   \n",
              "8            8    RESULTS  Further , there was a clinically relevant redu...   \n",
              "9            9    RESULTS  These differences remained significant at @ we...   \n",
              "\n",
              "   total_lines  \n",
              "0           11  \n",
              "1           11  \n",
              "2           11  \n",
              "3           11  \n",
              "4           11  \n",
              "5           11  \n",
              "6           11  \n",
              "7           11  \n",
              "8           11  \n",
              "9           11  "
            ],
            "text/html": [
              "\n",
              "  <div id=\"df-701d5942-8db8-4c5a-98ab-fbb1e12d733c\">\n",
              "    <div class=\"colab-df-container\">\n",
              "      <div>\n",
              "<style scoped>\n",
              "    .dataframe tbody tr th:only-of-type {\n",
              "        vertical-align: middle;\n",
              "    }\n",
              "\n",
              "    .dataframe tbody tr th {\n",
              "        vertical-align: top;\n",
              "    }\n",
              "\n",
              "    .dataframe thead th {\n",
              "        text-align: right;\n",
              "    }\n",
              "</style>\n",
              "<table border=\"1\" class=\"dataframe\">\n",
              "  <thead>\n",
              "    <tr style=\"text-align: right;\">\n",
              "      <th></th>\n",
              "      <th>line_number</th>\n",
              "      <th>target</th>\n",
              "      <th>text</th>\n",
              "      <th>total_lines</th>\n",
              "    </tr>\n",
              "  </thead>\n",
              "  <tbody>\n",
              "    <tr>\n",
              "      <th>0</th>\n",
              "      <td>0</td>\n",
              "      <td>OBJECTIVE</td>\n",
              "      <td>To investigate the efficacy of @ weeks of dail...</td>\n",
              "      <td>11</td>\n",
              "    </tr>\n",
              "    <tr>\n",
              "      <th>1</th>\n",
              "      <td>1</td>\n",
              "      <td>METHODS</td>\n",
              "      <td>A total of @ patients with primary knee OA wer...</td>\n",
              "      <td>11</td>\n",
              "    </tr>\n",
              "    <tr>\n",
              "      <th>2</th>\n",
              "      <td>2</td>\n",
              "      <td>METHODS</td>\n",
              "      <td>Outcome measures included pain reduction and i...</td>\n",
              "      <td>11</td>\n",
              "    </tr>\n",
              "    <tr>\n",
              "      <th>3</th>\n",
              "      <td>3</td>\n",
              "      <td>METHODS</td>\n",
              "      <td>Pain was assessed using the visual analog pain...</td>\n",
              "      <td>11</td>\n",
              "    </tr>\n",
              "    <tr>\n",
              "      <th>4</th>\n",
              "      <td>4</td>\n",
              "      <td>METHODS</td>\n",
              "      <td>Secondary outcome measures included the Wester...</td>\n",
              "      <td>11</td>\n",
              "    </tr>\n",
              "    <tr>\n",
              "      <th>5</th>\n",
              "      <td>5</td>\n",
              "      <td>METHODS</td>\n",
              "      <td>Serum levels of interleukin @ ( IL-@ ) , IL-@ ...</td>\n",
              "      <td>11</td>\n",
              "    </tr>\n",
              "    <tr>\n",
              "      <th>6</th>\n",
              "      <td>6</td>\n",
              "      <td>RESULTS</td>\n",
              "      <td>There was a clinically relevant reduction in t...</td>\n",
              "      <td>11</td>\n",
              "    </tr>\n",
              "    <tr>\n",
              "      <th>7</th>\n",
              "      <td>7</td>\n",
              "      <td>RESULTS</td>\n",
              "      <td>The mean difference between treatment arms ( @...</td>\n",
              "      <td>11</td>\n",
              "    </tr>\n",
              "    <tr>\n",
              "      <th>8</th>\n",
              "      <td>8</td>\n",
              "      <td>RESULTS</td>\n",
              "      <td>Further , there was a clinically relevant redu...</td>\n",
              "      <td>11</td>\n",
              "    </tr>\n",
              "    <tr>\n",
              "      <th>9</th>\n",
              "      <td>9</td>\n",
              "      <td>RESULTS</td>\n",
              "      <td>These differences remained significant at @ we...</td>\n",
              "      <td>11</td>\n",
              "    </tr>\n",
              "  </tbody>\n",
              "</table>\n",
              "</div>\n",
              "      <button class=\"colab-df-convert\" onclick=\"convertToInteractive('df-701d5942-8db8-4c5a-98ab-fbb1e12d733c')\"\n",
              "              title=\"Convert this dataframe to an interactive table.\"\n",
              "              style=\"display:none;\">\n",
              "        \n",
              "  <svg xmlns=\"http://www.w3.org/2000/svg\" height=\"24px\"viewBox=\"0 0 24 24\"\n",
              "       width=\"24px\">\n",
              "    <path d=\"M0 0h24v24H0V0z\" fill=\"none\"/>\n",
              "    <path d=\"M18.56 5.44l.94 2.06.94-2.06 2.06-.94-2.06-.94-.94-2.06-.94 2.06-2.06.94zm-11 1L8.5 8.5l.94-2.06 2.06-.94-2.06-.94L8.5 2.5l-.94 2.06-2.06.94zm10 10l.94 2.06.94-2.06 2.06-.94-2.06-.94-.94-2.06-.94 2.06-2.06.94z\"/><path d=\"M17.41 7.96l-1.37-1.37c-.4-.4-.92-.59-1.43-.59-.52 0-1.04.2-1.43.59L10.3 9.45l-7.72 7.72c-.78.78-.78 2.05 0 2.83L4 21.41c.39.39.9.59 1.41.59.51 0 1.02-.2 1.41-.59l7.78-7.78 2.81-2.81c.8-.78.8-2.07 0-2.86zM5.41 20L4 18.59l7.72-7.72 1.47 1.35L5.41 20z\"/>\n",
              "  </svg>\n",
              "      </button>\n",
              "      \n",
              "  <style>\n",
              "    .colab-df-container {\n",
              "      display:flex;\n",
              "      flex-wrap:wrap;\n",
              "      gap: 12px;\n",
              "    }\n",
              "\n",
              "    .colab-df-convert {\n",
              "      background-color: #E8F0FE;\n",
              "      border: none;\n",
              "      border-radius: 50%;\n",
              "      cursor: pointer;\n",
              "      display: none;\n",
              "      fill: #1967D2;\n",
              "      height: 32px;\n",
              "      padding: 0 0 0 0;\n",
              "      width: 32px;\n",
              "    }\n",
              "\n",
              "    .colab-df-convert:hover {\n",
              "      background-color: #E2EBFA;\n",
              "      box-shadow: 0px 1px 2px rgba(60, 64, 67, 0.3), 0px 1px 3px 1px rgba(60, 64, 67, 0.15);\n",
              "      fill: #174EA6;\n",
              "    }\n",
              "\n",
              "    [theme=dark] .colab-df-convert {\n",
              "      background-color: #3B4455;\n",
              "      fill: #D2E3FC;\n",
              "    }\n",
              "\n",
              "    [theme=dark] .colab-df-convert:hover {\n",
              "      background-color: #434B5C;\n",
              "      box-shadow: 0px 1px 3px 1px rgba(0, 0, 0, 0.15);\n",
              "      filter: drop-shadow(0px 1px 2px rgba(0, 0, 0, 0.3));\n",
              "      fill: #FFFFFF;\n",
              "    }\n",
              "  </style>\n",
              "\n",
              "      <script>\n",
              "        const buttonEl =\n",
              "          document.querySelector('#df-701d5942-8db8-4c5a-98ab-fbb1e12d733c button.colab-df-convert');\n",
              "        buttonEl.style.display =\n",
              "          google.colab.kernel.accessAllowed ? 'block' : 'none';\n",
              "\n",
              "        async function convertToInteractive(key) {\n",
              "          const element = document.querySelector('#df-701d5942-8db8-4c5a-98ab-fbb1e12d733c');\n",
              "          const dataTable =\n",
              "            await google.colab.kernel.invokeFunction('convertToInteractive',\n",
              "                                                     [key], {});\n",
              "          if (!dataTable) return;\n",
              "\n",
              "          const docLinkHtml = 'Like what you see? Visit the ' +\n",
              "            '<a target=\"_blank\" href=https://colab.research.google.com/notebooks/data_table.ipynb>data table notebook</a>'\n",
              "            + ' to learn more about interactive tables.';\n",
              "          element.innerHTML = '';\n",
              "          dataTable['output_type'] = 'display_data';\n",
              "          await google.colab.output.renderOutput(dataTable, element);\n",
              "          const docLink = document.createElement('div');\n",
              "          docLink.innerHTML = docLinkHtml;\n",
              "          element.appendChild(docLink);\n",
              "        }\n",
              "      </script>\n",
              "    </div>\n",
              "  </div>\n",
              "  "
            ]
          },
          "metadata": {},
          "execution_count": 15
        }
      ]
    },
    {
      "cell_type": "code",
      "source": [
        "train_df[\"target\"].value_counts()"
      ],
      "metadata": {
        "colab": {
          "base_uri": "https://localhost:8080/"
        },
        "id": "fkG8AlFD0jOn",
        "outputId": "9a306a0c-8cb6-4631-f97b-456b964c44db"
      },
      "execution_count": null,
      "outputs": [
        {
          "output_type": "execute_result",
          "data": {
            "text/plain": [
              "METHODS        59353\n",
              "RESULTS        57953\n",
              "CONCLUSIONS    27168\n",
              "BACKGROUND     21727\n",
              "OBJECTIVE      13839\n",
              "Name: target, dtype: int64"
            ]
          },
          "metadata": {},
          "execution_count": 16
        }
      ]
    },
    {
      "cell_type": "markdown",
      "source": [
        "## Make Numerical Labels (ML model require numerical labels)"
      ],
      "metadata": {
        "id": "aF8RA98w00Zz"
      }
    },
    {
      "cell_type": "code",
      "source": [
        "import sklearn \n",
        "print(sklearn.__version__)"
      ],
      "metadata": {
        "colab": {
          "base_uri": "https://localhost:8080/"
        },
        "id": "eDha8vDWTI8m",
        "outputId": "ac6b40ad-c643-4adf-848a-601104f1c100"
      },
      "execution_count": null,
      "outputs": [
        {
          "output_type": "stream",
          "name": "stdout",
          "text": [
            "1.0.2\n"
          ]
        }
      ]
    },
    {
      "cell_type": "code",
      "source": [
        "train_sentences = train_df[\"text\"]\n",
        "val_sentences = val_df[\"text\"]\n",
        "test_sentences = test_df[\"text\"]"
      ],
      "metadata": {
        "id": "4eLke2qO4Er5"
      },
      "execution_count": null,
      "outputs": []
    },
    {
      "cell_type": "code",
      "source": [
        "# One Hot Encode the labels \n",
        "from sklearn.preprocessing import OneHotEncoder\n",
        "one_hot_encoder = OneHotEncoder(sparse=False)\n",
        "\n",
        "train_labels_one_hot = one_hot_encoder.fit_transform(train_df[\"target\"].to_numpy().reshape(-1, 1))\n",
        "val_labels_oen_hot = one_hot_encoder.transform(val_df[\"target\"].to_numpy().reshape(-1, 1))\n",
        "test_labels_one_hot = one_hot_encoder.transform(test_df[\"target\"].to_numpy().reshape(-1, 1))"
      ],
      "metadata": {
        "id": "a8_UP_1bT3y5"
      },
      "execution_count": null,
      "outputs": []
    },
    {
      "cell_type": "code",
      "source": [
        "train_df[\"target\"].to_numpy().reshape(-1, 1).shape"
      ],
      "metadata": {
        "colab": {
          "base_uri": "https://localhost:8080/"
        },
        "id": "4Cka_VIiXCaj",
        "outputId": "e928c570-091c-4af6-f7ff-47796576816c"
      },
      "execution_count": null,
      "outputs": [
        {
          "output_type": "execute_result",
          "data": {
            "text/plain": [
              "(180040, 1)"
            ]
          },
          "metadata": {},
          "execution_count": 20
        }
      ]
    },
    {
      "cell_type": "code",
      "source": [
        "train_labels_one_hot"
      ],
      "metadata": {
        "colab": {
          "base_uri": "https://localhost:8080/"
        },
        "id": "ngIlnDofXPQa",
        "outputId": "842d1fc9-2eb3-4729-bb57-ff3cf42832ce"
      },
      "execution_count": null,
      "outputs": [
        {
          "output_type": "execute_result",
          "data": {
            "text/plain": [
              "array([[0., 0., 0., 1., 0.],\n",
              "       [0., 0., 1., 0., 0.],\n",
              "       [0., 0., 1., 0., 0.],\n",
              "       ...,\n",
              "       [0., 0., 0., 0., 1.],\n",
              "       [0., 1., 0., 0., 0.],\n",
              "       [0., 1., 0., 0., 0.]])"
            ]
          },
          "metadata": {},
          "execution_count": 21
        }
      ]
    },
    {
      "cell_type": "markdown",
      "source": [
        "## Label encode labels"
      ],
      "metadata": {
        "id": "iFP16bDyYm2J"
      }
    },
    {
      "cell_type": "code",
      "source": [
        "# Extract label (\"target\" columns) and encode them into int \n",
        "from sklearn.preprocessing import LabelEncoder\n",
        "\n",
        "label_encoder = LabelEncoder()\n",
        "\n",
        "train_labels_encoded = label_encoder.fit_transform(y=train_df[\"target\"].to_numpy())\n",
        "val_labels_encoded = label_encoder.transform(y=val_df[\"target\"].to_numpy())\n",
        "test_labels_encoded = label_encoder.transform(y=test_df[\"target\"].to_numpy())\n",
        "\n",
        "train_labels_encoded"
      ],
      "metadata": {
        "colab": {
          "base_uri": "https://localhost:8080/"
        },
        "id": "PSm0rDoTaam7",
        "outputId": "2908c194-e978-4ae0-cb71-d6f5223a6b14"
      },
      "execution_count": null,
      "outputs": [
        {
          "output_type": "execute_result",
          "data": {
            "text/plain": [
              "array([3, 2, 2, ..., 4, 1, 1])"
            ]
          },
          "metadata": {},
          "execution_count": 22
        }
      ]
    },
    {
      "cell_type": "code",
      "source": [
        "train_labels_encoded.shape"
      ],
      "metadata": {
        "colab": {
          "base_uri": "https://localhost:8080/"
        },
        "id": "bSM5az1PjTgN",
        "outputId": "06b66a32-6787-4ce4-9107-1084c8282bdc"
      },
      "execution_count": null,
      "outputs": [
        {
          "output_type": "execute_result",
          "data": {
            "text/plain": [
              "(180040,)"
            ]
          },
          "metadata": {},
          "execution_count": 23
        }
      ]
    },
    {
      "cell_type": "code",
      "source": [
        "# Get the classnames and number of classes from LabelEncoder instance\n",
        "num_classes = len(label_encoder.classes_)\n",
        "class_names = label_encoder.classes_\n",
        "class_names"
      ],
      "metadata": {
        "colab": {
          "base_uri": "https://localhost:8080/"
        },
        "id": "aQQ7k5cNbzIZ",
        "outputId": "e42f10e0-86af-480c-dbc4-a1d161b01c89"
      },
      "execution_count": null,
      "outputs": [
        {
          "output_type": "execute_result",
          "data": {
            "text/plain": [
              "array(['BACKGROUND', 'CONCLUSIONS', 'METHODS', 'OBJECTIVE', 'RESULTS'],\n",
              "      dtype=object)"
            ]
          },
          "metadata": {},
          "execution_count": 24
        }
      ]
    },
    {
      "cell_type": "code",
      "source": [
        "# Get helper function \n",
        "!wget https://raw.githubusercontent.com/mrdbourke/tensorflow-deep-learning/main/extras/helper_functions.py"
      ],
      "metadata": {
        "colab": {
          "base_uri": "https://localhost:8080/"
        },
        "id": "hweGKMRC7KXi",
        "outputId": "9d90247c-7477-4306-e439-9348ee42da1e"
      },
      "execution_count": null,
      "outputs": [
        {
          "output_type": "stream",
          "name": "stdout",
          "text": [
            "--2022-07-25 20:16:13--  https://raw.githubusercontent.com/mrdbourke/tensorflow-deep-learning/main/extras/helper_functions.py\n",
            "Resolving raw.githubusercontent.com (raw.githubusercontent.com)... 185.199.108.133, 185.199.109.133, 185.199.110.133, ...\n",
            "Connecting to raw.githubusercontent.com (raw.githubusercontent.com)|185.199.108.133|:443... connected.\n",
            "HTTP request sent, awaiting response... 200 OK\n",
            "Length: 10246 (10K) [text/plain]\n",
            "Saving to: ‘helper_functions.py’\n",
            "\n",
            "helper_functions.py 100%[===================>]  10.01K  --.-KB/s    in 0s      \n",
            "\n",
            "2022-07-25 20:16:14 (90.3 MB/s) - ‘helper_functions.py’ saved [10246/10246]\n",
            "\n"
          ]
        }
      ]
    },
    {
      "cell_type": "code",
      "source": [
        "from helper_functions import calculate_results"
      ],
      "metadata": {
        "id": "csAkgVjA7PBB"
      },
      "execution_count": null,
      "outputs": []
    },
    {
      "cell_type": "markdown",
      "source": [
        "## Create a baseline\n",
        "\n",
        "* Use **Pipeline**\n",
        "* Create a **tfidf** vectorizer\n",
        "* Create a **MultinomialNB** layer"
      ],
      "metadata": {
        "id": "zs4irXV-cxe3"
      }
    },
    {
      "cell_type": "markdown",
      "source": [
        "### Baseline Model"
      ],
      "metadata": {
        "id": "-gyTFSq_C_Kl"
      }
    },
    {
      "cell_type": "code",
      "source": [
        "from sklearn.feature_extraction.text import TfidfVectorizer\n",
        "from sklearn.naive_bayes import MultinomialNB\n",
        "from sklearn.pipeline import Pipeline\n",
        "\n",
        "# Create a model \n",
        "model_0 = Pipeline([\n",
        "  (\"tfidf\", TfidfVectorizer()),\n",
        "  (\"clf\", MultinomialNB())\n",
        "])\n",
        "# Fit a model \n",
        "model_0.fit(X=train_df[\"text\"], y=train_labels_encoded)"
      ],
      "metadata": {
        "id": "CmwNV-l_vR1j",
        "colab": {
          "base_uri": "https://localhost:8080/"
        },
        "outputId": "e2537566-2831-48ab-f07f-e1406de46c58"
      },
      "execution_count": null,
      "outputs": [
        {
          "output_type": "execute_result",
          "data": {
            "text/plain": [
              "Pipeline(steps=[('tfidf', TfidfVectorizer()), ('clf', MultinomialNB())])"
            ]
          },
          "metadata": {},
          "execution_count": 27
        }
      ]
    },
    {
      "cell_type": "code",
      "source": [
        "# Evaluate the model \n",
        "model_0_evaluation = model_0.score(X=val_df[\"text\"], y=val_labels_encoded)"
      ],
      "metadata": {
        "id": "86SxUh8VhpM5"
      },
      "execution_count": null,
      "outputs": []
    },
    {
      "cell_type": "code",
      "source": [
        "model_0_evaluation"
      ],
      "metadata": {
        "colab": {
          "base_uri": "https://localhost:8080/"
        },
        "id": "D6xTv1Htkk0_",
        "outputId": "6c2142c3-5d7e-4117-875b-5e3f27f91335"
      },
      "execution_count": null,
      "outputs": [
        {
          "output_type": "execute_result",
          "data": {
            "text/plain": [
              "0.7218323844829869"
            ]
          },
          "metadata": {},
          "execution_count": 29
        }
      ]
    },
    {
      "cell_type": "code",
      "source": [
        "model_0_preds = model_0.predict(X=val_sentences)\n"
      ],
      "metadata": {
        "id": "zxc1Udvn7Zlh"
      },
      "execution_count": null,
      "outputs": []
    },
    {
      "cell_type": "code",
      "source": [
        "model_0_result = calculate_results(y_true=val_labels_encoded, y_pred=model_0_preds) \n",
        "model_0_result"
      ],
      "metadata": {
        "colab": {
          "base_uri": "https://localhost:8080/"
        },
        "id": "WaHI9uNu74pz",
        "outputId": "ef773235-cda7-4b9e-e0f1-b9a24ee626f1"
      },
      "execution_count": null,
      "outputs": [
        {
          "output_type": "execute_result",
          "data": {
            "text/plain": [
              "{'accuracy': 72.1832384482987,\n",
              " 'f1': 0.6989250353450294,\n",
              " 'precision': 0.7186466952323352,\n",
              " 'recall': 0.7218323844829869}"
            ]
          },
          "metadata": {},
          "execution_count": 31
        }
      ]
    },
    {
      "cell_type": "markdown",
      "source": [
        "## Create **Vectorizar** for our modelling "
      ],
      "metadata": {
        "id": "3VMWRBIyRTbx"
      }
    },
    {
      "cell_type": "code",
      "source": [
        "# Create a text vectorization layer\n",
        "import tensorflow as tf \n",
        "from tensorflow.keras.layers import TextVectorization\n",
        "\n",
        "text_vectorizar = TextVectorization(\n",
        "    max_tokens = 68000,\n",
        "    standardize = \"lower_and_strip_punctuation\",\n",
        "    split = \"whitespace\",\n",
        "    output_sequence_length = 55,\n",
        "    pad_to_max_tokens = True\n",
        ")"
      ],
      "metadata": {
        "id": "JBCkgrZfkwdT"
      },
      "execution_count": null,
      "outputs": []
    },
    {
      "cell_type": "code",
      "source": [
        "text_vectorizar.adapt(train_sentences)"
      ],
      "metadata": {
        "id": "iZZccHy861ew"
      },
      "execution_count": null,
      "outputs": []
    },
    {
      "cell_type": "code",
      "source": [
        "rct_20k_vocab_length = len(text_vectorizar.get_vocabulary())\n",
        "rct_20k_vocab_length"
      ],
      "metadata": {
        "colab": {
          "base_uri": "https://localhost:8080/"
        },
        "id": "EAGLBMPZ7K5R",
        "outputId": "8b3edd14-b0ec-4253-cd40-42931ce37d00"
      },
      "execution_count": null,
      "outputs": [
        {
          "output_type": "execute_result",
          "data": {
            "text/plain": [
              "64841"
            ]
          },
          "metadata": {},
          "execution_count": 34
        }
      ]
    },
    {
      "cell_type": "code",
      "source": [
        "text_vectorizar.get_config()"
      ],
      "metadata": {
        "colab": {
          "base_uri": "https://localhost:8080/"
        },
        "id": "pxJ5YE4Y7mc3",
        "outputId": "876ce6d9-87de-4fe0-dbe1-0898be6b8267"
      },
      "execution_count": null,
      "outputs": [
        {
          "output_type": "execute_result",
          "data": {
            "text/plain": [
              "{'batch_input_shape': (None, None),\n",
              " 'dtype': 'string',\n",
              " 'idf_weights': None,\n",
              " 'max_tokens': 68000,\n",
              " 'name': 'text_vectorization',\n",
              " 'ngrams': None,\n",
              " 'output_mode': 'int',\n",
              " 'output_sequence_length': 55,\n",
              " 'pad_to_max_tokens': True,\n",
              " 'ragged': False,\n",
              " 'sparse': False,\n",
              " 'split': 'whitespace',\n",
              " 'standardize': 'lower_and_strip_punctuation',\n",
              " 'trainable': True,\n",
              " 'vocabulary': None}"
            ]
          },
          "metadata": {},
          "execution_count": 35
        }
      ]
    },
    {
      "cell_type": "markdown",
      "source": [
        "## Create custom **Embedding** for our model "
      ],
      "metadata": {
        "id": "AD8nc_aYRK_m"
      }
    },
    {
      "cell_type": "code",
      "source": [
        "from tensorflow.keras.layers import Embedding\n",
        "\n",
        "embedding = Embedding(\n",
        "    input_dim = rct_20k_vocab_length,\n",
        "    output_dim = 128,\n",
        "    mask_zero=True\n",
        ")"
      ],
      "metadata": {
        "id": "z-ebBstH5DOR"
      },
      "execution_count": null,
      "outputs": []
    },
    {
      "cell_type": "markdown",
      "source": [
        "## Creating test dataset (to make sure data loads faster)"
      ],
      "metadata": {
        "id": "F2hIzt7uUv2a"
      }
    },
    {
      "cell_type": "code",
      "source": [
        "# Turn our data into tensorflow datasets\n",
        "train_dataset = tf.data.Dataset.from_tensor_slices((train_sentences, train_labels_one_hot))\n",
        "valid_dataset = tf.data.Dataset.from_tensor_slices((val_sentences, val_labels_oen_hot))\n",
        "test_dataset = tf.data.Dataset.from_tensor_slices((test_sentences, test_labels_one_hot))\n",
        "\n",
        "train_dataset"
      ],
      "metadata": {
        "colab": {
          "base_uri": "https://localhost:8080/"
        },
        "id": "nZpYu3FAU3Qx",
        "outputId": "44398f62-81da-413b-b0bc-e4665bb2b4a1"
      },
      "execution_count": null,
      "outputs": [
        {
          "output_type": "execute_result",
          "data": {
            "text/plain": [
              "<TensorSliceDataset element_spec=(TensorSpec(shape=(), dtype=tf.string, name=None), TensorSpec(shape=(5,), dtype=tf.float64, name=None))>"
            ]
          },
          "metadata": {},
          "execution_count": 37
        }
      ]
    },
    {
      "cell_type": "code",
      "source": [
        "# Take the TensorSliceDataset and turn them into prefetched dataset\n",
        "train_dataset = train_dataset.batch(32).prefetch(buffer_size=tf.data.AUTOTUNE)\n",
        "valid_dataset = valid_dataset.batch(32).prefetch(buffer_size=tf.data.AUTOTUNE)\n",
        "test_dataset = valid_dataset.batch(32).prefetch(buffer_size=tf.data.AUTOTUNE)\n",
        "\n",
        "train_dataset"
      ],
      "metadata": {
        "colab": {
          "base_uri": "https://localhost:8080/"
        },
        "id": "Fj8OZ5ZoXlET",
        "outputId": "a06ed217-58e2-4c13-afc2-44c9925767fb"
      },
      "execution_count": null,
      "outputs": [
        {
          "output_type": "execute_result",
          "data": {
            "text/plain": [
              "<PrefetchDataset element_spec=(TensorSpec(shape=(None,), dtype=tf.string, name=None), TensorSpec(shape=(None, 5), dtype=tf.float64, name=None))>"
            ]
          },
          "metadata": {},
          "execution_count": 38
        }
      ]
    },
    {
      "cell_type": "markdown",
      "source": [
        "## Create our first deep model "
      ],
      "metadata": {
        "id": "33bYdVRU6PQo"
      }
    },
    {
      "cell_type": "markdown",
      "source": [
        "### Model 1"
      ],
      "metadata": {
        "id": "6zm2KsdtC2Qi"
      }
    },
    {
      "cell_type": "code",
      "source": [
        "# create model with functional api\n",
        "import tensorflow as tf\n",
        "\n",
        "\n",
        "# 1. Create a model \n",
        "\n",
        "# Input layer \n",
        "inputs = tf.keras.layers.Input(shape=(1,), dtype=tf.string)\n",
        "# Vectorizar layer \n",
        "x = text_vectorizar(inputs)\n",
        "# Embedding layer\n",
        "x = embedding(x)\n",
        "# Conv1D layer \n",
        "x = tf.keras.layers.Conv1D(64, kernel_size=5, activation=\"relu\", name=\"conv1d\")(x)\n",
        "# GlobalMaxPollingMax layer\n",
        "x = tf.keras.layers.GlobalMaxPool1D(name=\"max_polling\")(x)\n",
        "# output layer \n",
        "outputs = tf.keras.layers.Dense(5, activation=\"softmax\")(x)\n",
        "# make a model \n",
        "model_1 = tf.keras.Model(inputs, outputs)\n"
      ],
      "metadata": {
        "id": "lHSgqUW_RiM1"
      },
      "execution_count": null,
      "outputs": []
    },
    {
      "cell_type": "code",
      "source": [
        "model_1.summary()"
      ],
      "metadata": {
        "colab": {
          "base_uri": "https://localhost:8080/"
        },
        "id": "BviOFOqyTIxf",
        "outputId": "969a6bd5-88eb-4fd6-deba-42667f157527"
      },
      "execution_count": null,
      "outputs": [
        {
          "output_type": "stream",
          "name": "stdout",
          "text": [
            "Model: \"model\"\n",
            "_________________________________________________________________\n",
            " Layer (type)                Output Shape              Param #   \n",
            "=================================================================\n",
            " input_1 (InputLayer)        [(None, 1)]               0         \n",
            "                                                                 \n",
            " text_vectorization (TextVec  (None, 55)               0         \n",
            " torization)                                                     \n",
            "                                                                 \n",
            " embedding (Embedding)       (None, 55, 128)           8299648   \n",
            "                                                                 \n",
            " conv1d (Conv1D)             (None, 51, 64)            41024     \n",
            "                                                                 \n",
            " max_polling (GlobalMaxPooli  (None, 64)               0         \n",
            " ng1D)                                                           \n",
            "                                                                 \n",
            " dense (Dense)               (None, 5)                 325       \n",
            "                                                                 \n",
            "=================================================================\n",
            "Total params: 8,340,997\n",
            "Trainable params: 8,340,997\n",
            "Non-trainable params: 0\n",
            "_________________________________________________________________\n"
          ]
        }
      ]
    },
    {
      "cell_type": "code",
      "source": [
        "# 2. Compile a model \n",
        "model_1.compile(\n",
        "    loss=\"categorical_crossentropy\",\n",
        "    optimizer=tf.keras.optimizers.Adam(),\n",
        "    metrics = [\"accuracy\"]\n",
        ")"
      ],
      "metadata": {
        "id": "GND_hE77TQhc"
      },
      "execution_count": null,
      "outputs": []
    },
    {
      "cell_type": "code",
      "source": [
        "# 3. Fit the model \n",
        "model_1.fit(\n",
        "    train_dataset,\n",
        "    epochs=3,\n",
        "    steps_per_epoch=int(0.1 * len(train_dataset)),\n",
        "    validation_data=valid_dataset,\n",
        "    validation_steps = int(0.1 * len(valid_dataset))\n",
        ")"
      ],
      "metadata": {
        "colab": {
          "base_uri": "https://localhost:8080/"
        },
        "id": "AuinuMesZUj1",
        "outputId": "caea1ed7-ff77-4ec8-8282-601a0690cdf9"
      },
      "execution_count": null,
      "outputs": [
        {
          "output_type": "stream",
          "name": "stdout",
          "text": [
            "Epoch 1/3\n",
            "562/562 [==============================] - 17s 9ms/step - loss: 0.8398 - accuracy: 0.6805 - val_loss: 0.5948 - val_accuracy: 0.7829\n",
            "Epoch 2/3\n",
            "562/562 [==============================] - 5s 8ms/step - loss: 0.5836 - accuracy: 0.7854 - val_loss: 0.5462 - val_accuracy: 0.7919\n",
            "Epoch 3/3\n",
            "562/562 [==============================] - 5s 9ms/step - loss: 0.5471 - accuracy: 0.7994 - val_loss: 0.5249 - val_accuracy: 0.8029\n"
          ]
        },
        {
          "output_type": "execute_result",
          "data": {
            "text/plain": [
              "<keras.callbacks.History at 0x7fac6fbf5450>"
            ]
          },
          "metadata": {},
          "execution_count": 42
        }
      ]
    },
    {
      "cell_type": "code",
      "source": [
        "model_1_pred_probs = model_1.predict(val_sentences)"
      ],
      "metadata": {
        "id": "DND8cYjWy6_4"
      },
      "execution_count": null,
      "outputs": []
    },
    {
      "cell_type": "code",
      "source": [
        "model_1_pred_probs.shape"
      ],
      "metadata": {
        "colab": {
          "base_uri": "https://localhost:8080/"
        },
        "id": "7n1g5loJzIyI",
        "outputId": "419cc99a-2b4e-45fe-ae34-155ed6271d15"
      },
      "execution_count": null,
      "outputs": [
        {
          "output_type": "execute_result",
          "data": {
            "text/plain": [
              "(30212, 5)"
            ]
          },
          "metadata": {},
          "execution_count": 44
        }
      ]
    },
    {
      "cell_type": "code",
      "source": [
        "model_1_pred_probs[0], model_1_pred_probs[0].shape"
      ],
      "metadata": {
        "colab": {
          "base_uri": "https://localhost:8080/"
        },
        "id": "IfSP38YBzX_Y",
        "outputId": "90a581a0-2f72-4769-bc56-80d58d2458e0"
      },
      "execution_count": null,
      "outputs": [
        {
          "output_type": "execute_result",
          "data": {
            "text/plain": [
              "(array([0.50148916, 0.1170818 , 0.00605166, 0.36973554, 0.00564179],\n",
              "       dtype=float32), (5,))"
            ]
          },
          "metadata": {},
          "execution_count": 45
        }
      ]
    },
    {
      "cell_type": "code",
      "source": [
        "model_1_preds = tf.argmax(model_1_pred_probs, axis=1)"
      ],
      "metadata": {
        "id": "hmXoc3plzy9V"
      },
      "execution_count": null,
      "outputs": []
    },
    {
      "cell_type": "code",
      "source": [
        "val_labels_encoded[:3]"
      ],
      "metadata": {
        "colab": {
          "base_uri": "https://localhost:8080/"
        },
        "id": "izCSfO5T1gos",
        "outputId": "3097f441-c3f8-4fcd-cc7b-3ca7a98eae34"
      },
      "execution_count": null,
      "outputs": [
        {
          "output_type": "execute_result",
          "data": {
            "text/plain": [
              "array([0, 0, 3])"
            ]
          },
          "metadata": {},
          "execution_count": 47
        }
      ]
    },
    {
      "cell_type": "code",
      "source": [
        "model_1_result = calculate_results(y_true=val_labels_encoded, y_pred=model_1_preds)\n",
        "model_1_result"
      ],
      "metadata": {
        "colab": {
          "base_uri": "https://localhost:8080/"
        },
        "id": "rsdHBomi3U0c",
        "outputId": "97992750-5b99-4611-80bf-ba39f3671f1d"
      },
      "execution_count": null,
      "outputs": [
        {
          "output_type": "execute_result",
          "data": {
            "text/plain": [
              "{'accuracy': 80.32569839798755,\n",
              " 'f1': 0.8015848640469813,\n",
              " 'precision': 0.8013383563588226,\n",
              " 'recall': 0.8032569839798755}"
            ]
          },
          "metadata": {},
          "execution_count": 48
        }
      ]
    },
    {
      "cell_type": "code",
      "source": [
        "model_0_result"
      ],
      "metadata": {
        "colab": {
          "base_uri": "https://localhost:8080/"
        },
        "id": "LTxtMt513nKi",
        "outputId": "5edeab16-1aef-466c-ebf9-de42af43c32a"
      },
      "execution_count": null,
      "outputs": [
        {
          "output_type": "execute_result",
          "data": {
            "text/plain": [
              "{'accuracy': 72.1832384482987,\n",
              " 'f1': 0.6989250353450294,\n",
              " 'precision': 0.7186466952323352,\n",
              " 'recall': 0.7218323844829869}"
            ]
          },
          "metadata": {},
          "execution_count": 49
        }
      ]
    },
    {
      "cell_type": "code",
      "source": [
        "# funciton for preds and pred probs\n",
        "def give_preds(model, data, y_true):\n",
        "  model_pred_probs = model.predict(data)\n",
        "  model_preds = tf.argmax(model_pred_probs, axis=1)\n",
        "  model_result = calculate_results(y_true=y_true, y_pred=model_preds)\n",
        "\n",
        "  return model_pred_probs, model_preds, model_result"
      ],
      "metadata": {
        "id": "b99egEWd3rfy"
      },
      "execution_count": null,
      "outputs": []
    },
    {
      "cell_type": "code",
      "source": [
        "model_1_pred_probs, model_1_preds, model_1_result = give_preds(model_1, val_sentences, val_labels_encoded)\n",
        "model_1_pred_probs[:2], model_1_preds[:2], model_1_result"
      ],
      "metadata": {
        "colab": {
          "base_uri": "https://localhost:8080/"
        },
        "id": "SRTTJcpo4lo0",
        "outputId": "95954138-de7b-4080-b4f4-2d54f3f9e113"
      },
      "execution_count": null,
      "outputs": [
        {
          "output_type": "execute_result",
          "data": {
            "text/plain": [
              "(array([[5.0148916e-01, 1.1708180e-01, 6.0516614e-03, 3.6973554e-01,\n",
              "         5.6417882e-03],\n",
              "        [2.1956192e-01, 6.5486115e-01, 3.7240569e-04, 1.2360008e-01,\n",
              "         1.6044143e-03]], dtype=float32),\n",
              " <tf.Tensor: shape=(2,), dtype=int64, numpy=array([0, 1])>,\n",
              " {'accuracy': 80.32569839798755,\n",
              "  'f1': 0.8015848640469813,\n",
              "  'precision': 0.8013383563588226,\n",
              "  'recall': 0.8032569839798755})"
            ]
          },
          "metadata": {},
          "execution_count": 51
        }
      ]
    },
    {
      "cell_type": "code",
      "source": [
        "label_encoder.classes_"
      ],
      "metadata": {
        "colab": {
          "base_uri": "https://localhost:8080/"
        },
        "id": "B7uhB4Uaz9gl",
        "outputId": "91af3b1a-154a-4419-c1e2-ea649435f740"
      },
      "execution_count": null,
      "outputs": [
        {
          "output_type": "execute_result",
          "data": {
            "text/plain": [
              "array(['BACKGROUND', 'CONCLUSIONS', 'METHODS', 'OBJECTIVE', 'RESULTS'],\n",
              "      dtype=object)"
            ]
          },
          "metadata": {},
          "execution_count": 52
        }
      ]
    },
    {
      "cell_type": "markdown",
      "source": [
        "## Feature extractor model with **Universal Sentence Encoder** from tensorflow hub"
      ],
      "metadata": {
        "id": "8jZXP2P51QnW"
      }
    },
    {
      "cell_type": "markdown",
      "source": [
        "### Model 2"
      ],
      "metadata": {
        "id": "VpsfvRppCue9"
      }
    },
    {
      "cell_type": "code",
      "source": [
        "import tensorflow_hub as hub\n",
        "\n",
        "# create a keras layer for of feature extractor\n",
        "extractor_layer = hub.KerasLayer(\"https://tfhub.dev/google/universal-sentence-encoder/4\",\n",
        "                                 trainable=False,\n",
        "                                 input_shape=[],\n",
        "                                 dtype=tf.string,\n",
        "                                 name=\"use\")\n",
        "\n",
        "# Create model with functional api\n",
        "inputs = tf.keras.layers.Input(shape=[], dtype=tf.string)\n",
        "x = extractor_layer(inputs)\n",
        "x = tf.keras.layers.Dense(128, activation=\"relu\")(x)\n",
        "outputs = tf.keras.layers.Dense(5, activation=\"softmax\")(x)\n",
        "model_2 = tf.keras.Model(inputs, outputs, name=\"model_2_universal_sentence_encoder\")\n"
      ],
      "metadata": {
        "id": "_5iiwr055Yek"
      },
      "execution_count": null,
      "outputs": []
    },
    {
      "cell_type": "code",
      "source": [
        "model_2.compile(\n",
        "    loss=\"categorical_crossentropy\",\n",
        "    optimizer=tf.keras.optimizers.Adam(),\n",
        "    metrics=[\"accuracy\"]\n",
        ")"
      ],
      "metadata": {
        "id": "7dqzYn7FHWms"
      },
      "execution_count": null,
      "outputs": []
    },
    {
      "cell_type": "code",
      "source": [
        "history_2 = model_2.fit(\n",
        "    train_dataset,\n",
        "    epochs=3,\n",
        "    steps_per_epoch=int(0.1*len(train_dataset)),\n",
        "    validation_data=valid_dataset,\n",
        "    validation_steps=int(0.1*len(valid_dataset))\n",
        ")"
      ],
      "metadata": {
        "colab": {
          "base_uri": "https://localhost:8080/"
        },
        "id": "j5Hs_RvKHmB2",
        "outputId": "fdc35a8c-c986-400a-8f11-7f3c2945b2c8"
      },
      "execution_count": null,
      "outputs": [
        {
          "output_type": "stream",
          "name": "stdout",
          "text": [
            "Epoch 1/3\n",
            "562/562 [==============================] - 11s 14ms/step - loss: 0.9171 - accuracy: 0.6481 - val_loss: 0.7979 - val_accuracy: 0.6872\n",
            "Epoch 2/3\n",
            "562/562 [==============================] - 7s 13ms/step - loss: 0.7717 - accuracy: 0.7006 - val_loss: 0.7553 - val_accuracy: 0.7055\n",
            "Epoch 3/3\n",
            "562/562 [==============================] - 7s 13ms/step - loss: 0.7534 - accuracy: 0.7127 - val_loss: 0.7405 - val_accuracy: 0.7118\n"
          ]
        }
      ]
    },
    {
      "cell_type": "code",
      "source": [
        "model_2_pred_probs, model_2_preds, model_2_result = give_preds(model_2, val_sentences, val_labels_encoded)\n",
        "model_2_result"
      ],
      "metadata": {
        "colab": {
          "base_uri": "https://localhost:8080/"
        },
        "id": "j-ZRxRx_ID7D",
        "outputId": "68402457-9781-47b9-f479-fb37a77d3d61"
      },
      "execution_count": null,
      "outputs": [
        {
          "output_type": "execute_result",
          "data": {
            "text/plain": [
              "{'accuracy': 71.36568251026083,\n",
              " 'f1': 0.7113799004819116,\n",
              " 'precision': 0.7149813841271493,\n",
              " 'recall': 0.7136568251026082}"
            ]
          },
          "metadata": {},
          "execution_count": 56
        }
      ]
    },
    {
      "cell_type": "markdown",
      "source": [
        "### Model 2 seq"
      ],
      "metadata": {
        "id": "8Q-lRy8vCop8"
      }
    },
    {
      "cell_type": "code",
      "source": [
        "import tensorflow_hub as hub\n",
        "import tensorflow as tf\n",
        "extractor_layer_seq = hub.KerasLayer(\n",
        "    \"https://tfhub.dev/google/universal-sentence-encoder/4\",\n",
        "    trainable=False,\n",
        "    input_shape=[],\n",
        "    dtype=tf.string,\n",
        "    name=\"use_seq\"\n",
        ")\n",
        "\n",
        "model_2_seq = tf.keras.Sequential([\n",
        "  extractor_layer_seq,\n",
        "  # tf.keras.layers.GlobalMaxPool1D(),\n",
        "  tf.keras.layers.Dense(5, activation=\"softmax\")\n",
        "])\n"
      ],
      "metadata": {
        "id": "4-Klu7GU8025"
      },
      "execution_count": null,
      "outputs": []
    },
    {
      "cell_type": "code",
      "source": [
        "model_2_seq.summary()"
      ],
      "metadata": {
        "colab": {
          "base_uri": "https://localhost:8080/"
        },
        "id": "83czXkt-_Gsb",
        "outputId": "e76305e5-e5ce-4ac7-999a-1ab0449dd181"
      },
      "execution_count": null,
      "outputs": [
        {
          "output_type": "stream",
          "name": "stdout",
          "text": [
            "Model: \"sequential\"\n",
            "_________________________________________________________________\n",
            " Layer (type)                Output Shape              Param #   \n",
            "=================================================================\n",
            " use_seq (KerasLayer)        (None, 512)               256797824 \n",
            "                                                                 \n",
            " dense_3 (Dense)             (None, 5)                 2565      \n",
            "                                                                 \n",
            "=================================================================\n",
            "Total params: 256,800,389\n",
            "Trainable params: 2,565\n",
            "Non-trainable params: 256,797,824\n",
            "_________________________________________________________________\n"
          ]
        }
      ]
    },
    {
      "cell_type": "code",
      "source": [
        "model_2_seq.compile(\n",
        "    loss=\"categorical_crossentropy\",\n",
        "    optimizer=tf.keras.optimizers.Adam(),\n",
        "    metrics=[\"accuracy\"]\n",
        ")\n",
        "\n",
        "model_2_seq.fit(\n",
        "    train_dataset,\n",
        "    epochs=3,\n",
        "    steps_per_epoch=int(0.1*len(train_dataset)),\n",
        "    validation_data=valid_dataset,\n",
        "    validation_steps=int(0.1 * len(valid_dataset))\n",
        ")"
      ],
      "metadata": {
        "colab": {
          "base_uri": "https://localhost:8080/"
        },
        "id": "kH6Tc6pc-6BJ",
        "outputId": "e3a06ff6-c8a3-4cbc-b118-ab483f1e868f"
      },
      "execution_count": null,
      "outputs": [
        {
          "output_type": "stream",
          "name": "stdout",
          "text": [
            "Epoch 1/3\n",
            "562/562 [==============================] - 11s 14ms/step - loss: 1.2627 - accuracy: 0.5366 - val_loss: 1.0893 - val_accuracy: 0.6021\n",
            "Epoch 2/3\n",
            "562/562 [==============================] - 8s 14ms/step - loss: 1.0149 - accuracy: 0.6241 - val_loss: 0.9591 - val_accuracy: 0.6443\n",
            "Epoch 3/3\n",
            "562/562 [==============================] - 7s 13ms/step - loss: 0.9338 - accuracy: 0.6588 - val_loss: 0.8997 - val_accuracy: 0.6669\n"
          ]
        },
        {
          "output_type": "execute_result",
          "data": {
            "text/plain": [
              "<keras.callbacks.History at 0x7fabf4d35cd0>"
            ]
          },
          "metadata": {},
          "execution_count": 59
        }
      ]
    },
    {
      "cell_type": "code",
      "source": [
        "model_2_seq_pred_probs, model_2_seq_preds, model_2_seq_result = give_preds(model_2_seq,\n",
        "                                                                           val_sentences,\n",
        "                                                                           val_labels_encoded)\n",
        "\n",
        "model_2_seq_result"
      ],
      "metadata": {
        "colab": {
          "base_uri": "https://localhost:8080/"
        },
        "id": "WUqQ3Jk-_K3O",
        "outputId": "2575472f-dc14-4281-b134-9e08fc70152d"
      },
      "execution_count": null,
      "outputs": [
        {
          "output_type": "execute_result",
          "data": {
            "text/plain": [
              "{'accuracy': 67.25142327551966,\n",
              " 'f1': 0.6571773040951844,\n",
              " 'precision': 0.6684206077777337,\n",
              " 'recall': 0.6725142327551966}"
            ]
          },
          "metadata": {},
          "execution_count": 60
        }
      ]
    },
    {
      "cell_type": "markdown",
      "source": [
        "## Make Character embedding "
      ],
      "metadata": {
        "id": "OWCfrWSIUOr9"
      }
    },
    {
      "cell_type": "code",
      "source": [
        "# Make function to split sentences in character lavel\n",
        "def split_chars(text):\n",
        "  return  \" \".join(list(text))"
      ],
      "metadata": {
        "id": "Px1unr_8CNcB"
      },
      "execution_count": null,
      "outputs": []
    },
    {
      "cell_type": "code",
      "source": [
        "import random \n",
        "random_train_sentence = random.choice(train_sentences)\n",
        "\n",
        "split_chars(random_train_sentence)"
      ],
      "metadata": {
        "colab": {
          "base_uri": "https://localhost:8080/"
        },
        "id": "0vjhIHDlLcUL",
        "outputId": "952934bc-4cbc-4742-99ae-dce61f3e4134"
      },
      "execution_count": null,
      "outputs": [
        {
          "output_type": "execute_result",
          "data": {
            "text/plain": [
              "'F u r t h e r m o r e   ,   t h e   s a f e t y   a n d   e f f i c a c y   r e s u l t s   o f   p r e v i o u s   t r i a l s   a r e   n o w   c o n f i r m e d   i n   a   l a r g e r   s t u d y   p o p u l a t i o n   . \\n'"
            ],
            "application/vnd.google.colaboratory.intrinsic+json": {
              "type": "string"
            }
          },
          "metadata": {},
          "execution_count": 62
        }
      ]
    },
    {
      "cell_type": "code",
      "source": [
        "# Split sententence-lavel data split to data character-lavel data split\n",
        "train_chars = [split_chars(sentence) for sentence in train_sentences]\n",
        "val_chars = [split_chars(sentence) for sentence in val_sentences]\n",
        "test_chars = [split_chars(sentence) for sentence in test_sentences]\n",
        "train_chars[:5]"
      ],
      "metadata": {
        "colab": {
          "base_uri": "https://localhost:8080/"
        },
        "id": "eQVs50GuL2Gr",
        "outputId": "3cc5a629-6de7-4af5-e4c2-9e7c5473f922"
      },
      "execution_count": null,
      "outputs": [
        {
          "output_type": "execute_result",
          "data": {
            "text/plain": [
              "['T o   i n v e s t i g a t e   t h e   e f f i c a c y   o f   @   w e e k s   o f   d a i l y   l o w - d o s e   o r a l   p r e d n i s o l o n e   i n   i m p r o v i n g   p a i n   ,   m o b i l i t y   ,   a n d   s y s t e m i c   l o w - g r a d e   i n f l a m m a t i o n   i n   t h e   s h o r t   t e r m   a n d   w h e t h e r   t h e   e f f e c t   w o u l d   b e   s u s t a i n e d   a t   @   w e e k s   i n   o l d e r   a d u l t s   w i t h   m o d e r a t e   t o   s e v e r e   k n e e   o s t e o a r t h r i t i s   (   O A   )   . \\n',\n",
              " 'A   t o t a l   o f   @   p a t i e n t s   w i t h   p r i m a r y   k n e e   O A   w e r e   r a n d o m i z e d   @ : @   ;   @   r e c e i v e d   @   m g / d a y   o f   p r e d n i s o l o n e   a n d   @   r e c e i v e d   p l a c e b o   f o r   @   w e e k s   . \\n',\n",
              " 'O u t c o m e   m e a s u r e s   i n c l u d e d   p a i n   r e d u c t i o n   a n d   i m p r o v e m e n t   i n   f u n c t i o n   s c o r e s   a n d   s y s t e m i c   i n f l a m m a t i o n   m a r k e r s   . \\n',\n",
              " 'P a i n   w a s   a s s e s s e d   u s i n g   t h e   v i s u a l   a n a l o g   p a i n   s c a l e   (   @ - @   m m   )   . \\n',\n",
              " 'S e c o n d a r y   o u t c o m e   m e a s u r e s   i n c l u d e d   t h e   W e s t e r n   O n t a r i o   a n d   M c M a s t e r   U n i v e r s i t i e s   O s t e o a r t h r i t i s   I n d e x   s c o r e s   ,   p a t i e n t   g l o b a l   a s s e s s m e n t   (   P G A   )   o f   t h e   s e v e r i t y   o f   k n e e   O A   ,   a n d   @ - m i n   w a l k   d i s t a n c e   (   @ M W D   )   . \\n']"
            ]
          },
          "metadata": {},
          "execution_count": 63
        }
      ]
    },
    {
      "cell_type": "code",
      "source": [
        "# Check the average length of the character in sentence\n",
        "char_lens = [len(sentence) for sentence in train_sentences]\n",
        "char_lens_avg = sum(char_lens)/len(char_lens)\n",
        "print(char_lens_avg)"
      ],
      "metadata": {
        "colab": {
          "base_uri": "https://localhost:8080/"
        },
        "id": "URldQZmlM-2O",
        "outputId": "280cede5-b689-4ec8-9d09-11608db916d5"
      },
      "execution_count": null,
      "outputs": [
        {
          "output_type": "stream",
          "name": "stdout",
          "text": [
            "150.3662574983337\n"
          ]
        }
      ]
    },
    {
      "cell_type": "code",
      "source": [
        "# check the distribution of the sentences \n",
        "import matplotlib.pyplot as plt\n",
        "\n",
        "plt.hist(char_lens, bins=7)"
      ],
      "metadata": {
        "colab": {
          "base_uri": "https://localhost:8080/"
        },
        "id": "VWPhMt6lO7l-",
        "outputId": "a17bb18c-43cf-4c92-c098-18fa8350ce47"
      },
      "execution_count": null,
      "outputs": [
        {
          "output_type": "execute_result",
          "data": {
            "text/plain": [
              "(array([1.41175e+05, 3.71110e+04, 1.60000e+03, 1.27000e+02, 2.10000e+01,\n",
              "        5.00000e+00, 1.00000e+00]),\n",
              " array([   2.        ,  199.85714286,  397.71428571,  595.57142857,\n",
              "         793.42857143,  991.28571429, 1189.14285714, 1387.        ]),\n",
              " <a list of 7 Patch objects>)"
            ]
          },
          "metadata": {},
          "execution_count": 65
        },
        {
          "output_type": "display_data",
          "data": {
            "text/plain": [
              "<Figure size 432x288 with 1 Axes>"
            ],
            "image/png": "[encoded data removed]"
          },
          "metadata": {
            "needs_background": "light"
          }
        }
      ]
    },
    {
      "cell_type": "code",
      "source": [
        "# Find what length of character covers 95% of the sentence length\n",
        "import numpy as np\n",
        "\n",
        "out_seq_char_len = int(np.percentile(char_lens, 95))\n",
        "out_seq_char_len"
      ],
      "metadata": {
        "colab": {
          "base_uri": "https://localhost:8080/"
        },
        "id": "WWdxRChCPfAm",
        "outputId": "e0d87993-fcb8-44a2-976c-c66ae6fba9bf"
      },
      "execution_count": null,
      "outputs": [
        {
          "output_type": "execute_result",
          "data": {
            "text/plain": [
              "291"
            ]
          },
          "metadata": {},
          "execution_count": 66
        }
      ]
    },
    {
      "cell_type": "code",
      "source": [
        "# Get all keyboard characters \n",
        "import string \n",
        "\n",
        "alphabet = string.ascii_lowercase + string.digits + string.punctuation"
      ],
      "metadata": {
        "id": "s0MxTRyFQSWx"
      },
      "execution_count": null,
      "outputs": []
    },
    {
      "cell_type": "code",
      "source": [
        "alphabet"
      ],
      "metadata": {
        "id": "aplztvIjbvwz",
        "colab": {
          "base_uri": "https://localhost:8080/"
        },
        "outputId": "0be3bb95-7b70-4854-d93e-98ab7ba553e6"
      },
      "execution_count": null,
      "outputs": [
        {
          "output_type": "execute_result",
          "data": {
            "text/plain": [
              "'abcdefghijklmnopqrstuvwxyz0123456789!\"#$%&\\'()*+,-./:;<=>?@[\\\\]^_`{|}~'"
            ],
            "application/vnd.google.colaboratory.intrinsic+json": {
              "type": "string"
            }
          },
          "metadata": {},
          "execution_count": 68
        }
      ]
    },
    {
      "cell_type": "code",
      "source": [
        "# Create char-lavel token vectorizer instance\n",
        "NUM_CHAR_TOKENS = len(alphabet) + 2\n",
        "\n",
        "import tensorflow as tf\n",
        "\n",
        "char_vectorizer = tf.keras.layers.TextVectorization(\n",
        "    max_tokens=NUM_CHAR_TOKENS,\n",
        "    output_sequence_length=out_seq_char_len,\n",
        "    name=\"char_vectorizer\"\n",
        ")"
      ],
      "metadata": {
        "id": "wYuS3v9_VkJj"
      },
      "execution_count": null,
      "outputs": []
    },
    {
      "cell_type": "code",
      "source": [
        "# Adapt character vectorizer to the tarining character\n",
        "char_vectorizer.adapt(train_chars)"
      ],
      "metadata": {
        "id": "Rdvy4uQnWBWt"
      },
      "execution_count": null,
      "outputs": []
    },
    {
      "cell_type": "code",
      "source": [
        "char_vocab = char_vectorizer.get_vocabulary()\n",
        "char_vocab_length = len(char_vocab)"
      ],
      "metadata": {
        "id": "QmwYU-rVXTcG"
      },
      "execution_count": null,
      "outputs": []
    },
    {
      "cell_type": "code",
      "source": [
        "# Let's see what out vectorizer does \n",
        "random_train_char = random.choice(train_chars)\n",
        "print(f\"Random Train Character\\n{random_train_char}\")\n",
        "print(f\"Length of the Char:\\n\\n {len(random_train_char.split())}\\n\")\n",
        "vectorized_chars = char_vectorizer([random_train_char])\n",
        "print(f\"Vectorized Chars\\n\\n{vectorized_chars}\")"
      ],
      "metadata": {
        "colab": {
          "base_uri": "https://localhost:8080/"
        },
        "id": "V973sNEVXkXr",
        "outputId": "22cb5673-ba1e-407d-ea68-e7a58c04da70"
      },
      "execution_count": null,
      "outputs": [
        {
          "output_type": "stream",
          "name": "stdout",
          "text": [
            "Random Train Character\n",
            "T h e r e   w e r e   s i g n i f i c a n t l y   m o r e   a c u t e   r e j e c t i o n s   (   a l l   d e f i n i t i o n s   )   i n   p a t i e n t s   w i t h   M P A   A U C   l e v e l s   <   @ m g h / l   c o m p a r e d   w i t h   t h o s e   w i t h   M P A   A U C   l e v e l s   @ m g h / l   w i t h i n   @ m o n t h s   (   p   <   @   )   . \n",
            "\n",
            "Length of the Char:\n",
            "\n",
            " 148\n",
            "\n",
            "Vectorized Chars\n",
            "\n",
            "[[ 3 13  2  8  2 20  2  8  2  9  4 18  6  4 17  4 11  5  6  3 12 19 15  7\n",
            "   8  2  5 11 16  3  2  8  2 27  2 11  3  4  7  6  9  5 12 12 10  2 17  4\n",
            "   6  4  3  4  7  6  9  4  6 14  5  3  4  2  6  3  9 20  4  3 13 15 14  5\n",
            "   5 16 11 12  2 21  2 12  9 15 18 13 12 11  7 15 14  5  8  2 10 20  4  3\n",
            "  13  3 13  7  9  2 20  4  3 13 15 14  5  5 16 11 12  2 21  2 12  9 15 18\n",
            "  13 12 20  4  3 13  4  6 15  7  6  3 13  9 14  0  0  0  0  0  0  0  0  0\n",
            "   0  0  0  0  0  0  0  0  0  0  0  0  0  0  0  0  0  0  0  0  0  0  0  0\n",
            "   0  0  0  0  0  0  0  0  0  0  0  0  0  0  0  0  0  0  0  0  0  0  0  0\n",
            "   0  0  0  0  0  0  0  0  0  0  0  0  0  0  0  0  0  0  0  0  0  0  0  0\n",
            "   0  0  0  0  0  0  0  0  0  0  0  0  0  0  0  0  0  0  0  0  0  0  0  0\n",
            "   0  0  0  0  0  0  0  0  0  0  0  0  0  0  0  0  0  0  0  0  0  0  0  0\n",
            "   0  0  0  0  0  0  0  0  0  0  0  0  0  0  0  0  0  0  0  0  0  0  0  0\n",
            "   0  0  0]]\n"
          ]
        }
      ]
    },
    {
      "cell_type": "markdown",
      "source": [
        "## Character lavel embedding"
      ],
      "metadata": {
        "id": "nMeTcgQhcDlc"
      }
    },
    {
      "cell_type": "code",
      "source": [
        "import tensorflow as tf\n",
        "\n",
        "char_embedding = tf.keras.layers.Embedding(\n",
        "    input_dim=char_vocab_length,\n",
        "    output_dim=25,\n",
        "    mask_zero = True\n",
        ")"
      ],
      "metadata": {
        "id": "8c7xpq9NbYr9"
      },
      "execution_count": null,
      "outputs": []
    },
    {
      "cell_type": "code",
      "source": [
        "char_embedding(char_vectorizer([train_chars[0]]))"
      ],
      "metadata": {
        "colab": {
          "base_uri": "https://localhost:8080/"
        },
        "id": "ISobW0j3cv6l",
        "outputId": "c488612b-ebd5-4cdb-f722-5fafdf5e5f8d"
      },
      "execution_count": null,
      "outputs": [
        {
          "output_type": "execute_result",
          "data": {
            "text/plain": [
              "<tf.Tensor: shape=(1, 291, 25), dtype=float32, numpy=\n",
              "array([[[ 0.00386304, -0.01841008, -0.03040995, ..., -0.02250613,\n",
              "          0.01507229,  0.03838238],\n",
              "        [-0.01539123, -0.04001693, -0.01223264, ..., -0.01404671,\n",
              "         -0.04291099, -0.02577149],\n",
              "        [-0.03610691,  0.04800725, -0.00148942, ..., -0.04500948,\n",
              "          0.01846904, -0.01195457],\n",
              "        ...,\n",
              "        [-0.0116782 , -0.01743187, -0.03693678, ...,  0.02367783,\n",
              "          0.04587609, -0.03070258],\n",
              "        [-0.0116782 , -0.01743187, -0.03693678, ...,  0.02367783,\n",
              "          0.04587609, -0.03070258],\n",
              "        [-0.0116782 , -0.01743187, -0.03693678, ...,  0.02367783,\n",
              "          0.04587609, -0.03070258]]], dtype=float32)>"
            ]
          },
          "metadata": {},
          "execution_count": 74
        }
      ]
    },
    {
      "cell_type": "markdown",
      "source": [
        "## Model 3 Conv1D Model"
      ],
      "metadata": {
        "id": "CvvhLQMZc4JW"
      }
    },
    {
      "cell_type": "code",
      "source": [
        "char_train_dataset = tf.data.Dataset.from_tensor_slices((train_chars, train_labels_one_hot))\n",
        "char_val_dataset = tf.data.Dataset.from_tensor_slices((val_chars, val_labels_oen_hot))\n",
        "char_test_dataset = tf.data.Dataset.from_tensor_slices((test_chars, test_labels_one_hot))\n",
        "\n",
        "char_train_dataset"
      ],
      "metadata": {
        "colab": {
          "base_uri": "https://localhost:8080/"
        },
        "id": "m3HGKZOzjI2N",
        "outputId": "20e91d2e-768c-4da8-dcb0-e9b8e292321d"
      },
      "execution_count": null,
      "outputs": [
        {
          "output_type": "execute_result",
          "data": {
            "text/plain": [
              "<TensorSliceDataset element_spec=(TensorSpec(shape=(), dtype=tf.string, name=None), TensorSpec(shape=(5,), dtype=tf.float64, name=None))>"
            ]
          },
          "metadata": {},
          "execution_count": 75
        }
      ]
    },
    {
      "cell_type": "code",
      "source": [
        "char_train_dataset = char_train_dataset.batch(32).prefetch(buffer_size=tf.data.AUTOTUNE)\n",
        "char_val_dataset = char_val_dataset.batch(32).prefetch(buffer_size=tf.data.AUTOTUNE)\n",
        "char_test_dataset = char_test_dataset.batch(32).prefetch(buffer_size=tf.data.AUTOTUNE)\n",
        "\n",
        "len(char_train_dataset)"
      ],
      "metadata": {
        "colab": {
          "base_uri": "https://localhost:8080/"
        },
        "id": "KOS_W5L7kQRC",
        "outputId": "f8b33fd2-dd7c-4742-81a7-6c2387102a3d"
      },
      "execution_count": null,
      "outputs": [
        {
          "output_type": "execute_result",
          "data": {
            "text/plain": [
              "5627"
            ]
          },
          "metadata": {},
          "execution_count": 76
        }
      ]
    },
    {
      "cell_type": "code",
      "source": [
        "from tensorflow.keras import layers\n",
        "import tensorflow as tf\n",
        "\n",
        "inputs = layers.Input(shape=(1,), dtype=tf.string)\n",
        "x = char_vectorizer(inputs)\n",
        "x = char_embedding(x)\n",
        "x = layers.Conv1D(64, kernel_size=5, activation=\"relu\")(x)\n",
        "# x = layers.Dense(64, activation=\"relu\")(x)\n",
        "x = layers.GlobalMaxPool1D()(x)\n",
        "outputs = layers.Dense(5, activation=\"softmax\")(x)\n",
        "\n",
        "model_3 = tf.keras.Model(inputs, outputs)"
      ],
      "metadata": {
        "id": "cZstqTFzfywk"
      },
      "execution_count": null,
      "outputs": []
    },
    {
      "cell_type": "code",
      "source": [
        "model_3.summary()"
      ],
      "metadata": {
        "colab": {
          "base_uri": "https://localhost:8080/"
        },
        "id": "I_j6u4qKhQW-",
        "outputId": "6c2545a5-e6ca-4d63-fd4a-7e5f7d7426cb"
      },
      "execution_count": null,
      "outputs": [
        {
          "output_type": "stream",
          "name": "stdout",
          "text": [
            "Model: \"model_1\"\n",
            "_________________________________________________________________\n",
            " Layer (type)                Output Shape              Param #   \n",
            "=================================================================\n",
            " input_3 (InputLayer)        [(None, 1)]               0         \n",
            "                                                                 \n",
            " char_vectorizer (TextVector  (None, 291)              0         \n",
            " ization)                                                        \n",
            "                                                                 \n",
            " embedding_1 (Embedding)     (None, 291, 25)           700       \n",
            "                                                                 \n",
            " conv1d (Conv1D)             (None, 287, 64)           8064      \n",
            "                                                                 \n",
            " global_max_pooling1d (Globa  (None, 64)               0         \n",
            " lMaxPooling1D)                                                  \n",
            "                                                                 \n",
            " dense_4 (Dense)             (None, 5)                 325       \n",
            "                                                                 \n",
            "=================================================================\n",
            "Total params: 9,089\n",
            "Trainable params: 9,089\n",
            "Non-trainable params: 0\n",
            "_________________________________________________________________\n"
          ]
        }
      ]
    },
    {
      "cell_type": "code",
      "source": [
        "model_3.compile(\n",
        "    loss=\"categorical_crossentropy\",\n",
        "    optimizer=tf.keras.optimizers.Adam(),\n",
        "    metrics=[\"accuracy\"]\n",
        ")"
      ],
      "metadata": {
        "id": "hXgnazBHhbLu"
      },
      "execution_count": null,
      "outputs": []
    },
    {
      "cell_type": "code",
      "source": [
        "model_3.fit(\n",
        "    char_train_dataset,\n",
        "    epochs=3,\n",
        "    steps_per_epoch=int(0.1 * len(char_train_dataset)),\n",
        "    validation_data=char_val_dataset, \n",
        "    validation_steps=int(0.1 * len(char_val_dataset))\n",
        ")"
      ],
      "metadata": {
        "colab": {
          "base_uri": "https://localhost:8080/"
        },
        "id": "_arHZTaLh26M",
        "outputId": "37225e86-d037-422e-f9d8-4be29ce15f8f"
      },
      "execution_count": null,
      "outputs": [
        {
          "output_type": "stream",
          "name": "stdout",
          "text": [
            "Epoch 1/3\n",
            "562/562 [==============================] - 4s 6ms/step - loss: 1.2807 - accuracy: 0.4795 - val_loss: 1.0724 - val_accuracy: 0.5715\n",
            "Epoch 2/3\n",
            "562/562 [==============================] - 3s 5ms/step - loss: 1.0200 - accuracy: 0.5946 - val_loss: 0.9569 - val_accuracy: 0.6247\n",
            "Epoch 3/3\n",
            "562/562 [==============================] - 3s 5ms/step - loss: 0.9354 - accuracy: 0.6302 - val_loss: 0.8799 - val_accuracy: 0.6609\n"
          ]
        },
        {
          "output_type": "execute_result",
          "data": {
            "text/plain": [
              "<keras.callbacks.History at 0x7facfc07bf50>"
            ]
          },
          "metadata": {},
          "execution_count": 80
        }
      ]
    },
    {
      "cell_type": "code",
      "source": [
        "model_3_pred_probs, model_3_preds, model_3_result = give_preds(model_3, char_val_dataset, val_labels_encoded)\n",
        "model_3_result"
      ],
      "metadata": {
        "colab": {
          "base_uri": "https://localhost:8080/"
        },
        "id": "zUWI3-gFivw7",
        "outputId": "74374324-822c-432e-dac6-efad1c0cef73"
      },
      "execution_count": null,
      "outputs": [
        {
          "output_type": "execute_result",
          "data": {
            "text/plain": [
              "{'accuracy': 65.3018668078909,\n",
              " 'f1': 0.6409043949525455,\n",
              " 'precision': 0.6467056329423324,\n",
              " 'recall': 0.6530186680789091}"
            ]
          },
          "metadata": {},
          "execution_count": 81
        }
      ]
    },
    {
      "cell_type": "markdown",
      "source": [
        "## Model 4 : concatenate two different model\n",
        "\n",
        "* Create a token lavel embedding model similar to `modle_1`\n",
        "* Create a chareacter lavel embedding similar to `model_3`\n",
        "* Combine the above two with a concatenate layer `layers.Concatenate`\n",
        "* Build a series of output layers \n",
        "* Create a model which takes both **character** and **word** sequence as an input\n"
      ],
      "metadata": {
        "id": "ewcjAOExoQQk"
      }
    },
    {
      "cell_type": "code",
      "source": [
        "import tensorflow as tf\n",
        "from tensorflow.keras import layers\n",
        "\n",
        "# 1. setup token input/model\n",
        "token_input = layers.Input(shape=[], dtype=tf.string, name=\"token_input\")\n",
        "token_embedding = extractor_layer(token_input)\n",
        "token_output = layers.Dense(128, activation=\"relu\", name=\"token_output\")(token_embedding)\n",
        "token_model = tf.keras.Model(inputs=token_input, outputs=token_output)\n",
        "\n",
        "# 2. setup char input/model\n",
        "char_input = layers.Input(shape=(1,), dtype=tf.string)\n",
        "char_vector = char_vectorizer(char_input)\n",
        "char_embed = char_embedding(char_vector)\n",
        "char_bi_lstm = layers.Bidirectional(layers.LSTM(24))(char_embed)\n",
        "char_model = tf.keras.Model(inputs=char_input, outputs=char_bi_lstm)\n",
        "\n",
        "# 3. Concatenate token and char inputs (create hybrid token embedding)\n",
        "token_char_concatenate = layers.Concatenate(name=\"token_char_concatenate\")([token_model.output,\n",
        "                                                                            char_model.output])\n",
        "\n",
        "# 4. create output layer - adding dropout\n",
        "combined_dropout = layers.Dropout(0.5)(token_char_concatenate)\n",
        "conbined_dense = layers.Dense(128, activation=\"relu\")(combined_dropout)\n",
        "final_dropout = layers.Dropout(0.5)(conbined_dense)\n",
        "output_layer = layers.Dense(5, activation=\"softmax\")(final_dropout)\n",
        "\n",
        "\n",
        "# 5. Construct model with char and token embeddings \n",
        "model_4 = tf.keras.Model(inputs=[token_model.inputs, char_model.inputs], outputs=output_layer, name=\"model_4\")\n",
        "\n"
      ],
      "metadata": {
        "id": "o8TJsoSzL_x5"
      },
      "execution_count": null,
      "outputs": []
    },
    {
      "cell_type": "code",
      "source": [
        "model_4.summary()"
      ],
      "metadata": {
        "colab": {
          "base_uri": "https://localhost:8080/"
        },
        "id": "yk9ukjGncJhL",
        "outputId": "c14de407-b657-4605-b44c-f1bfb38aa415"
      },
      "execution_count": null,
      "outputs": [
        {
          "output_type": "stream",
          "name": "stdout",
          "text": [
            "Model: \"model_4\"\n",
            "__________________________________________________________________________________________________\n",
            " Layer (type)                   Output Shape         Param #     Connected to                     \n",
            "==================================================================================================\n",
            " input_4 (InputLayer)           [(None, 1)]          0           []                               \n",
            "                                                                                                  \n",
            " token_input (InputLayer)       [(None,)]            0           []                               \n",
            "                                                                                                  \n",
            " char_vectorizer (TextVectoriza  (None, 291)         0           ['input_4[0][0]']                \n",
            " tion)                                                                                            \n",
            "                                                                                                  \n",
            " use (KerasLayer)               (None, 512)          256797824   ['token_input[0][0]']            \n",
            "                                                                                                  \n",
            " embedding_1 (Embedding)        (None, 291, 25)      700         ['char_vectorizer[1][0]']        \n",
            "                                                                                                  \n",
            " token_output (Dense)           (None, 128)          65664       ['use[1][0]']                    \n",
            "                                                                                                  \n",
            " bidirectional (Bidirectional)  (None, 48)           9600        ['embedding_1[1][0]']            \n",
            "                                                                                                  \n",
            " token_char_concatenate (Concat  (None, 176)         0           ['token_output[0][0]',           \n",
            " enate)                                                           'bidirectional[0][0]']          \n",
            "                                                                                                  \n",
            " dropout (Dropout)              (None, 176)          0           ['token_char_concatenate[0][0]'] \n",
            "                                                                                                  \n",
            " dense_5 (Dense)                (None, 128)          22656       ['dropout[0][0]']                \n",
            "                                                                                                  \n",
            " dropout_1 (Dropout)            (None, 128)          0           ['dense_5[0][0]']                \n",
            "                                                                                                  \n",
            " dense_6 (Dense)                (None, 5)            645         ['dropout_1[0][0]']              \n",
            "                                                                                                  \n",
            "==================================================================================================\n",
            "Total params: 256,897,089\n",
            "Trainable params: 99,265\n",
            "Non-trainable params: 256,797,824\n",
            "__________________________________________________________________________________________________\n"
          ]
        }
      ]
    },
    {
      "cell_type": "code",
      "source": [
        "# Plot hybrid token and character model \n",
        "from tensorflow.keras.utils import plot_model\n",
        "plot_model(model_4, show_shapes=True)"
      ],
      "metadata": {
        "colab": {
          "base_uri": "https://localhost:8080/",
          "height": 897
        },
        "id": "aV_kzKU7kokx",
        "outputId": "000cbe76-f604-49fe-ed20-fa25420bf165"
      },
      "execution_count": null,
      "outputs": [
        {
          "output_type": "execute_result",
          "data": {
            "text/plain": [
              "<IPython.core.display.Image object>"
            ],
            "image/png": "[encoded data removed]"
          },
          "metadata": {},
          "execution_count": 84
        }
      ]
    },
    {
      "cell_type": "code",
      "source": [
        "# Compile token char model \n",
        "model_4.compile(\n",
        "    loss=\"categorical_crossentropy\",\n",
        "    optimizer=tf.keras.optimizers.Adam(),\n",
        "    metrics=[\"accuracy\"]\n",
        ")"
      ],
      "metadata": {
        "id": "4NYrYPiElnvb"
      },
      "execution_count": null,
      "outputs": []
    },
    {
      "cell_type": "markdown",
      "source": [
        "### Make a efficient data pipeline"
      ],
      "metadata": {
        "id": "19dVisZqrf-_"
      }
    },
    {
      "cell_type": "code",
      "source": [
        "# make performent dataset \n",
        "\n",
        "# Train char token data\n",
        "train_char_token_data = tf.data.Dataset.from_tensor_slices((train_sentences, train_chars))\n",
        "train_char_token_labels = tf.data.Dataset.from_tensor_slices(train_labels_one_hot)\n",
        "train_char_token_dataset = tf.data.Dataset.zip((train_char_token_data, train_char_token_labels))\n",
        "\n",
        "# batch and prefetch data \n",
        "train_char_token_dataset = train_char_token_dataset.batch(32).prefetch(buffer_size=tf.data.AUTOTUNE)\n"
      ],
      "metadata": {
        "id": "3_ZK2hZsn1ic"
      },
      "execution_count": null,
      "outputs": []
    },
    {
      "cell_type": "code",
      "source": [
        "# Val char token data\n",
        "val_char_token_data = tf.data.Dataset.from_tensor_slices((val_sentences, val_chars))\n",
        "val_char_token_labels = tf.data.Dataset.from_tensor_slices(val_labels_oen_hot)\n",
        "val_char_token_dataset = tf.data.Dataset.zip((val_char_token_data, val_char_token_labels))\n",
        "\n",
        "# batch and prefetch data \n",
        "val_char_token_dataset = val_char_token_dataset.batch(32).prefetch(buffer_size=tf.data.AUTOTUNE)"
      ],
      "metadata": {
        "id": "ERAkctCfw0pQ"
      },
      "execution_count": null,
      "outputs": []
    },
    {
      "cell_type": "code",
      "source": [
        "# Train char token data\n",
        "test_char_token_data = tf.data.Dataset.from_tensor_slices((test_sentences, test_chars))\n",
        "test_char_token_labels = tf.data.Dataset.from_tensor_slices(test_labels_one_hot)\n",
        "test_char_token_dataset = tf.data.Dataset.zip((test_char_token_data, test_char_token_labels))\n",
        "\n",
        "# batch and prefetch data \n",
        "test_char_token_dataset = test_char_token_dataset.batch(32).prefetch(buffer_size=tf.data.AUTOTUNE)"
      ],
      "metadata": {
        "id": "E96Blf_oxWbL"
      },
      "execution_count": null,
      "outputs": []
    },
    {
      "cell_type": "code",
      "source": [
        "train_char_token_dataset, val_char_token_dataset"
      ],
      "metadata": {
        "colab": {
          "base_uri": "https://localhost:8080/"
        },
        "id": "lkKahgSJxvq_",
        "outputId": "0844b898-349b-47b7-a93a-f312b026bebd"
      },
      "execution_count": null,
      "outputs": [
        {
          "output_type": "execute_result",
          "data": {
            "text/plain": [
              "(<PrefetchDataset element_spec=((TensorSpec(shape=(None,), dtype=tf.string, name=None), TensorSpec(shape=(None,), dtype=tf.string, name=None)), TensorSpec(shape=(None, 5), dtype=tf.float64, name=None))>,\n",
              " <PrefetchDataset element_spec=((TensorSpec(shape=(None,), dtype=tf.string, name=None), TensorSpec(shape=(None,), dtype=tf.string, name=None)), TensorSpec(shape=(None, 5), dtype=tf.float64, name=None))>)"
            ]
          },
          "metadata": {},
          "execution_count": 89
        }
      ]
    },
    {
      "cell_type": "markdown",
      "source": [
        "## Fitting **Model 4** : Model with token and character lavel embedding "
      ],
      "metadata": {
        "id": "_579WxvYz39u"
      }
    },
    {
      "cell_type": "code",
      "source": [
        "model_4.fit(\n",
        "    train_char_token_dataset,\n",
        "    steps_per_epoch=int(0.1 * len(train_char_token_dataset)),\n",
        "    epochs=3,\n",
        "    validation_data=val_char_token_dataset,\n",
        "    validation_steps=int(0.1 * len(val_char_token_dataset))\n",
        ")"
      ],
      "metadata": {
        "colab": {
          "base_uri": "https://localhost:8080/"
        },
        "id": "ZZWM10gI0xao",
        "outputId": "e96d128d-ebc6-41ad-f245-fdd6f6668807"
      },
      "execution_count": null,
      "outputs": [
        {
          "output_type": "stream",
          "name": "stdout",
          "text": [
            "Epoch 1/3\n",
            "562/562 [==============================] - 39s 54ms/step - loss: 0.9833 - accuracy: 0.6019 - val_loss: 0.7878 - val_accuracy: 0.6865\n",
            "Epoch 2/3\n",
            "562/562 [==============================] - 28s 49ms/step - loss: 0.8051 - accuracy: 0.6879 - val_loss: 0.7136 - val_accuracy: 0.7311\n",
            "Epoch 3/3\n",
            "562/562 [==============================] - 26s 46ms/step - loss: 0.7802 - accuracy: 0.7023 - val_loss: 0.6939 - val_accuracy: 0.7407\n"
          ]
        },
        {
          "output_type": "execute_result",
          "data": {
            "text/plain": [
              "<keras.callbacks.History at 0x7facfd204a50>"
            ]
          },
          "metadata": {},
          "execution_count": 90
        }
      ]
    },
    {
      "cell_type": "code",
      "source": [
        "len(val_char_token_dataset), len(val_char_token_data)"
      ],
      "metadata": {
        "colab": {
          "base_uri": "https://localhost:8080/"
        },
        "id": "5pEaOy5Q1uSX",
        "outputId": "d6526d0a-9058-4f30-cbbb-f221ad757617"
      },
      "execution_count": null,
      "outputs": [
        {
          "output_type": "execute_result",
          "data": {
            "text/plain": [
              "(945, 30212)"
            ]
          },
          "metadata": {},
          "execution_count": 91
        }
      ]
    },
    {
      "cell_type": "code",
      "source": [
        "model_4_pred_probs, model_4_preds, model_4_result = give_preds(\n",
        "    model_4, val_char_token_dataset, val_labels_encoded\n",
        ")"
      ],
      "metadata": {
        "id": "VYGKQIbb21Hn"
      },
      "execution_count": null,
      "outputs": []
    },
    {
      "cell_type": "code",
      "source": [
        "model_4_result"
      ],
      "metadata": {
        "colab": {
          "base_uri": "https://localhost:8080/"
        },
        "id": "C8lardGi5_1f",
        "outputId": "7368527e-d25a-4b01-bf01-6793e5601b97"
      },
      "execution_count": null,
      "outputs": [
        {
          "output_type": "execute_result",
          "data": {
            "text/plain": [
              "{'accuracy': 73.15636171057858,\n",
              " 'f1': 0.7290949425994024,\n",
              " 'precision': 0.7307527541252665,\n",
              " 'recall': 0.7315636171057858}"
            ]
          },
          "metadata": {},
          "execution_count": 93
        }
      ]
    },
    {
      "cell_type": "code",
      "source": [
        "print(\"hello_world\")"
      ],
      "metadata": {
        "colab": {
          "base_uri": "https://localhost:8080/"
        },
        "id": "fKGYd3Ty6OZ7",
        "outputId": "2f827e70-19a7-4e5a-8150-935045970b45"
      },
      "execution_count": null,
      "outputs": [
        {
          "output_type": "stream",
          "name": "stdout",
          "text": [
            "hello_world\n"
          ]
        }
      ]
    },
    {
      "cell_type": "markdown",
      "source": [
        "## Create Positional Embeddings"
      ],
      "metadata": {
        "id": "o1-0lgw__yTB"
      }
    },
    {
      "cell_type": "code",
      "source": [
        " train_df['total_lines'].value_counts()"
      ],
      "metadata": {
        "colab": {
          "base_uri": "https://localhost:8080/"
        },
        "id": "Ku-fC8CnCHX2",
        "outputId": "662b2ecf-3371-435c-98d4-19b6909d2ec2"
      },
      "execution_count": null,
      "outputs": [
        {
          "output_type": "execute_result",
          "data": {
            "text/plain": [
              "11    24468\n",
              "10    23639\n",
              "12    22113\n",
              "9     19400\n",
              "13    18438\n",
              "14    14610\n",
              "8     12285\n",
              "15    10768\n",
              "7      7464\n",
              "16     7429\n",
              "17     5202\n",
              "6      3353\n",
              "18     3344\n",
              "19     2480\n",
              "20     1281\n",
              "5      1146\n",
              "21      770\n",
              "22      759\n",
              "23      264\n",
              "4       215\n",
              "24      200\n",
              "25      182\n",
              "26       81\n",
              "28       58\n",
              "3        32\n",
              "30       31\n",
              "27       28\n",
              "Name: total_lines, dtype: int64"
            ]
          },
          "metadata": {},
          "execution_count": 95
        }
      ]
    },
    {
      "cell_type": "code",
      "source": [
        "train_df.total_lines.plot.hist()"
      ],
      "metadata": {
        "colab": {
          "base_uri": "https://localhost:8080/"
        },
        "id": "Q0TeVqbSEKlO",
        "outputId": "8bb5bf77-2663-4664-ce36-2b6a8e9370ab"
      },
      "execution_count": null,
      "outputs": [
        {
          "output_type": "execute_result",
          "data": {
            "text/plain": [
              "<matplotlib.axes._subplots.AxesSubplot at 0x7fad0d18c850>"
            ]
          },
          "metadata": {},
          "execution_count": 96
        },
        {
          "output_type": "display_data",
          "data": {
            "text/plain": [
              "<Figure size 432x288 with 1 Axes>"
            ],
            "image/png": "[encoded data removed]"
          },
          "metadata": {
            "needs_background": "light"
          }
        }
      ]
    },
    {
      "cell_type": "code",
      "source": [
        "# Use tensorflow to one hot encode tensors of our 'one hot encode' line numbers of train df\n",
        "train_line_number_one_hot = tf.one_hot(train_df[\"line_number\"].to_numpy(), depth=15)\n",
        "val_line_number_one_hot = tf.one_hot(val_df[\"line_number\"].to_numpy(), depth=15)\n",
        "test_line_number_one_hot = tf.one_hot(test_df[\"line_number\"].to_numpy(), depth=15)\n",
        "train_line_number_one_hot[:5], train_line_number_one_hot.shape\n"
      ],
      "metadata": {
        "colab": {
          "base_uri": "https://localhost:8080/"
        },
        "id": "b7qoJrvyERrI",
        "outputId": "cce918a0-5101-4c1c-8be8-eca323b348ff"
      },
      "execution_count": null,
      "outputs": [
        {
          "output_type": "execute_result",
          "data": {
            "text/plain": [
              "(<tf.Tensor: shape=(5, 15), dtype=float32, numpy=\n",
              " array([[1., 0., 0., 0., 0., 0., 0., 0., 0., 0., 0., 0., 0., 0., 0.],\n",
              "        [0., 1., 0., 0., 0., 0., 0., 0., 0., 0., 0., 0., 0., 0., 0.],\n",
              "        [0., 0., 1., 0., 0., 0., 0., 0., 0., 0., 0., 0., 0., 0., 0.],\n",
              "        [0., 0., 0., 1., 0., 0., 0., 0., 0., 0., 0., 0., 0., 0., 0.],\n",
              "        [0., 0., 0., 0., 1., 0., 0., 0., 0., 0., 0., 0., 0., 0., 0.]],\n",
              "       dtype=float32)>, TensorShape([180040, 15]))"
            ]
          },
          "metadata": {},
          "execution_count": 97
        }
      ]
    },
    {
      "cell_type": "code",
      "source": [
        "train_df.total_lines.value_counts()"
      ],
      "metadata": {
        "colab": {
          "base_uri": "https://localhost:8080/"
        },
        "id": "n7C0VwRFHQGz",
        "outputId": "1aabcd72-529a-429a-eb84-b96e9298c1db"
      },
      "execution_count": null,
      "outputs": [
        {
          "output_type": "execute_result",
          "data": {
            "text/plain": [
              "11    24468\n",
              "10    23639\n",
              "12    22113\n",
              "9     19400\n",
              "13    18438\n",
              "14    14610\n",
              "8     12285\n",
              "15    10768\n",
              "7      7464\n",
              "16     7429\n",
              "17     5202\n",
              "6      3353\n",
              "18     3344\n",
              "19     2480\n",
              "20     1281\n",
              "5      1146\n",
              "21      770\n",
              "22      759\n",
              "23      264\n",
              "4       215\n",
              "24      200\n",
              "25      182\n",
              "26       81\n",
              "28       58\n",
              "3        32\n",
              "30       31\n",
              "27       28\n",
              "Name: total_lines, dtype: int64"
            ]
          },
          "metadata": {},
          "execution_count": 98
        }
      ]
    },
    {
      "cell_type": "code",
      "source": [
        "train_df.total_lines.plot.hist()"
      ],
      "metadata": {
        "colab": {
          "base_uri": "https://localhost:8080/"
        },
        "id": "YZF7o06iH-zH",
        "outputId": "d71669eb-2e17-400f-c20b-c544d70fea77"
      },
      "execution_count": null,
      "outputs": [
        {
          "output_type": "execute_result",
          "data": {
            "text/plain": [
              "<matplotlib.axes._subplots.AxesSubplot at 0x7fad0d134710>"
            ]
          },
          "metadata": {},
          "execution_count": 99
        },
        {
          "output_type": "display_data",
          "data": {
            "text/plain": [
              "<Figure size 432x288 with 1 Axes>"
            ],
            "image/png": "[encoded data removed]"
          },
          "metadata": {
            "needs_background": "light"
          }
        }
      ]
    },
    {
      "cell_type": "code",
      "source": [
        "# Use tensorflow to one hot encode tensors of total lines \n",
        "train_total_line_one_hot = tf.one_hot(train_df[\"total_lines\"].to_numpy(), depth=20)\n",
        "val_total_line_one_hot = tf.one_hot(val_df[\"total_lines\"].to_numpy(), depth=20)\n",
        "test_total_line_one_hot = tf.one_hot(test_df[\"total_lines\"].to_numpy(), depth=20)"
      ],
      "metadata": {
        "id": "7Jd8o8hJFi9f"
      },
      "execution_count": null,
      "outputs": []
    },
    {
      "cell_type": "code",
      "source": [
        "train_total_line_one_hot[:5]"
      ],
      "metadata": {
        "colab": {
          "base_uri": "https://localhost:8080/"
        },
        "id": "ZJURWC6dIfDq",
        "outputId": "de2319e5-a769-4b10-d755-3a5546f042a0"
      },
      "execution_count": null,
      "outputs": [
        {
          "output_type": "execute_result",
          "data": {
            "text/plain": [
              "<tf.Tensor: shape=(5, 20), dtype=float32, numpy=\n",
              "array([[0., 0., 0., 0., 0., 0., 0., 0., 0., 0., 0., 1., 0., 0., 0., 0.,\n",
              "        0., 0., 0., 0.],\n",
              "       [0., 0., 0., 0., 0., 0., 0., 0., 0., 0., 0., 1., 0., 0., 0., 0.,\n",
              "        0., 0., 0., 0.],\n",
              "       [0., 0., 0., 0., 0., 0., 0., 0., 0., 0., 0., 1., 0., 0., 0., 0.,\n",
              "        0., 0., 0., 0.],\n",
              "       [0., 0., 0., 0., 0., 0., 0., 0., 0., 0., 0., 1., 0., 0., 0., 0.,\n",
              "        0., 0., 0., 0.],\n",
              "       [0., 0., 0., 0., 0., 0., 0., 0., 0., 0., 0., 1., 0., 0., 0., 0.,\n",
              "        0., 0., 0., 0.]], dtype=float32)>"
            ]
          },
          "metadata": {},
          "execution_count": 101
        }
      ]
    },
    {
      "cell_type": "code",
      "source": [
        "train_df.head()"
      ],
      "metadata": {
        "colab": {
          "base_uri": "https://localhost:8080/"
        },
        "id": "ON6OkLKbIjQ3",
        "outputId": "eab491ea-2815-49cf-f281-2f7d40383360"
      },
      "execution_count": null,
      "outputs": [
        {
          "output_type": "execute_result",
          "data": {
            "text/plain": [
              "   line_number     target                                               text  \\\n",
              "0            0  OBJECTIVE  To investigate the efficacy of @ weeks of dail...   \n",
              "1            1    METHODS  A total of @ patients with primary knee OA wer...   \n",
              "2            2    METHODS  Outcome measures included pain reduction and i...   \n",
              "3            3    METHODS  Pain was assessed using the visual analog pain...   \n",
              "4            4    METHODS  Secondary outcome measures included the Wester...   \n",
              "\n",
              "   total_lines  \n",
              "0           11  \n",
              "1           11  \n",
              "2           11  \n",
              "3           11  \n",
              "4           11  "
            ],
            "text/html": [
              "\n",
              "  <div id=\"df-670e2ed8-ce68-4996-a59b-c858bcf5ae1b\">\n",
              "    <div class=\"colab-df-container\">\n",
              "      <div>\n",
              "<style scoped>\n",
              "    .dataframe tbody tr th:only-of-type {\n",
              "        vertical-align: middle;\n",
              "    }\n",
              "\n",
              "    .dataframe tbody tr th {\n",
              "        vertical-align: top;\n",
              "    }\n",
              "\n",
              "    .dataframe thead th {\n",
              "        text-align: right;\n",
              "    }\n",
              "</style>\n",
              "<table border=\"1\" class=\"dataframe\">\n",
              "  <thead>\n",
              "    <tr style=\"text-align: right;\">\n",
              "      <th></th>\n",
              "      <th>line_number</th>\n",
              "      <th>target</th>\n",
              "      <th>text</th>\n",
              "      <th>total_lines</th>\n",
              "    </tr>\n",
              "  </thead>\n",
              "  <tbody>\n",
              "    <tr>\n",
              "      <th>0</th>\n",
              "      <td>0</td>\n",
              "      <td>OBJECTIVE</td>\n",
              "      <td>To investigate the efficacy of @ weeks of dail...</td>\n",
              "      <td>11</td>\n",
              "    </tr>\n",
              "    <tr>\n",
              "      <th>1</th>\n",
              "      <td>1</td>\n",
              "      <td>METHODS</td>\n",
              "      <td>A total of @ patients with primary knee OA wer...</td>\n",
              "      <td>11</td>\n",
              "    </tr>\n",
              "    <tr>\n",
              "      <th>2</th>\n",
              "      <td>2</td>\n",
              "      <td>METHODS</td>\n",
              "      <td>Outcome measures included pain reduction and i...</td>\n",
              "      <td>11</td>\n",
              "    </tr>\n",
              "    <tr>\n",
              "      <th>3</th>\n",
              "      <td>3</td>\n",
              "      <td>METHODS</td>\n",
              "      <td>Pain was assessed using the visual analog pain...</td>\n",
              "      <td>11</td>\n",
              "    </tr>\n",
              "    <tr>\n",
              "      <th>4</th>\n",
              "      <td>4</td>\n",
              "      <td>METHODS</td>\n",
              "      <td>Secondary outcome measures included the Wester...</td>\n",
              "      <td>11</td>\n",
              "    </tr>\n",
              "  </tbody>\n",
              "</table>\n",
              "</div>\n",
              "      <button class=\"colab-df-convert\" onclick=\"convertToInteractive('df-670e2ed8-ce68-4996-a59b-c858bcf5ae1b')\"\n",
              "              title=\"Convert this dataframe to an interactive table.\"\n",
              "              style=\"display:none;\">\n",
              "        \n",
              "  <svg xmlns=\"http://www.w3.org/2000/svg\" height=\"24px\"viewBox=\"0 0 24 24\"\n",
              "       width=\"24px\">\n",
              "    <path d=\"M0 0h24v24H0V0z\" fill=\"none\"/>\n",
              "    <path d=\"M18.56 5.44l.94 2.06.94-2.06 2.06-.94-2.06-.94-.94-2.06-.94 2.06-2.06.94zm-11 1L8.5 8.5l.94-2.06 2.06-.94-2.06-.94L8.5 2.5l-.94 2.06-2.06.94zm10 10l.94 2.06.94-2.06 2.06-.94-2.06-.94-.94-2.06-.94 2.06-2.06.94z\"/><path d=\"M17.41 7.96l-1.37-1.37c-.4-.4-.92-.59-1.43-.59-.52 0-1.04.2-1.43.59L10.3 9.45l-7.72 7.72c-.78.78-.78 2.05 0 2.83L4 21.41c.39.39.9.59 1.41.59.51 0 1.02-.2 1.41-.59l7.78-7.78 2.81-2.81c.8-.78.8-2.07 0-2.86zM5.41 20L4 18.59l7.72-7.72 1.47 1.35L5.41 20z\"/>\n",
              "  </svg>\n",
              "      </button>\n",
              "      \n",
              "  <style>\n",
              "    .colab-df-container {\n",
              "      display:flex;\n",
              "      flex-wrap:wrap;\n",
              "      gap: 12px;\n",
              "    }\n",
              "\n",
              "    .colab-df-convert {\n",
              "      background-color: #E8F0FE;\n",
              "      border: none;\n",
              "      border-radius: 50%;\n",
              "      cursor: pointer;\n",
              "      display: none;\n",
              "      fill: #1967D2;\n",
              "      height: 32px;\n",
              "      padding: 0 0 0 0;\n",
              "      width: 32px;\n",
              "    }\n",
              "\n",
              "    .colab-df-convert:hover {\n",
              "      background-color: #E2EBFA;\n",
              "      box-shadow: 0px 1px 2px rgba(60, 64, 67, 0.3), 0px 1px 3px 1px rgba(60, 64, 67, 0.15);\n",
              "      fill: #174EA6;\n",
              "    }\n",
              "\n",
              "    [theme=dark] .colab-df-convert {\n",
              "      background-color: #3B4455;\n",
              "      fill: #D2E3FC;\n",
              "    }\n",
              "\n",
              "    [theme=dark] .colab-df-convert:hover {\n",
              "      background-color: #434B5C;\n",
              "      box-shadow: 0px 1px 3px 1px rgba(0, 0, 0, 0.15);\n",
              "      filter: drop-shadow(0px 1px 2px rgba(0, 0, 0, 0.3));\n",
              "      fill: #FFFFFF;\n",
              "    }\n",
              "  </style>\n",
              "\n",
              "      <script>\n",
              "        const buttonEl =\n",
              "          document.querySelector('#df-670e2ed8-ce68-4996-a59b-c858bcf5ae1b button.colab-df-convert');\n",
              "        buttonEl.style.display =\n",
              "          google.colab.kernel.accessAllowed ? 'block' : 'none';\n",
              "\n",
              "        async function convertToInteractive(key) {\n",
              "          const element = document.querySelector('#df-670e2ed8-ce68-4996-a59b-c858bcf5ae1b');\n",
              "          const dataTable =\n",
              "            await google.colab.kernel.invokeFunction('convertToInteractive',\n",
              "                                                     [key], {});\n",
              "          if (!dataTable) return;\n",
              "\n",
              "          const docLinkHtml = 'Like what you see? Visit the ' +\n",
              "            '<a target=\"_blank\" href=https://colab.research.google.com/notebooks/data_table.ipynb>data table notebook</a>'\n",
              "            + ' to learn more about interactive tables.';\n",
              "          element.innerHTML = '';\n",
              "          dataTable['output_type'] = 'display_data';\n",
              "          await google.colab.output.renderOutput(dataTable, element);\n",
              "          const docLink = document.createElement('div');\n",
              "          docLink.innerHTML = docLinkHtml;\n",
              "          element.appendChild(docLink);\n",
              "        }\n",
              "      </script>\n",
              "    </div>\n",
              "  </div>\n",
              "  "
            ]
          },
          "metadata": {},
          "execution_count": 102
        }
      ]
    },
    {
      "cell_type": "code",
      "source": [
        "train_df.tail()"
      ],
      "metadata": {
        "colab": {
          "base_uri": "https://localhost:8080/"
        },
        "id": "kHt3ZERWIpGr",
        "outputId": "228ffd76-6dbf-4d42-e9f6-713a6f2a2004"
      },
      "execution_count": null,
      "outputs": [
        {
          "output_type": "execute_result",
          "data": {
            "text/plain": [
              "        line_number       target  \\\n",
              "180035            7      RESULTS   \n",
              "180036            8      RESULTS   \n",
              "180037            9      RESULTS   \n",
              "180038           10  CONCLUSIONS   \n",
              "180039           11  CONCLUSIONS   \n",
              "\n",
              "                                                     text  total_lines  \n",
              "180035  For the absolute change in percent atheroma vo...           11  \n",
              "180036  For PAV , a significantly greater percentage o...           11  \n",
              "180037  Both strategies had acceptable side effect pro...           11  \n",
              "180038  Compared with standard statin monotherapy , th...           11  \n",
              "180039  ( Plaque Regression With Cholesterol Absorptio...           11  "
            ],
            "text/html": [
              "\n",
              "  <div id=\"df-29f8441a-3d2d-4dff-9ba5-4dd89a3e3687\">\n",
              "    <div class=\"colab-df-container\">\n",
              "      <div>\n",
              "<style scoped>\n",
              "    .dataframe tbody tr th:only-of-type {\n",
              "        vertical-align: middle;\n",
              "    }\n",
              "\n",
              "    .dataframe tbody tr th {\n",
              "        vertical-align: top;\n",
              "    }\n",
              "\n",
              "    .dataframe thead th {\n",
              "        text-align: right;\n",
              "    }\n",
              "</style>\n",
              "<table border=\"1\" class=\"dataframe\">\n",
              "  <thead>\n",
              "    <tr style=\"text-align: right;\">\n",
              "      <th></th>\n",
              "      <th>line_number</th>\n",
              "      <th>target</th>\n",
              "      <th>text</th>\n",
              "      <th>total_lines</th>\n",
              "    </tr>\n",
              "  </thead>\n",
              "  <tbody>\n",
              "    <tr>\n",
              "      <th>180035</th>\n",
              "      <td>7</td>\n",
              "      <td>RESULTS</td>\n",
              "      <td>For the absolute change in percent atheroma vo...</td>\n",
              "      <td>11</td>\n",
              "    </tr>\n",
              "    <tr>\n",
              "      <th>180036</th>\n",
              "      <td>8</td>\n",
              "      <td>RESULTS</td>\n",
              "      <td>For PAV , a significantly greater percentage o...</td>\n",
              "      <td>11</td>\n",
              "    </tr>\n",
              "    <tr>\n",
              "      <th>180037</th>\n",
              "      <td>9</td>\n",
              "      <td>RESULTS</td>\n",
              "      <td>Both strategies had acceptable side effect pro...</td>\n",
              "      <td>11</td>\n",
              "    </tr>\n",
              "    <tr>\n",
              "      <th>180038</th>\n",
              "      <td>10</td>\n",
              "      <td>CONCLUSIONS</td>\n",
              "      <td>Compared with standard statin monotherapy , th...</td>\n",
              "      <td>11</td>\n",
              "    </tr>\n",
              "    <tr>\n",
              "      <th>180039</th>\n",
              "      <td>11</td>\n",
              "      <td>CONCLUSIONS</td>\n",
              "      <td>( Plaque Regression With Cholesterol Absorptio...</td>\n",
              "      <td>11</td>\n",
              "    </tr>\n",
              "  </tbody>\n",
              "</table>\n",
              "</div>\n",
              "      <button class=\"colab-df-convert\" onclick=\"convertToInteractive('df-29f8441a-3d2d-4dff-9ba5-4dd89a3e3687')\"\n",
              "              title=\"Convert this dataframe to an interactive table.\"\n",
              "              style=\"display:none;\">\n",
              "        \n",
              "  <svg xmlns=\"http://www.w3.org/2000/svg\" height=\"24px\"viewBox=\"0 0 24 24\"\n",
              "       width=\"24px\">\n",
              "    <path d=\"M0 0h24v24H0V0z\" fill=\"none\"/>\n",
              "    <path d=\"M18.56 5.44l.94 2.06.94-2.06 2.06-.94-2.06-.94-.94-2.06-.94 2.06-2.06.94zm-11 1L8.5 8.5l.94-2.06 2.06-.94-2.06-.94L8.5 2.5l-.94 2.06-2.06.94zm10 10l.94 2.06.94-2.06 2.06-.94-2.06-.94-.94-2.06-.94 2.06-2.06.94z\"/><path d=\"M17.41 7.96l-1.37-1.37c-.4-.4-.92-.59-1.43-.59-.52 0-1.04.2-1.43.59L10.3 9.45l-7.72 7.72c-.78.78-.78 2.05 0 2.83L4 21.41c.39.39.9.59 1.41.59.51 0 1.02-.2 1.41-.59l7.78-7.78 2.81-2.81c.8-.78.8-2.07 0-2.86zM5.41 20L4 18.59l7.72-7.72 1.47 1.35L5.41 20z\"/>\n",
              "  </svg>\n",
              "      </button>\n",
              "      \n",
              "  <style>\n",
              "    .colab-df-container {\n",
              "      display:flex;\n",
              "      flex-wrap:wrap;\n",
              "      gap: 12px;\n",
              "    }\n",
              "\n",
              "    .colab-df-convert {\n",
              "      background-color: #E8F0FE;\n",
              "      border: none;\n",
              "      border-radius: 50%;\n",
              "      cursor: pointer;\n",
              "      display: none;\n",
              "      fill: #1967D2;\n",
              "      height: 32px;\n",
              "      padding: 0 0 0 0;\n",
              "      width: 32px;\n",
              "    }\n",
              "\n",
              "    .colab-df-convert:hover {\n",
              "      background-color: #E2EBFA;\n",
              "      box-shadow: 0px 1px 2px rgba(60, 64, 67, 0.3), 0px 1px 3px 1px rgba(60, 64, 67, 0.15);\n",
              "      fill: #174EA6;\n",
              "    }\n",
              "\n",
              "    [theme=dark] .colab-df-convert {\n",
              "      background-color: #3B4455;\n",
              "      fill: #D2E3FC;\n",
              "    }\n",
              "\n",
              "    [theme=dark] .colab-df-convert:hover {\n",
              "      background-color: #434B5C;\n",
              "      box-shadow: 0px 1px 3px 1px rgba(0, 0, 0, 0.15);\n",
              "      filter: drop-shadow(0px 1px 2px rgba(0, 0, 0, 0.3));\n",
              "      fill: #FFFFFF;\n",
              "    }\n",
              "  </style>\n",
              "\n",
              "      <script>\n",
              "        const buttonEl =\n",
              "          document.querySelector('#df-29f8441a-3d2d-4dff-9ba5-4dd89a3e3687 button.colab-df-convert');\n",
              "        buttonEl.style.display =\n",
              "          google.colab.kernel.accessAllowed ? 'block' : 'none';\n",
              "\n",
              "        async function convertToInteractive(key) {\n",
              "          const element = document.querySelector('#df-29f8441a-3d2d-4dff-9ba5-4dd89a3e3687');\n",
              "          const dataTable =\n",
              "            await google.colab.kernel.invokeFunction('convertToInteractive',\n",
              "                                                     [key], {});\n",
              "          if (!dataTable) return;\n",
              "\n",
              "          const docLinkHtml = 'Like what you see? Visit the ' +\n",
              "            '<a target=\"_blank\" href=https://colab.research.google.com/notebooks/data_table.ipynb>data table notebook</a>'\n",
              "            + ' to learn more about interactive tables.';\n",
              "          element.innerHTML = '';\n",
              "          dataTable['output_type'] = 'display_data';\n",
              "          await google.colab.output.renderOutput(dataTable, element);\n",
              "          const docLink = document.createElement('div');\n",
              "          docLink.innerHTML = docLinkHtml;\n",
              "          element.appendChild(docLink);\n",
              "        }\n",
              "      </script>\n",
              "    </div>\n",
              "  </div>\n",
              "  "
            ]
          },
          "metadata": {},
          "execution_count": 103
        }
      ]
    },
    {
      "cell_type": "code",
      "source": [],
      "metadata": {
        "id": "JFrEbAkqKgzY"
      },
      "execution_count": null,
      "outputs": []
    },
    {
      "cell_type": "markdown",
      "source": [
        "## **Model 5** : Pretrained model with token embedding + character embedding + positional embedding \n",
        "\n",
        "\n",
        "Creating a tribred embedding model:\n",
        "1. Create a token-lavel model \n",
        "2. Create a character-lavel model\n",
        "3. Create a model for **line-number** feature\n",
        "4. Create a model for **total-lines** feature\n",
        "5. Combine the output of **1** & **2** using `tf.keras.layers.Concatenate`\n",
        "6. Combine the output of **3**, **4**, **5** using `tf.keras.layers.Concatenate`\n",
        "7. Create a output layer to accept the tribed embedding and output label probabilities.\n",
        "8. Combine the inputs of **1, 2, 3, 4** and **outputs** into `tf.keras.Model` to create a model."
      ],
      "metadata": {
        "id": "U9xLzMIn7_3j"
      }
    },
    {
      "cell_type": "code",
      "source": [
        "import tensorflow as tf\n",
        "from tensorflow.keras import layers\n",
        "# 1. Create a token embedding input/model\n",
        "model_5_token_inputs = layers.Input(shape=[], dtype=tf.string, name=\"token_input\")\n",
        "model_5_token_embedding = extractor_layer(model_5_token_inputs)\n",
        "model_5_outputs = layers.Dense(128, activation=\"relu\", name=\"dense_output\")(model_5_token_embedding)\n",
        "model_5_token = tf.keras.Model(inputs=model_5_token_inputs, outputs=model_5_outputs)\n",
        "\n",
        "# 2. Create a char lavel embedding \n",
        "model_5_char_inputs = layers.Input(shape=(1,), dtype=tf.string, name=\"char_input\")\n",
        "model_5_char_vector = char_vectorizer(model_5_char_inputs)\n",
        "model_5_char_embedding = char_embedding(model_5_char_vector)\n",
        "model_5_bi_lstm = layers.Bidirectional(layers.LSTM(24), name=\"model_5_bi_lstm\")(model_5_char_embedding)\n",
        "model_5_char = tf.keras.Model(\n",
        "    inputs=model_5_char_inputs,\n",
        "    outputs=model_5_bi_lstm\n",
        ")\n",
        "\n",
        "# 3. Create a line no inputs/model \n",
        "line_no_inputs = layers.Input(shape=(15,), dtype=tf.float32, name=\"line_no_inputs\")\n",
        "line_no_outputs = layers.Dense(32, activation=\"relu\")(line_no_inputs)\n",
        "line_no_model = tf.keras.Model(line_no_inputs, line_no_outputs)\n",
        "\n",
        "# 4. Create a total-lines inputs/model \n",
        "total_line_inputs = layers.Input(shape=(20,), dtype=tf.float32, name=\"total_line_inputs\")\n",
        "total_line_outputs = layers.Dense(32, activation=\"relu\")(total_line_inputs)\n",
        "total_line_model = tf.keras.Model(inputs=total_line_inputs, outputs=total_line_outputs)\n",
        "\n",
        "# 5. Combine the output of 1 & 2 using tf.keras.layers.Concatenate.\n",
        "combined_embeddings = tf.keras.layers.Concatenate(name=\"m5_token_char_concatenate\")([model_5_token.output,\n",
        "                                                                                model_5_char.output])\n",
        "\n",
        "z = layers.Dense(256, activation=\"relu\")(combined_embeddings)\n",
        "z = layers.Dropout(0.5)(combined_embeddings)\n",
        "\n",
        "# 6. Combine the output of 3, 4, 5 using tf.keras.layers.Concatenate.\n",
        "tribrid_embeddings = layers.Concatenate(name=\"line_no_total_line_5_con\")([\n",
        "  line_no_model.output,\n",
        "  total_line_model.output,\n",
        "  z\n",
        "])\n",
        "\n",
        "# 7. Create a output layer to accept the tribed embedding and output label probabilities.\n",
        "model_5_outputs = layers.Dense(5, activation=\"softmax\")(tribrid_embeddings)\n",
        "\n",
        "# 8. Combine the inputs of 1, 2, 3, 4 and outputs into tf.keras.Model to create a model.\n",
        "model_5 = tf.keras.Model(inputs=[line_no_model.input,\n",
        "                                 total_line_model.input,\n",
        "                                 model_5_token.input,\n",
        "                                 model_5_char.input],\n",
        "                         outputs=model_5_outputs,\n",
        "                         name=\"model_5_tribed_cmbedding_model\")"
      ],
      "metadata": {
        "id": "KBjTtzENRjJZ"
      },
      "execution_count": null,
      "outputs": []
    },
    {
      "cell_type": "code",
      "source": [
        "model_5.summary()"
      ],
      "metadata": {
        "id": "K4A0aOKBKahF",
        "colab": {
          "base_uri": "https://localhost:8080/"
        },
        "outputId": "3fe8e297-6924-4f2b-ecd2-4ea2464eb322"
      },
      "execution_count": null,
      "outputs": [
        {
          "output_type": "stream",
          "name": "stdout",
          "text": [
            "Model: \"model_5_tribed_cmbedding_model\"\n",
            "__________________________________________________________________________________________________\n",
            " Layer (type)                   Output Shape         Param #     Connected to                     \n",
            "==================================================================================================\n",
            " char_input (InputLayer)        [(None, 1)]          0           []                               \n",
            "                                                                                                  \n",
            " token_input (InputLayer)       [(None,)]            0           []                               \n",
            "                                                                                                  \n",
            " char_vectorizer (TextVectoriza  (None, 291)         0           ['char_input[0][0]']             \n",
            " tion)                                                                                            \n",
            "                                                                                                  \n",
            " use (KerasLayer)               (None, 512)          256797824   ['token_input[0][0]']            \n",
            "                                                                                                  \n",
            " embedding_1 (Embedding)        (None, 291, 25)      700         ['char_vectorizer[2][0]']        \n",
            "                                                                                                  \n",
            " dense_output (Dense)           (None, 128)          65664       ['use[2][0]']                    \n",
            "                                                                                                  \n",
            " model_5_bi_lstm (Bidirectional  (None, 48)          9600        ['embedding_1[2][0]']            \n",
            " )                                                                                                \n",
            "                                                                                                  \n",
            " line_no_inputs (InputLayer)    [(None, 15)]         0           []                               \n",
            "                                                                                                  \n",
            " total_line_inputs (InputLayer)  [(None, 20)]        0           []                               \n",
            "                                                                                                  \n",
            " m5_token_char_concatenate (Con  (None, 176)         0           ['dense_output[0][0]',           \n",
            " catenate)                                                        'model_5_bi_lstm[0][0]']        \n",
            "                                                                                                  \n",
            " dense_7 (Dense)                (None, 32)           512         ['line_no_inputs[0][0]']         \n",
            "                                                                                                  \n",
            " dense_8 (Dense)                (None, 32)           672         ['total_line_inputs[0][0]']      \n",
            "                                                                                                  \n",
            " dropout_2 (Dropout)            (None, 176)          0           ['m5_token_char_concatenate[0][0]\n",
            "                                                                 ']                               \n",
            "                                                                                                  \n",
            " line_no_total_line_5_con (Conc  (None, 240)         0           ['dense_7[0][0]',                \n",
            " atenate)                                                         'dense_8[0][0]',                \n",
            "                                                                  'dropout_2[0][0]']              \n",
            "                                                                                                  \n",
            " dense_10 (Dense)               (None, 5)            1205        ['line_no_total_line_5_con[0][0]'\n",
            "                                                                 ]                                \n",
            "                                                                                                  \n",
            "==================================================================================================\n",
            "Total params: 256,876,177\n",
            "Trainable params: 78,353\n",
            "Non-trainable params: 256,797,824\n",
            "__________________________________________________________________________________________________\n"
          ]
        }
      ]
    },
    {
      "cell_type": "code",
      "source": [
        "from tensorflow.keras.utils import plot_model\n",
        "plot_model(model_5, show_shapes=True)"
      ],
      "metadata": {
        "id": "edho1K1IKcYO",
        "colab": {
          "base_uri": "https://localhost:8080/"
        },
        "outputId": "3b32f4fb-af53-423b-ace6-632ca65804c1"
      },
      "execution_count": null,
      "outputs": [
        {
          "output_type": "execute_result",
          "data": {
            "text/plain": [
              "<IPython.core.display.Image object>"
            ],
            "image/png": "[encoded data removed]"
          },
          "metadata": {},
          "execution_count": 106
        }
      ]
    },
    {
      "cell_type": "markdown",
      "source": [
        "## Compiling my biggest model I have built so far(DATE=23/July/2022), So excited about this huh huh 😃😃🕺🏽🕺🏽"
      ],
      "metadata": {
        "id": "d26z4BzIzhKp"
      }
    },
    {
      "cell_type": "code",
      "source": [
        "model_5.compile(\n",
        "    loss=tf.keras.losses.CategoricalCrossentropy(label_smoothing=0.2), # helps to prevent overfitting\n",
        "    optimizer=tf.keras.optimizers.Adam(),\n",
        "    metrics=[\"accuracy\"]\n",
        ")"
      ],
      "metadata": {
        "id": "-VOYfiQp2B4O"
      },
      "execution_count": null,
      "outputs": []
    },
    {
      "cell_type": "markdown",
      "source": [
        "### Preparing data for my biggest model for performance\n",
        "\n",
        "Sequence of the data should be:\n",
        "\n",
        "* ⬇️ line number\n",
        "* ⬇️ total lines\n",
        "* ⬇️ token input\n",
        "* ➡️ char input\n"
      ],
      "metadata": {
        "id": "qYvKRomz6A7W"
      }
    },
    {
      "cell_type": "code",
      "source": [
        "model_5_train_data = tf.data.Dataset.from_tensor_slices((\n",
        "    train_line_number_one_hot,\n",
        "    train_total_line_one_hot,\n",
        "    train_sentences, \n",
        "    train_chars\n",
        "))\n",
        "model_5_train_labels = tf.data.Dataset.from_tensor_slices(train_labels_one_hot)\n",
        "\n",
        "train_char_token_pos_dataset = tf.data.Dataset.zip((model_5_train_data, model_5_train_labels))\n",
        "\n",
        "train_char_token_pos_dataset = train_char_token_pos_dataset.batch(32).prefetch(buffer_size=tf.data.AUTOTUNE)"
      ],
      "metadata": {
        "id": "c7R6QLeL6Han"
      },
      "execution_count": null,
      "outputs": []
    },
    {
      "cell_type": "code",
      "source": [
        "model_5_val_data = tf.data.Dataset.from_tensor_slices((\n",
        "    val_line_number_one_hot,\n",
        "    val_total_line_one_hot,\n",
        "    val_sentences,\n",
        "    val_chars\n",
        "))\n",
        "\n",
        "model_5_val_labels = tf.data.Dataset.from_tensor_slices(val_labels_oen_hot)\n",
        "\n",
        "val_char_token_pos_dataset = tf.data.Dataset.zip((model_5_val_data, model_5_val_labels))\n",
        "\n",
        "val_char_token_pos_dataset = val_char_token_pos_dataset.batch(32).prefetch(buffer_size=tf.data.AUTOTUNE)"
      ],
      "metadata": {
        "id": "uoenpbtS_Vr2"
      },
      "execution_count": null,
      "outputs": []
    },
    {
      "cell_type": "code",
      "source": [
        "train_char_token_pos_dataset"
      ],
      "metadata": {
        "id": "J-KjV0XRA54B",
        "colab": {
          "base_uri": "https://localhost:8080/"
        },
        "outputId": "9c236796-298f-4991-fd16-2aba66788f26"
      },
      "execution_count": null,
      "outputs": [
        {
          "output_type": "execute_result",
          "data": {
            "text/plain": [
              "<PrefetchDataset element_spec=((TensorSpec(shape=(None, 15), dtype=tf.float32, name=None), TensorSpec(shape=(None, 20), dtype=tf.float32, name=None), TensorSpec(shape=(None,), dtype=tf.string, name=None), TensorSpec(shape=(None,), dtype=tf.string, name=None)), TensorSpec(shape=(None, 5), dtype=tf.float64, name=None))>"
            ]
          },
          "metadata": {},
          "execution_count": 110
        }
      ]
    },
    {
      "cell_type": "code",
      "source": [
        "val_char_token_pos_dataset"
      ],
      "metadata": {
        "colab": {
          "base_uri": "https://localhost:8080/"
        },
        "id": "7YLPoGPxMkkg",
        "outputId": "9af54734-7405-4284-a813-2a12f9aa3e9c"
      },
      "execution_count": null,
      "outputs": [
        {
          "output_type": "execute_result",
          "data": {
            "text/plain": [
              "<PrefetchDataset element_spec=((TensorSpec(shape=(None, 15), dtype=tf.float32, name=None), TensorSpec(shape=(None, 20), dtype=tf.float32, name=None), TensorSpec(shape=(None,), dtype=tf.string, name=None), TensorSpec(shape=(None,), dtype=tf.string, name=None)), TensorSpec(shape=(None, 5), dtype=tf.float64, name=None))>"
            ]
          },
          "metadata": {},
          "execution_count": 111
        }
      ]
    },
    {
      "cell_type": "markdown",
      "source": [
        "## Fitting , evaluating, and making prediction from our biggest model yet"
      ],
      "metadata": {
        "id": "iOsyh4gRLqxJ"
      }
    },
    {
      "cell_type": "code",
      "source": [
        "model_5.fit(\n",
        "    train_char_token_pos_dataset,\n",
        "    epochs=3, \n",
        "    steps_per_epoch=int(0.1 * len(train_char_token_pos_dataset)),\n",
        "    validation_data=val_char_token_pos_dataset,\n",
        "    validation_steps=int(0.1 * len(val_char_token_pos_dataset))\n",
        ")"
      ],
      "metadata": {
        "colab": {
          "base_uri": "https://localhost:8080/"
        },
        "id": "VnFHosQ3LqWD",
        "outputId": "a27f3e68-a25b-43e2-b346-66559a36de91"
      },
      "execution_count": null,
      "outputs": [
        {
          "output_type": "stream",
          "name": "stdout",
          "text": [
            "Epoch 1/3\n",
            "562/562 [==============================] - 38s 54ms/step - loss: 1.1270 - accuracy: 0.7074 - val_loss: 0.9962 - val_accuracy: 0.7975\n",
            "Epoch 2/3\n",
            "562/562 [==============================] - 28s 50ms/step - loss: 0.9891 - accuracy: 0.7999 - val_loss: 0.9654 - val_accuracy: 0.8168\n",
            "Epoch 3/3\n",
            "562/562 [==============================] - 25s 44ms/step - loss: 0.9724 - accuracy: 0.8111 - val_loss: 0.9596 - val_accuracy: 0.8185\n"
          ]
        },
        {
          "output_type": "execute_result",
          "data": {
            "text/plain": [
              "<keras.callbacks.History at 0x7fad0d0acf90>"
            ]
          },
          "metadata": {},
          "execution_count": 112
        }
      ]
    },
    {
      "cell_type": "code",
      "source": [
        "model_5_pred_probs, model_5_preds, model_5_result = give_preds(model_5, \n",
        "                                                               val_char_token_pos_dataset,\n",
        "                                                               val_labels_encoded)\n",
        "model_5_result"
      ],
      "metadata": {
        "colab": {
          "base_uri": "https://localhost:8080/"
        },
        "id": "BTaNm5zmNhXZ",
        "outputId": "1c3fac82-80fe-4295-c02a-5efae721c063"
      },
      "execution_count": null,
      "outputs": [
        {
          "output_type": "execute_result",
          "data": {
            "text/plain": [
              "{'accuracy': 81.94757050178737,\n",
              " 'f1': 0.8182373760153039,\n",
              " 'precision': 0.8176227323755226,\n",
              " 'recall': 0.8194757050178737}"
            ]
          },
          "metadata": {},
          "execution_count": 113
        }
      ]
    },
    {
      "cell_type": "code",
      "source": [
        "model_1_result"
      ],
      "metadata": {
        "colab": {
          "base_uri": "https://localhost:8080/"
        },
        "id": "mzIlY9xbOilQ",
        "outputId": "b5bd0fa6-af6c-48ab-8f77-a76971fec55d"
      },
      "execution_count": null,
      "outputs": [
        {
          "output_type": "execute_result",
          "data": {
            "text/plain": [
              "{'accuracy': 80.32569839798755,\n",
              " 'f1': 0.8015848640469813,\n",
              " 'precision': 0.8013383563588226,\n",
              " 'recall': 0.8032569839798755}"
            ]
          },
          "metadata": {},
          "execution_count": 114
        }
      ]
    },
    {
      "cell_type": "code",
      "source": [
        "model_4_result"
      ],
      "metadata": {
        "colab": {
          "base_uri": "https://localhost:8080/"
        },
        "id": "ocdSfkhOOqXf",
        "outputId": "d99652a4-dbc0-4bb7-bc92-057851db1dfa"
      },
      "execution_count": null,
      "outputs": [
        {
          "output_type": "execute_result",
          "data": {
            "text/plain": [
              "{'accuracy': 73.15636171057858,\n",
              " 'f1': 0.7290949425994024,\n",
              " 'precision': 0.7307527541252665,\n",
              " 'recall': 0.7315636171057858}"
            ]
          },
          "metadata": {},
          "execution_count": 115
        }
      ]
    },
    {
      "cell_type": "markdown",
      "source": [
        "## Compare model results"
      ],
      "metadata": {
        "id": "IJGj08H_QOot"
      }
    },
    {
      "cell_type": "code",
      "source": [
        "import pandas as pd\n",
        "\n",
        "all_model_result = pd.DataFrame({\"model_0\": model_0_result,\n",
        "                                 \"model_1\": model_1_result,\n",
        "                                 \"model_2\": model_2_result,\n",
        "                                 \"model_3\": model_3_result,\n",
        "                                 \"model_4\": model_4_result,\n",
        "                                 \"model_5\": model_5_result})\n",
        "\n",
        "all_model_result = all_model_result.transpose()\n",
        "all_model_result[\"accuracy\"] = all_model_result[\"accuracy\"]/100\n",
        "all_model_result"
      ],
      "metadata": {
        "colab": {
          "base_uri": "https://localhost:8080/"
        },
        "id": "VphA2Vv2RlqK",
        "outputId": "359d75a9-8667-4f99-8867-85fa959c54d5"
      },
      "execution_count": null,
      "outputs": [
        {
          "output_type": "execute_result",
          "data": {
            "text/plain": [
              "         accuracy  precision    recall        f1\n",
              "model_0  0.721832   0.718647  0.721832  0.698925\n",
              "model_1  0.803257   0.801338  0.803257  0.801585\n",
              "model_2  0.713657   0.714981  0.713657  0.711380\n",
              "model_3  0.653019   0.646706  0.653019  0.640904\n",
              "model_4  0.731564   0.730753  0.731564  0.729095\n",
              "model_5  0.819476   0.817623  0.819476  0.818237"
            ],
            "text/html": [
              "\n",
              "  <div id=\"df-c468f29f-a9a5-4b9e-9d84-bf5aa6a85adb\">\n",
              "    <div class=\"colab-df-container\">\n",
              "      <div>\n",
              "<style scoped>\n",
              "    .dataframe tbody tr th:only-of-type {\n",
              "        vertical-align: middle;\n",
              "    }\n",
              "\n",
              "    .dataframe tbody tr th {\n",
              "        vertical-align: top;\n",
              "    }\n",
              "\n",
              "    .dataframe thead th {\n",
              "        text-align: right;\n",
              "    }\n",
              "</style>\n",
              "<table border=\"1\" class=\"dataframe\">\n",
              "  <thead>\n",
              "    <tr style=\"text-align: right;\">\n",
              "      <th></th>\n",
              "      <th>accuracy</th>\n",
              "      <th>precision</th>\n",
              "      <th>recall</th>\n",
              "      <th>f1</th>\n",
              "    </tr>\n",
              "  </thead>\n",
              "  <tbody>\n",
              "    <tr>\n",
              "      <th>model_0</th>\n",
              "      <td>0.721832</td>\n",
              "      <td>0.718647</td>\n",
              "      <td>0.721832</td>\n",
              "      <td>0.698925</td>\n",
              "    </tr>\n",
              "    <tr>\n",
              "      <th>model_1</th>\n",
              "      <td>0.803257</td>\n",
              "      <td>0.801338</td>\n",
              "      <td>0.803257</td>\n",
              "      <td>0.801585</td>\n",
              "    </tr>\n",
              "    <tr>\n",
              "      <th>model_2</th>\n",
              "      <td>0.713657</td>\n",
              "      <td>0.714981</td>\n",
              "      <td>0.713657</td>\n",
              "      <td>0.711380</td>\n",
              "    </tr>\n",
              "    <tr>\n",
              "      <th>model_3</th>\n",
              "      <td>0.653019</td>\n",
              "      <td>0.646706</td>\n",
              "      <td>0.653019</td>\n",
              "      <td>0.640904</td>\n",
              "    </tr>\n",
              "    <tr>\n",
              "      <th>model_4</th>\n",
              "      <td>0.731564</td>\n",
              "      <td>0.730753</td>\n",
              "      <td>0.731564</td>\n",
              "      <td>0.729095</td>\n",
              "    </tr>\n",
              "    <tr>\n",
              "      <th>model_5</th>\n",
              "      <td>0.819476</td>\n",
              "      <td>0.817623</td>\n",
              "      <td>0.819476</td>\n",
              "      <td>0.818237</td>\n",
              "    </tr>\n",
              "  </tbody>\n",
              "</table>\n",
              "</div>\n",
              "      <button class=\"colab-df-convert\" onclick=\"convertToInteractive('df-c468f29f-a9a5-4b9e-9d84-bf5aa6a85adb')\"\n",
              "              title=\"Convert this dataframe to an interactive table.\"\n",
              "              style=\"display:none;\">\n",
              "        \n",
              "  <svg xmlns=\"http://www.w3.org/2000/svg\" height=\"24px\"viewBox=\"0 0 24 24\"\n",
              "       width=\"24px\">\n",
              "    <path d=\"M0 0h24v24H0V0z\" fill=\"none\"/>\n",
              "    <path d=\"M18.56 5.44l.94 2.06.94-2.06 2.06-.94-2.06-.94-.94-2.06-.94 2.06-2.06.94zm-11 1L8.5 8.5l.94-2.06 2.06-.94-2.06-.94L8.5 2.5l-.94 2.06-2.06.94zm10 10l.94 2.06.94-2.06 2.06-.94-2.06-.94-.94-2.06-.94 2.06-2.06.94z\"/><path d=\"M17.41 7.96l-1.37-1.37c-.4-.4-.92-.59-1.43-.59-.52 0-1.04.2-1.43.59L10.3 9.45l-7.72 7.72c-.78.78-.78 2.05 0 2.83L4 21.41c.39.39.9.59 1.41.59.51 0 1.02-.2 1.41-.59l7.78-7.78 2.81-2.81c.8-.78.8-2.07 0-2.86zM5.41 20L4 18.59l7.72-7.72 1.47 1.35L5.41 20z\"/>\n",
              "  </svg>\n",
              "      </button>\n",
              "      \n",
              "  <style>\n",
              "    .colab-df-container {\n",
              "      display:flex;\n",
              "      flex-wrap:wrap;\n",
              "      gap: 12px;\n",
              "    }\n",
              "\n",
              "    .colab-df-convert {\n",
              "      background-color: #E8F0FE;\n",
              "      border: none;\n",
              "      border-radius: 50%;\n",
              "      cursor: pointer;\n",
              "      display: none;\n",
              "      fill: #1967D2;\n",
              "      height: 32px;\n",
              "      padding: 0 0 0 0;\n",
              "      width: 32px;\n",
              "    }\n",
              "\n",
              "    .colab-df-convert:hover {\n",
              "      background-color: #E2EBFA;\n",
              "      box-shadow: 0px 1px 2px rgba(60, 64, 67, 0.3), 0px 1px 3px 1px rgba(60, 64, 67, 0.15);\n",
              "      fill: #174EA6;\n",
              "    }\n",
              "\n",
              "    [theme=dark] .colab-df-convert {\n",
              "      background-color: #3B4455;\n",
              "      fill: #D2E3FC;\n",
              "    }\n",
              "\n",
              "    [theme=dark] .colab-df-convert:hover {\n",
              "      background-color: #434B5C;\n",
              "      box-shadow: 0px 1px 3px 1px rgba(0, 0, 0, 0.15);\n",
              "      filter: drop-shadow(0px 1px 2px rgba(0, 0, 0, 0.3));\n",
              "      fill: #FFFFFF;\n",
              "    }\n",
              "  </style>\n",
              "\n",
              "      <script>\n",
              "        const buttonEl =\n",
              "          document.querySelector('#df-c468f29f-a9a5-4b9e-9d84-bf5aa6a85adb button.colab-df-convert');\n",
              "        buttonEl.style.display =\n",
              "          google.colab.kernel.accessAllowed ? 'block' : 'none';\n",
              "\n",
              "        async function convertToInteractive(key) {\n",
              "          const element = document.querySelector('#df-c468f29f-a9a5-4b9e-9d84-bf5aa6a85adb');\n",
              "          const dataTable =\n",
              "            await google.colab.kernel.invokeFunction('convertToInteractive',\n",
              "                                                     [key], {});\n",
              "          if (!dataTable) return;\n",
              "\n",
              "          const docLinkHtml = 'Like what you see? Visit the ' +\n",
              "            '<a target=\"_blank\" href=https://colab.research.google.com/notebooks/data_table.ipynb>data table notebook</a>'\n",
              "            + ' to learn more about interactive tables.';\n",
              "          element.innerHTML = '';\n",
              "          dataTable['output_type'] = 'display_data';\n",
              "          await google.colab.output.renderOutput(dataTable, element);\n",
              "          const docLink = document.createElement('div');\n",
              "          docLink.innerHTML = docLinkHtml;\n",
              "          element.appendChild(docLink);\n",
              "        }\n",
              "      </script>\n",
              "    </div>\n",
              "  </div>\n",
              "  "
            ]
          },
          "metadata": {},
          "execution_count": 116
        }
      ]
    },
    {
      "cell_type": "code",
      "source": [
        "all_model_result.plot(kind=\"bar\", figsize=(10, 7)).legend(bbox_to_anchor=(1.0, 1.0))"
      ],
      "metadata": {
        "colab": {
          "base_uri": "https://localhost:8080/"
        },
        "id": "ETVoLcGySgai",
        "outputId": "9f7173be-86a5-4d3c-9238-377e356b163e"
      },
      "execution_count": null,
      "outputs": [
        {
          "output_type": "execute_result",
          "data": {
            "text/plain": [
              "<matplotlib.legend.Legend at 0x7fab3cec8910>"
            ]
          },
          "metadata": {},
          "execution_count": 117
        },
        {
          "output_type": "display_data",
          "data": {
            "text/plain": [
              "<Figure size 720x504 with 1 Axes>"
            ],
            "image/png": "[encoded data removed]"
          },
          "metadata": {
            "needs_background": "light"
          }
        }
      ]
    },
    {
      "cell_type": "code",
      "source": [
        "# Plotting precision score in ascending order \n",
        "all_model_result.sort_values(\"f1\", ascending=True)[\"f1\"].plot(kind=\"bar\", figsize=(10, 7))"
      ],
      "metadata": {
        "colab": {
          "base_uri": "https://localhost:8080/"
        },
        "id": "gtOdsG2VVPp5",
        "outputId": "508b4eda-d7cf-4837-8767-2d37ed6670c8"
      },
      "execution_count": null,
      "outputs": [
        {
          "output_type": "execute_result",
          "data": {
            "text/plain": [
              "<matplotlib.axes._subplots.AxesSubplot at 0x7fab3ce92e90>"
            ]
          },
          "metadata": {},
          "execution_count": 118
        },
        {
          "output_type": "display_data",
          "data": {
            "text/plain": [
              "<Figure size 720x504 with 1 Axes>"
            ],
            "image/png": "[encoded data removed]"
          },
          "metadata": {
            "needs_background": "light"
          }
        }
      ]
    },
    {
      "cell_type": "markdown",
      "source": [
        "## Save and load our best Model "
      ],
      "metadata": {
        "id": "-c8JDG_jT-fG"
      }
    },
    {
      "cell_type": "code",
      "source": [
        "# saving model 5 \n",
        "model_5.save(\"skimlit\")"
      ],
      "metadata": {
        "colab": {
          "base_uri": "https://localhost:8080/"
        },
        "id": "QmecR_eCVPFE",
        "outputId": "77f4ec45-b7eb-49d5-a453-5db83136f943"
      },
      "execution_count": null,
      "outputs": [
        {
          "output_type": "stream",
          "name": "stderr",
          "text": [
            "WARNING:absl:Found untraced functions such as lstm_cell_7_layer_call_fn, lstm_cell_7_layer_call_and_return_conditional_losses, lstm_cell_8_layer_call_fn, lstm_cell_8_layer_call_and_return_conditional_losses while saving (showing 4 of 4). These functions will not be directly callable after loading.\n",
            "WARNING:absl:<keras.layers.recurrent.LSTMCell object at 0x7fad0c167090> has the same name 'LSTMCell' as a built-in Keras object. Consider renaming <class 'keras.layers.recurrent.LSTMCell'> to avoid naming conflicts when loading with `tf.keras.models.load_model`. If renaming is not possible, pass the object in the `custom_objects` parameter of the load function.\n",
            "WARNING:absl:<keras.layers.recurrent.LSTMCell object at 0x7fad0c167c90> has the same name 'LSTMCell' as a built-in Keras object. Consider renaming <class 'keras.layers.recurrent.LSTMCell'> to avoid naming conflicts when loading with `tf.keras.models.load_model`. If renaming is not possible, pass the object in the `custom_objects` parameter of the load function.\n"
          ]
        }
      ]
    },
    {
      "cell_type": "code",
      "source": [
        "loaded_model = tf.keras.models.load_model(\"skimlit\")"
      ],
      "metadata": {
        "id": "nbA5VmkLWEaJ"
      },
      "execution_count": null,
      "outputs": []
    },
    {
      "cell_type": "code",
      "source": [
        "loded_model_pred_probs, loaded_model_preds, loaded_model_result = give_preds(loaded_model,\n",
        "                                                                             val_char_token_pos_dataset,\n",
        "                                                                             val_labels_encoded)"
      ],
      "metadata": {
        "id": "RAeo89SIWmMh"
      },
      "execution_count": null,
      "outputs": []
    },
    {
      "cell_type": "code",
      "source": [
        "loaded_model_result"
      ],
      "metadata": {
        "colab": {
          "base_uri": "https://localhost:8080/"
        },
        "id": "Vk3tsHYaW6lB",
        "outputId": "f0aff8b4-6764-4712-a708-ba4a655ddd7e"
      },
      "execution_count": null,
      "outputs": [
        {
          "output_type": "execute_result",
          "data": {
            "text/plain": [
              "{'accuracy': 81.94757050178737,\n",
              " 'f1': 0.8182373760153039,\n",
              " 'precision': 0.8176227323755226,\n",
              " 'recall': 0.8194757050178737}"
            ]
          },
          "metadata": {},
          "execution_count": 122
        }
      ]
    },
    {
      "cell_type": "markdown",
      "source": [
        "## Download and load a pretrained model from goggle storage"
      ],
      "metadata": {
        "id": "YvGV4pg0W-Ga"
      }
    },
    {
      "cell_type": "code",
      "source": [
        "!wget https://storage.googleapis.com/ztm_tf_course/skimlit/skimlit_tribrid_model.zip\n",
        "!mkdir skimlit_gs_model\n",
        "!unzip skimlit_tribrid_model.zip -d skimlit_gs_model"
      ],
      "metadata": {
        "colab": {
          "base_uri": "https://localhost:8080/"
        },
        "id": "22LofOApaJmr",
        "outputId": "21cf362e-fcfb-49d0-9d62-3cb4c44faabb"
      },
      "execution_count": null,
      "outputs": [
        {
          "output_type": "stream",
          "name": "stdout",
          "text": [
            "--2022-07-25 20:14:31--  https://storage.googleapis.com/ztm_tf_course/skimlit/skimlit_tribrid_model.zip\n",
            "Resolving storage.googleapis.com (storage.googleapis.com)... 74.125.24.128, 172.217.194.128, 2404:6800:4003:c11::80, ...\n",
            "Connecting to storage.googleapis.com (storage.googleapis.com)|74.125.24.128|:443... connected.\n",
            "HTTP request sent, awaiting response... 200 OK\n",
            "Length: 962561955 (918M) [application/zip]\n",
            "Saving to: ‘skimlit_tribrid_model.zip’\n",
            "\n",
            "skimlit_tribrid_mod 100%[===================>] 917.97M  55.1MB/s    in 19s     \n",
            "\n",
            "2022-07-25 20:14:50 (49.5 MB/s) - ‘skimlit_tribrid_model.zip’ saved [962561955/962561955]\n",
            "\n",
            "Archive:  skimlit_tribrid_model.zip\n",
            "   creating: skimlit_gs_model/skimlit_tribrid_model/\n",
            "   creating: skimlit_gs_model/skimlit_tribrid_model/variables/\n",
            "  inflating: skimlit_gs_model/skimlit_tribrid_model/variables/variables.index  \n",
            "  inflating: skimlit_gs_model/skimlit_tribrid_model/variables/variables.data-00000-of-00001  \n",
            "  inflating: skimlit_gs_model/skimlit_tribrid_model/keras_metadata.pb  \n",
            "  inflating: skimlit_gs_model/skimlit_tribrid_model/saved_model.pb  \n",
            "   creating: skimlit_gs_model/skimlit_tribrid_model/assets/\n"
          ]
        }
      ]
    },
    {
      "cell_type": "code",
      "source": [
        "# load the downloaded model from google storage\n",
        "import tensorflow as tf\n",
        "gs_loaded_model = tf.keras.models.load_model(\"skimlit_gs_model/skimlit_tribrid_model/\")"
      ],
      "metadata": {
        "id": "xrdjZuhSagDM"
      },
      "execution_count": null,
      "outputs": []
    },
    {
      "cell_type": "code",
      "source": [
        "_, _, gs_model_result = give_preds(gs_loaded_model,\n",
        "                                   val_char_token_pos_dataset,\n",
        "                                   val_labels_encoded)\n",
        "gs_model_result"
      ],
      "metadata": {
        "id": "cGtiGLEra-Ci"
      },
      "execution_count": null,
      "outputs": []
    },
    {
      "cell_type": "markdown",
      "source": [
        "## Creating model 6\n",
        "* Conv1D token embedding\n",
        "* Char embedding \n",
        "* line no \n",
        "* total lines "
      ],
      "metadata": {
        "id": "gLEaW8uACIuF"
      }
    },
    {
      "cell_type": "code",
      "source": [
        "import tensorflow as tf\n",
        "from tensorflow.keras import layers\n",
        "\n",
        "# 1. Conv1D token embedding\n",
        "\n",
        "c_inputs = layers.Input(shape=(1,), dtype=tf.string)\n",
        "c_text_vectorizer = text_vectorizar(c_inputs)\n",
        "c_embedding = token_embedding(c_text_vectorizer)\n",
        "conv_1_d = layers.Conv1D(64, kernel_size=3, name=\"conv_token\")(c_embedding)\n",
        "max_pool = layers.GlobalMaxPool1D()(conv_1_d)\n",
        "outputs = layers.Dense(32, activation=\"relu\")(max_pool)\n",
        "c_model = tf.keras.Model(c_inputs, outputs)\n",
        "\n",
        "# 2. setup char input/model\n",
        "char_input = layers.Input(shape=(1,), dtype=tf.string)\n",
        "char_vector = char_vectorizer(char_input)\n",
        "char_embed = char_embedding(char_vector)\n",
        "char_bi_lstm = layers.Bidirectional(layers.LSTM(24))(char_embed)\n",
        "char_model = tf.keras.Model(inputs=char_input, outputs=char_bi_lstm)\n",
        "\n",
        "# 3. Concatenate token and char inputs (create hybrid token embedding)\n",
        "token_char_concatenate = layers.Concatenate(name=\"token_char_concatenate\")([token_model.output,\n",
        "                                                                            char_model.output])\n",
        "\n",
        "# 4. create output layer - adding dropout\n",
        "combined_dropout = layers.Dropout(0.5)(token_char_concatenate)\n",
        "conbined_dense = layers.Dense(128, activation=\"relu\")(combined_dropout)\n",
        "final_dropout = layers.Dropout(0.5)(conbined_dense)\n",
        "output_layer = layers.Dense(5, activation=\"softmax\")(final_dropout)\n",
        "\n",
        "\n",
        "# 5. Construct model with char and token embeddings \n",
        "model_5 = tf.keras.Model(inputs=[token_model.inputs, char_model.inputs], outputs=output_layer, name=\"model_4\")\n"
      ],
      "metadata": {
        "id": "tYfbccNmCj0u"
      },
      "execution_count": null,
      "outputs": []
    }
  ]
}