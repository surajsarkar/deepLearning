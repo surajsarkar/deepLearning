{
  "nbformat": 4,
  "nbformat_minor": 0,
  "metadata": {
    "colab": {
      "provenance": [],
      "authorship_tag": "ABX9TyPwiGKHVeE8AD813P4gquaD",
      "include_colab_link": true
    },
    "kernelspec": {
      "name": "python3",
      "display_name": "Python 3"
    },
    "language_info": {
      "name": "python"
    },
    "accelerator": "GPU"
  },
  "cells": [
    {
      "cell_type": "markdown",
      "metadata": {
        "id": "view-in-github",
        "colab_type": "text"
      },
      "source": [
        "<a href=\"https://colab.research.google.com/github/surajsarkar/deepLearning/blob/main/notebooks/04_transfer_learning_introduction_feature_exrraction.ipynb\" target=\"_parent\"><img src=\"https://colab.research.google.com/assets/colab-badge.svg\" alt=\"Open In Colab\"/></a>"
      ]
    },
    {
      "cell_type": "markdown",
      "source": [
        "# **Transfer Learning**"
      ],
      "metadata": {
        "id": "d8R6a16OYtjK"
      }
    },
    {
      "cell_type": "code",
      "execution_count": null,
      "metadata": {
        "colab": {
          "base_uri": "https://localhost:8080/"
        },
        "id": "J815IKeyYgwv",
        "outputId": "59b5197b-7174-4c73-cb10-5c05d70804c1"
      },
      "outputs": [
        {
          "output_type": "stream",
          "name": "stdout",
          "text": [
            "Mon Jun 13 17:10:05 2022       \n",
            "+-----------------------------------------------------------------------------+\n",
            "| NVIDIA-SMI 460.32.03    Driver Version: 460.32.03    CUDA Version: 11.2     |\n",
            "|-------------------------------+----------------------+----------------------+\n",
            "| GPU  Name        Persistence-M| Bus-Id        Disp.A | Volatile Uncorr. ECC |\n",
            "| Fan  Temp  Perf  Pwr:Usage/Cap|         Memory-Usage | GPU-Util  Compute M. |\n",
            "|                               |                      |               MIG M. |\n",
            "|===============================+======================+======================|\n",
            "|   0  Tesla T4            Off  | 00000000:00:04.0 Off |                    0 |\n",
            "| N/A   42C    P8     9W /  70W |      0MiB / 15109MiB |      0%      Default |\n",
            "|                               |                      |                  N/A |\n",
            "+-------------------------------+----------------------+----------------------+\n",
            "                                                                               \n",
            "+-----------------------------------------------------------------------------+\n",
            "| Processes:                                                                  |\n",
            "|  GPU   GI   CI        PID   Type   Process name                  GPU Memory |\n",
            "|        ID   ID                                                   Usage      |\n",
            "|=============================================================================|\n",
            "|  No running processes found                                                 |\n",
            "+-----------------------------------------------------------------------------+\n"
          ]
        }
      ],
      "source": [
        "# which GPU are we using?\n",
        "\n",
        "!nvidia-smi"
      ]
    },
    {
      "cell_type": "markdown",
      "source": [
        "## **Downliading and becoming one with the data**"
      ],
      "metadata": {
        "id": "CHw0R645aTRq"
      }
    },
    {
      "cell_type": "code",
      "source": [
        "# Downloading the data\n",
        "!wget https://storage.googleapis.com/ztm_tf_course/food_vision/10_food_classes_10_percent.zip\n",
        "\n",
        "# Unzip the file \n",
        "import zipfile \n",
        "\n",
        "zip_ref = zipfile.ZipFile(\"10_food_classes_10_percent.zip\")\n",
        "zip_ref.extractall()\n",
        "zip_ref.close()"
      ],
      "metadata": {
        "colab": {
          "base_uri": "https://localhost:8080/"
        },
        "id": "7J6w2bBwaNrM",
        "outputId": "59da75b7-0367-4bdf-f95d-e06c95d598d4"
      },
      "execution_count": null,
      "outputs": [
        {
          "output_type": "stream",
          "name": "stdout",
          "text": [
            "--2022-06-13 17:10:07--  https://storage.googleapis.com/ztm_tf_course/food_vision/10_food_classes_10_percent.zip\n",
            "Resolving storage.googleapis.com (storage.googleapis.com)... 142.251.10.128, 142.251.12.128, 172.217.194.128, ...\n",
            "Connecting to storage.googleapis.com (storage.googleapis.com)|142.251.10.128|:443... connected.\n",
            "HTTP request sent, awaiting response... 200 OK\n",
            "Length: 168546183 (161M) [application/zip]\n",
            "Saving to: ‘10_food_classes_10_percent.zip’\n",
            "\n",
            "10_food_classes_10_ 100%[===================>] 160.74M  98.2MB/s    in 1.6s    \n",
            "\n",
            "2022-06-13 17:10:09 (98.2 MB/s) - ‘10_food_classes_10_percent.zip’ saved [168546183/168546183]\n",
            "\n"
          ]
        }
      ]
    },
    {
      "cell_type": "markdown",
      "source": [
        "## **Inspact Data**"
      ],
      "metadata": {
        "id": "STodL0HObnL4"
      }
    },
    {
      "cell_type": "code",
      "source": [
        "import os\n",
        "\n",
        "for dirpath, dirname, filename in os.walk(\"10_food_classes_10_percent\"):\n",
        "  print(f\"There are {len(dirname)} directories and {len(filename)} file in {dirpath}\")"
      ],
      "metadata": {
        "colab": {
          "base_uri": "https://localhost:8080/"
        },
        "id": "jnh1h-Aja1GD",
        "outputId": "bf79b59b-0f71-4b43-d85d-1c67aa57a074"
      },
      "execution_count": null,
      "outputs": [
        {
          "output_type": "stream",
          "name": "stdout",
          "text": [
            "There are 2 directories and 0 file in 10_food_classes_10_percent\n",
            "There are 10 directories and 0 file in 10_food_classes_10_percent/test\n",
            "There are 0 directories and 250 file in 10_food_classes_10_percent/test/grilled_salmon\n",
            "There are 0 directories and 250 file in 10_food_classes_10_percent/test/ice_cream\n",
            "There are 0 directories and 250 file in 10_food_classes_10_percent/test/chicken_curry\n",
            "There are 0 directories and 250 file in 10_food_classes_10_percent/test/hamburger\n",
            "There are 0 directories and 250 file in 10_food_classes_10_percent/test/ramen\n",
            "There are 0 directories and 250 file in 10_food_classes_10_percent/test/steak\n",
            "There are 0 directories and 250 file in 10_food_classes_10_percent/test/sushi\n",
            "There are 0 directories and 250 file in 10_food_classes_10_percent/test/chicken_wings\n",
            "There are 0 directories and 250 file in 10_food_classes_10_percent/test/fried_rice\n",
            "There are 0 directories and 250 file in 10_food_classes_10_percent/test/pizza\n",
            "There are 10 directories and 0 file in 10_food_classes_10_percent/train\n",
            "There are 0 directories and 75 file in 10_food_classes_10_percent/train/grilled_salmon\n",
            "There are 0 directories and 75 file in 10_food_classes_10_percent/train/ice_cream\n",
            "There are 0 directories and 75 file in 10_food_classes_10_percent/train/chicken_curry\n",
            "There are 0 directories and 75 file in 10_food_classes_10_percent/train/hamburger\n",
            "There are 0 directories and 75 file in 10_food_classes_10_percent/train/ramen\n",
            "There are 0 directories and 75 file in 10_food_classes_10_percent/train/steak\n",
            "There are 0 directories and 75 file in 10_food_classes_10_percent/train/sushi\n",
            "There are 0 directories and 75 file in 10_food_classes_10_percent/train/chicken_wings\n",
            "There are 0 directories and 75 file in 10_food_classes_10_percent/train/fried_rice\n",
            "There are 0 directories and 75 file in 10_food_classes_10_percent/train/pizza\n"
          ]
        }
      ]
    },
    {
      "cell_type": "markdown",
      "source": [
        "## **Creating data loaders (preparing the data)**"
      ],
      "metadata": {
        "id": "WD6rqj1CdJXS"
      }
    },
    {
      "cell_type": "code",
      "source": [
        "from tensorflow.keras.preprocessing.image import ImageDataGenerator\n",
        "\n",
        "IMAGE_SIZE = (224, 224)\n",
        "BATCH_SIZE = 32\n",
        "\n",
        "train_dir = \"10_food_classes_10_percent/train/\"\n",
        "test_dir = \"10_food_classes_10_percent/test/\"\n",
        "\n",
        "train_datagen = ImageDataGenerator(rescale=1/255.)\n",
        "\n",
        "test_datagen = ImageDataGenerator(rescale=1/255.)\n",
        "\n",
        "print(\"Traning Data:\")\n",
        "train_data_10_percent = train_datagen.flow_from_directory(directory=train_dir,\n",
        "                                                          target_size = IMAGE_SIZE,\n",
        "                                                          batch_size = BATCH_SIZE,\n",
        "                                                          class_mode = \"categorical\",)\n",
        "\n",
        "print(\"Testing Data:\")\n",
        "test_data = test_datagen.flow_from_directory(directory=test_dir,\n",
        "                                             target_size=IMAGE_SIZE,\n",
        "                                             batch_size=BATCH_SIZE,\n",
        "                                             class_mode=\"categorical\")"
      ],
      "metadata": {
        "colab": {
          "base_uri": "https://localhost:8080/"
        },
        "id": "NHlp53SDcHs4",
        "outputId": "b84869cb-1f25-4b6c-b491-38a650b5eeeb"
      },
      "execution_count": null,
      "outputs": [
        {
          "output_type": "stream",
          "name": "stdout",
          "text": [
            "Traning Data:\n",
            "Found 750 images belonging to 10 classes.\n",
            "Testing Data:\n",
            "Found 2500 images belonging to 10 classes.\n"
          ]
        }
      ]
    },
    {
      "cell_type": "markdown",
      "source": [
        "## **Setting up callback (things to run wilst our model trains)**\n",
        "\n",
        "Callbacks are extra functionality which you can run to your models to performed during or after training. Some of the popular callbacks are: \n",
        "\n",
        "* Tracking experiments with TensorBoard Callback.\n",
        "* Model checkpoint with ModelCheckpoint Callback.\n",
        "* Stoping model from traning(before it trains too long and overfits) with EarlyStopping Callback."
      ],
      "metadata": {
        "id": "-KXeRcCYg_PK"
      }
    },
    {
      "cell_type": "code",
      "source": [
        "import tensorflow as tf"
      ],
      "metadata": {
        "id": "epd82V6WmesK"
      },
      "execution_count": null,
      "outputs": []
    },
    {
      "cell_type": "code",
      "source": [
        "# Create a tensorboard callback \n",
        "\n",
        "import datetime\n",
        "\n",
        "def create_tensorboard_callback(dir_name, experiment_name):\n",
        "  log_dir = dir_name + \"/\" + experiment_name + \"/\" + datetime.datetime.now().strftime(\"%y%m%d-%H%M%S\")\n",
        "\n",
        "  tensorflow_callback = tf.keras.callbacks.TensorBoard(log_dir=log_dir)\n",
        "  print(f\"Saving Tensorflow log file to {log_dir}\")\n",
        "\n",
        "  return tensorflow_callback"
      ],
      "metadata": {
        "id": "c5nLOvSWdj3j"
      },
      "execution_count": null,
      "outputs": []
    },
    {
      "cell_type": "markdown",
      "source": [
        "## **Creating model using Tensorflow Hub**"
      ],
      "metadata": {
        "id": "aC4hFw5T4M-F"
      }
    },
    {
      "cell_type": "code",
      "source": [
        "resnet_url = \"https://tfhub.dev/google/imagenet/resnet_v2_50/feature_vector/4\"\n",
        "\n",
        "efficientnet_url = \"https://tfhub.dev/tensorflow/efficientnet/b0/feature-vector/1\"\n"
      ],
      "metadata": {
        "id": "3IevvgAkm-dK"
      },
      "execution_count": null,
      "outputs": []
    },
    {
      "cell_type": "code",
      "source": [
        "# Import Dependencies \n",
        "import tensorflow as tf\n",
        "import tensorflow_hub as hub \n",
        "from tensorflow.keras import layers"
      ],
      "metadata": {
        "id": "bo8sGFJa4_i9"
      },
      "execution_count": null,
      "outputs": []
    },
    {
      "cell_type": "code",
      "source": [
        "# Let's make a create_model() function to create a model from url.\n",
        "def create_model(model_url, num_classes=10):\n",
        "\n",
        "  # Download the pretrained model and save it as a Keras layer \n",
        "  feature_extractor_layer = hub.KerasLayer(model_url, \n",
        "                                           trainable=False, # freeze the already trained pattern\n",
        "                                           name=\"feature_extraction_layer\",\n",
        "                                           input_shape=IMAGE_SIZE + (3,))\n",
        "  \n",
        "  # Create our own model \n",
        "  model = tf.keras.Sequential([\n",
        "    feature_extractor_layer,\n",
        "    layers.Dense(num_classes, activation=\"softmax\", name=\"output_layer\")\n",
        "  ])\n",
        "  \n",
        "  return model"
      ],
      "metadata": {
        "id": "GEmEj6tk4it2"
      },
      "execution_count": null,
      "outputs": []
    },
    {
      "cell_type": "markdown",
      "source": [
        "### **Creating and testing ResNet Tesnsorflow Hub Feature Extraction Model**"
      ],
      "metadata": {
        "id": "hr7_Yzf69WY1"
      }
    },
    {
      "cell_type": "code",
      "source": [
        "# Creating a resnet model \n",
        "resnet_model = create_model(model_url = resnet_url, num_classes=train_data_10_percent.num_classes)"
      ],
      "metadata": {
        "id": "HHsh__pl48UG"
      },
      "execution_count": null,
      "outputs": []
    },
    {
      "cell_type": "code",
      "source": [
        "# Compile our resnet model \n",
        "resnet_model.compile(\n",
        "    loss=\"categorical_crossentropy\",\n",
        "    optimizer=tf.keras.optimizers.Adam(),\n",
        "    metrics=[\"accuracy\"]\n",
        ")"
      ],
      "metadata": {
        "id": "z-mFnwln97R3"
      },
      "execution_count": null,
      "outputs": []
    },
    {
      "cell_type": "code",
      "source": [
        "# Fit a model \n",
        "history_resnet = resnet_model.fit(train_data_10_percent,\n",
        "                 epochs=5,\n",
        "                 steps_per_epoch=len(train_data_10_percent),\n",
        "                 validation_data=test_data,\n",
        "                 validation_steps=len(test_data),\n",
        "                 callbacks=[create_tensorboard_callback(\"tensorflow_hub\", \"resnet50V2\")])"
      ],
      "metadata": {
        "colab": {
          "base_uri": "https://localhost:8080/"
        },
        "id": "ETO6vSyd-eLX",
        "outputId": "06909b36-da7d-4c3f-fbdc-a044108b9978"
      },
      "execution_count": null,
      "outputs": [
        {
          "output_type": "stream",
          "name": "stdout",
          "text": [
            "Saving Tensorflow log file to tensorflow_hub/resnet50V2/220613-171026\n",
            "Epoch 1/5\n",
            "24/24 [==============================] - 32s 742ms/step - loss: 1.9062 - accuracy: 0.3840 - val_loss: 1.2153 - val_accuracy: 0.6272\n",
            "Epoch 2/5\n",
            "24/24 [==============================] - 16s 694ms/step - loss: 0.9217 - accuracy: 0.7333 - val_loss: 0.8274 - val_accuracy: 0.7372\n",
            "Epoch 3/5\n",
            "24/24 [==============================] - 15s 661ms/step - loss: 0.6308 - accuracy: 0.8200 - val_loss: 0.7628 - val_accuracy: 0.7544\n",
            "Epoch 4/5\n",
            "24/24 [==============================] - 15s 664ms/step - loss: 0.4851 - accuracy: 0.8813 - val_loss: 0.7075 - val_accuracy: 0.7600\n",
            "Epoch 5/5\n",
            "24/24 [==============================] - 16s 666ms/step - loss: 0.3886 - accuracy: 0.9120 - val_loss: 0.6702 - val_accuracy: 0.7744\n"
          ]
        }
      ]
    },
    {
      "cell_type": "code",
      "source": [
        "resnet_model.summary()"
      ],
      "metadata": {
        "colab": {
          "base_uri": "https://localhost:8080/"
        },
        "id": "A8dGOcL5-_h7",
        "outputId": "7baf8f69-75fa-44db-8e74-e68a18112c15"
      },
      "execution_count": null,
      "outputs": [
        {
          "output_type": "stream",
          "name": "stdout",
          "text": [
            "Model: \"sequential\"\n",
            "_________________________________________________________________\n",
            " Layer (type)                Output Shape              Param #   \n",
            "=================================================================\n",
            " feature_extraction_layer (K  (None, 2048)             23564800  \n",
            " erasLayer)                                                      \n",
            "                                                                 \n",
            " output_layer (Dense)        (None, 10)                20490     \n",
            "                                                                 \n",
            "=================================================================\n",
            "Total params: 23,585,290\n",
            "Trainable params: 20,490\n",
            "Non-trainable params: 23,564,800\n",
            "_________________________________________________________________\n"
          ]
        }
      ]
    },
    {
      "cell_type": "code",
      "source": [
        "import pandas as pd\n",
        "\n",
        "pd.DataFrame(history_resnet.history)"
      ],
      "metadata": {
        "colab": {
          "base_uri": "https://localhost:8080/",
          "height": 206
        },
        "id": "OsX23MyCNkXI",
        "outputId": "24856553-a295-408a-c4f4-07132c4f5829"
      },
      "execution_count": null,
      "outputs": [
        {
          "output_type": "execute_result",
          "data": {
            "text/plain": [
              "       loss  accuracy  val_loss  val_accuracy\n",
              "0  1.906208  0.384000  1.215304        0.6272\n",
              "1  0.921738  0.733333  0.827403        0.7372\n",
              "2  0.630813  0.820000  0.762832        0.7544\n",
              "3  0.485091  0.881333  0.707515        0.7600\n",
              "4  0.388591  0.912000  0.670174        0.7744"
            ],
            "text/html": [
              "\n",
              "  <div id=\"df-682187f3-58b4-460e-a06b-44fd56cb699e\">\n",
              "    <div class=\"colab-df-container\">\n",
              "      <div>\n",
              "<style scoped>\n",
              "    .dataframe tbody tr th:only-of-type {\n",
              "        vertical-align: middle;\n",
              "    }\n",
              "\n",
              "    .dataframe tbody tr th {\n",
              "        vertical-align: top;\n",
              "    }\n",
              "\n",
              "    .dataframe thead th {\n",
              "        text-align: right;\n",
              "    }\n",
              "</style>\n",
              "<table border=\"1\" class=\"dataframe\">\n",
              "  <thead>\n",
              "    <tr style=\"text-align: right;\">\n",
              "      <th></th>\n",
              "      <th>loss</th>\n",
              "      <th>accuracy</th>\n",
              "      <th>val_loss</th>\n",
              "      <th>val_accuracy</th>\n",
              "    </tr>\n",
              "  </thead>\n",
              "  <tbody>\n",
              "    <tr>\n",
              "      <th>0</th>\n",
              "      <td>1.906208</td>\n",
              "      <td>0.384000</td>\n",
              "      <td>1.215304</td>\n",
              "      <td>0.6272</td>\n",
              "    </tr>\n",
              "    <tr>\n",
              "      <th>1</th>\n",
              "      <td>0.921738</td>\n",
              "      <td>0.733333</td>\n",
              "      <td>0.827403</td>\n",
              "      <td>0.7372</td>\n",
              "    </tr>\n",
              "    <tr>\n",
              "      <th>2</th>\n",
              "      <td>0.630813</td>\n",
              "      <td>0.820000</td>\n",
              "      <td>0.762832</td>\n",
              "      <td>0.7544</td>\n",
              "    </tr>\n",
              "    <tr>\n",
              "      <th>3</th>\n",
              "      <td>0.485091</td>\n",
              "      <td>0.881333</td>\n",
              "      <td>0.707515</td>\n",
              "      <td>0.7600</td>\n",
              "    </tr>\n",
              "    <tr>\n",
              "      <th>4</th>\n",
              "      <td>0.388591</td>\n",
              "      <td>0.912000</td>\n",
              "      <td>0.670174</td>\n",
              "      <td>0.7744</td>\n",
              "    </tr>\n",
              "  </tbody>\n",
              "</table>\n",
              "</div>\n",
              "      <button class=\"colab-df-convert\" onclick=\"convertToInteractive('df-682187f3-58b4-460e-a06b-44fd56cb699e')\"\n",
              "              title=\"Convert this dataframe to an interactive table.\"\n",
              "              style=\"display:none;\">\n",
              "        \n",
              "  <svg xmlns=\"http://www.w3.org/2000/svg\" height=\"24px\"viewBox=\"0 0 24 24\"\n",
              "       width=\"24px\">\n",
              "    <path d=\"M0 0h24v24H0V0z\" fill=\"none\"/>\n",
              "    <path d=\"M18.56 5.44l.94 2.06.94-2.06 2.06-.94-2.06-.94-.94-2.06-.94 2.06-2.06.94zm-11 1L8.5 8.5l.94-2.06 2.06-.94-2.06-.94L8.5 2.5l-.94 2.06-2.06.94zm10 10l.94 2.06.94-2.06 2.06-.94-2.06-.94-.94-2.06-.94 2.06-2.06.94z\"/><path d=\"M17.41 7.96l-1.37-1.37c-.4-.4-.92-.59-1.43-.59-.52 0-1.04.2-1.43.59L10.3 9.45l-7.72 7.72c-.78.78-.78 2.05 0 2.83L4 21.41c.39.39.9.59 1.41.59.51 0 1.02-.2 1.41-.59l7.78-7.78 2.81-2.81c.8-.78.8-2.07 0-2.86zM5.41 20L4 18.59l7.72-7.72 1.47 1.35L5.41 20z\"/>\n",
              "  </svg>\n",
              "      </button>\n",
              "      \n",
              "  <style>\n",
              "    .colab-df-container {\n",
              "      display:flex;\n",
              "      flex-wrap:wrap;\n",
              "      gap: 12px;\n",
              "    }\n",
              "\n",
              "    .colab-df-convert {\n",
              "      background-color: #E8F0FE;\n",
              "      border: none;\n",
              "      border-radius: 50%;\n",
              "      cursor: pointer;\n",
              "      display: none;\n",
              "      fill: #1967D2;\n",
              "      height: 32px;\n",
              "      padding: 0 0 0 0;\n",
              "      width: 32px;\n",
              "    }\n",
              "\n",
              "    .colab-df-convert:hover {\n",
              "      background-color: #E2EBFA;\n",
              "      box-shadow: 0px 1px 2px rgba(60, 64, 67, 0.3), 0px 1px 3px 1px rgba(60, 64, 67, 0.15);\n",
              "      fill: #174EA6;\n",
              "    }\n",
              "\n",
              "    [theme=dark] .colab-df-convert {\n",
              "      background-color: #3B4455;\n",
              "      fill: #D2E3FC;\n",
              "    }\n",
              "\n",
              "    [theme=dark] .colab-df-convert:hover {\n",
              "      background-color: #434B5C;\n",
              "      box-shadow: 0px 1px 3px 1px rgba(0, 0, 0, 0.15);\n",
              "      filter: drop-shadow(0px 1px 2px rgba(0, 0, 0, 0.3));\n",
              "      fill: #FFFFFF;\n",
              "    }\n",
              "  </style>\n",
              "\n",
              "      <script>\n",
              "        const buttonEl =\n",
              "          document.querySelector('#df-682187f3-58b4-460e-a06b-44fd56cb699e button.colab-df-convert');\n",
              "        buttonEl.style.display =\n",
              "          google.colab.kernel.accessAllowed ? 'block' : 'none';\n",
              "\n",
              "        async function convertToInteractive(key) {\n",
              "          const element = document.querySelector('#df-682187f3-58b4-460e-a06b-44fd56cb699e');\n",
              "          const dataTable =\n",
              "            await google.colab.kernel.invokeFunction('convertToInteractive',\n",
              "                                                     [key], {});\n",
              "          if (!dataTable) return;\n",
              "\n",
              "          const docLinkHtml = 'Like what you see? Visit the ' +\n",
              "            '<a target=\"_blank\" href=https://colab.research.google.com/notebooks/data_table.ipynb>data table notebook</a>'\n",
              "            + ' to learn more about interactive tables.';\n",
              "          element.innerHTML = '';\n",
              "          dataTable['output_type'] = 'display_data';\n",
              "          await google.colab.output.renderOutput(dataTable, element);\n",
              "          const docLink = document.createElement('div');\n",
              "          docLink.innerHTML = docLinkHtml;\n",
              "          element.appendChild(docLink);\n",
              "        }\n",
              "      </script>\n",
              "    </div>\n",
              "  </div>\n",
              "  "
            ]
          },
          "metadata": {},
          "execution_count": 15
        }
      ]
    },
    {
      "cell_type": "code",
      "source": [
        "pd.DataFrame(history_resnet.history[\"loss\"]).shape"
      ],
      "metadata": {
        "colab": {
          "base_uri": "https://localhost:8080/"
        },
        "id": "3l9zlLGrPshD",
        "outputId": "8df21204-4d78-43a4-c9bc-9a85f6ce4730"
      },
      "execution_count": null,
      "outputs": [
        {
          "output_type": "execute_result",
          "data": {
            "text/plain": [
              "(5, 1)"
            ]
          },
          "metadata": {},
          "execution_count": 16
        }
      ]
    },
    {
      "cell_type": "code",
      "source": [
        "type(history_resnet)"
      ],
      "metadata": {
        "colab": {
          "base_uri": "https://localhost:8080/"
        },
        "id": "Dl9JkFsTRcma",
        "outputId": "1f8d6cbe-76a4-480f-cf92-c92aa1196441"
      },
      "execution_count": null,
      "outputs": [
        {
          "output_type": "execute_result",
          "data": {
            "text/plain": [
              "keras.callbacks.History"
            ]
          },
          "metadata": {},
          "execution_count": 17
        }
      ]
    },
    {
      "cell_type": "code",
      "source": [
        "# Let's create a function to create our loss curve.\n",
        "import pandas as pd \n",
        "import matplotlib.pyplot as plt\n",
        "\n",
        "def plot_history(history):\n",
        "  \"\"\"\n",
        "  Args:\n",
        "    history (type: keras.callbacks.History) -> Which you want to plot.\n",
        "  \"\"\"\n",
        "  history_data = history.history\n",
        "  # Taking each column\n",
        "  loss = history_data[\"loss\"]\n",
        "  val_loss = history_data[\"val_loss\"]\n",
        "\n",
        "  accuracy = history_data[\"accuracy\"]\n",
        "  val_accuracy = history_data[\"val_accuracy\"]\n",
        "\n",
        "  epochs = range(len(loss))\n",
        "\n",
        "  # Plotting accuracy\n",
        "  plt.figure(figsize = (10, 7))\n",
        "  plt.plot(epochs, accuracy, label=\"accuracy\")\n",
        "  plt.plot(epochs, val_accuracy, label=\"val_accuracy\")\n",
        "  plt.title(\"Accuracy\")\n",
        "  plt.legend()\n",
        "\n",
        "  # plotting loss\n",
        "  plt.figure(figsize = (10, 7))\n",
        "  plt.plot(epochs, loss, label='loss')\n",
        "  plt.plot(epochs, val_loss, label=\"val_loss\")\n",
        "  plt.title(\"Loss\")\n",
        "  plt.legend()\n"
      ],
      "metadata": {
        "id": "Xe07C7caAv8y"
      },
      "execution_count": null,
      "outputs": []
    },
    {
      "cell_type": "code",
      "source": [
        "plot_history(history_resnet)"
      ],
      "metadata": {
        "colab": {
          "base_uri": "https://localhost:8080/",
          "height": 871
        },
        "id": "ja9yAIOfPY5u",
        "outputId": "0f37812c-f2f7-4644-b50e-0609cf22e51f"
      },
      "execution_count": null,
      "outputs": [
        {
          "output_type": "display_data",
          "data": {
            "text/plain": [
              "<Figure size 720x504 with 1 Axes>"
            ],
            "image/png": "[encoded data removed]"
          },
          "metadata": {
            "needs_background": "light"
          }
        },
        {
          "output_type": "display_data",
          "data": {
            "text/plain": [
              "<Figure size 720x504 with 1 Axes>"
            ],
            "image/png": "[encoded data removed]"
          },
          "metadata": {
            "needs_background": "light"
          }
        }
      ]
    },
    {
      "cell_type": "markdown",
      "source": [
        "### **Creating and testing Efficientnet Tesnsorflow Hub Feature Extraction Model**"
      ],
      "metadata": {
        "id": "nPTQFaDTUFhk"
      }
    },
    {
      "cell_type": "code",
      "source": [
        "# Create a model\n",
        "efficientnet_model = create_model(efficientnet_url, train_data_10_percent.num_classes)"
      ],
      "metadata": {
        "id": "bA2J5dngPc-S"
      },
      "execution_count": null,
      "outputs": []
    },
    {
      "cell_type": "code",
      "source": [
        "# Compile a model \n",
        "efficientnet_model.compile(\n",
        "    loss=\"categorical_crossentropy\",\n",
        "    optimizer=tf.keras.optimizers.Adam(),\n",
        "    metrics=[\"accuracy\"],\n",
        ")"
      ],
      "metadata": {
        "id": "7ndH6JnWUpMD"
      },
      "execution_count": null,
      "outputs": []
    },
    {
      "cell_type": "code",
      "source": [
        "# Fit a model\n",
        "history_efficientnet = efficientnet_model.fit(train_data_10_percent,\n",
        "                       epochs=5,\n",
        "                       steps_per_epoch=len(train_data_10_percent),\n",
        "                       validation_data=test_data,\n",
        "                       validation_steps=len(test_data),\n",
        "                       callbacks=[create_tensorboard_callback(\"tensorflow_hub\", \"effcientnetb0\")])"
      ],
      "metadata": {
        "colab": {
          "base_uri": "https://localhost:8080/"
        },
        "id": "FSpMUvGyVa4W",
        "outputId": "f58f4ae4-2248-4328-fe81-afa24b66090b"
      },
      "execution_count": null,
      "outputs": [
        {
          "output_type": "stream",
          "name": "stdout",
          "text": [
            "Saving Tensorflow log file to tensorflow_hub/effcientnetb0/220613-171212\n",
            "Epoch 1/5\n",
            "24/24 [==============================] - 26s 713ms/step - loss: 1.8214 - accuracy: 0.4587 - val_loss: 1.2699 - val_accuracy: 0.7252\n",
            "Epoch 2/5\n",
            "24/24 [==============================] - 15s 648ms/step - loss: 1.0410 - accuracy: 0.7613 - val_loss: 0.8604 - val_accuracy: 0.8060\n",
            "Epoch 3/5\n",
            "24/24 [==============================] - 15s 651ms/step - loss: 0.7517 - accuracy: 0.8307 - val_loss: 0.6948 - val_accuracy: 0.8376\n",
            "Epoch 4/5\n",
            "24/24 [==============================] - 15s 651ms/step - loss: 0.6055 - accuracy: 0.8693 - val_loss: 0.6108 - val_accuracy: 0.8488\n",
            "Epoch 5/5\n",
            "24/24 [==============================] - 15s 641ms/step - loss: 0.5127 - accuracy: 0.8907 - val_loss: 0.5578 - val_accuracy: 0.8588\n"
          ]
        }
      ]
    },
    {
      "cell_type": "code",
      "source": [
        "# Plot efficientnet history\n",
        "plot_history(history_efficientnet)"
      ],
      "metadata": {
        "colab": {
          "base_uri": "https://localhost:8080/",
          "height": 871
        },
        "id": "zGNQBtz_WBLJ",
        "outputId": "81b32580-2ed7-46df-df8c-fe05e18787cd"
      },
      "execution_count": null,
      "outputs": [
        {
          "output_type": "display_data",
          "data": {
            "text/plain": [
              "<Figure size 720x504 with 1 Axes>"
            ],
            "image/png": "[encoded data removed]"
          },
          "metadata": {
            "needs_background": "light"
          }
        },
        {
          "output_type": "display_data",
          "data": {
            "text/plain": [
              "<Figure size 720x504 with 1 Axes>"
            ],
            "image/png": "[encoded data removed]"
          },
          "metadata": {
            "needs_background": "light"
          }
        }
      ]
    },
    {
      "cell_type": "markdown",
      "source": [
        "## **Comparing our model with the help of `TensorBoard`**"
      ],
      "metadata": {
        "id": "YZUrgZjBCd9K"
      }
    },
    {
      "cell_type": "code",
      "source": [
        "# Upload our model to tensorboard.dev\n",
        "!tensorboard dev upload --logdir ./tensorflow_hub/ \\\n",
        " --name \"EfficientNetB0 vs. ResNet50V2\" \\\n",
        " --description \"Comparing our two feature extractor model from tensorflow_hub\" \\\n",
        " --one_shot"
      ],
      "metadata": {
        "id": "k084iwlAWa7q"
      },
      "execution_count": null,
      "outputs": []
    },
    {
      "cell_type": "markdown",
      "source": [
        "Our TensorBoard Experiment is publicly available here. https://tensorboard.dev/experiment/4t0PWC6bRvqzwkYMi7L7hw/"
      ],
      "metadata": {
        "id": "pJRPrlEfG0yx"
      }
    },
    {
      "cell_type": "code",
      "source": [
        "# Check all of our experiment in tensorboard \n",
        "!tensorboard dev list"
      ],
      "metadata": {
        "colab": {
          "base_uri": "https://localhost:8080/"
        },
        "id": "EK0rhVEiGOW8",
        "outputId": "a34100dc-f7d6-4450-abfa-5dafbe07452a"
      },
      "execution_count": null,
      "outputs": [
        {
          "output_type": "stream",
          "name": "stdout",
          "text": [
            "https://tensorboard.dev/experiment/4t0PWC6bRvqzwkYMi7L7hw/\n",
            "\tName                 EfficientNetB0 vs. ResNet50V2\n",
            "\tDescription          Comparing our two feature extractor model from tensorflow_hub\n",
            "\tId                   4t0PWC6bRvqzwkYMi7L7hw\n",
            "\tCreated              2022-06-13 17:26:22 (7 minutes ago)\n",
            "\tUpdated              2022-06-13 17:26:26 (7 minutes ago)\n",
            "\tRuns                 4\n",
            "\tTags                 5\n",
            "\tScalars              60\n",
            "\tTensor bytes         0\n",
            "\tBinary object bytes  5918538\n",
            "Total: 1 experiment(s)\n"
          ]
        }
      ]
    },
    {
      "cell_type": "code",
      "source": [
        "# Delete an uploaded experiment in tensorboard\n",
        "\n",
        "# !tensorboard dev delete --experiment_id 4t0PWC6bRvqzwkYMi7L7hw"
      ],
      "metadata": {
        "id": "mNz6MLvDIKon"
      },
      "execution_count": null,
      "outputs": []
    }
  ]
}